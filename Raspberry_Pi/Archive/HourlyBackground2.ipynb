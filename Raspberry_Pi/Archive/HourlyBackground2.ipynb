{
 "cells": [
  {
   "cell_type": "code",
   "execution_count": 1,
   "id": "c01c0f5c-42bd-44bd-a4c0-12da10750766",
   "metadata": {},
   "outputs": [
    {
     "name": "stdout",
     "output_type": "stream",
     "text": [
      "Done\n"
     ]
    }
   ],
   "source": [
    "from picamera2 import Picamera2\n",
    "from libcamera import controls\n",
    "from time import sleep, time\n",
    "from datetime import datetime, date\n",
    "from PIL import Image\n",
    "import numpy as np\n",
    "import os\n",
    "os.environ[\"LIBCAMERA_LOG_LEVELS\"] = \"2\"\n",
    "import matplotlib.pyplot as plt\n",
    "%matplotlib inline\n",
    "import warnings\n",
    "warnings.filterwarnings('ignore')\n",
    "\n",
    "print(\"Done\")"
   ]
  },
  {
   "cell_type": "code",
   "execution_count": null,
   "id": "e068d5d8-b821-4aa5-8b7f-8afa76a6f065",
   "metadata": {},
   "outputs": [
    {
     "name": "stderr",
     "output_type": "stream",
     "text": [
      "[0:11:06.431043203] [2047] \u001b[1;33m WARN \u001b[1;37mRPI \u001b[1;34mvc4.cpp:383 \u001b[0mMismatch between Unicam and CamHelper for embedded data usage!\n"
     ]
    }
   ],
   "source": [
    "tuning = Picamera2.load_tuning_file(\"/usr/share/libcamera/ipa/rpi/vc4/imx708_noir.json\")\n",
    "camera = Picamera2(tuning=tuning)\n",
    "capture_config = camera.create_still_configuration(main = {\"size\": (3200,2404)})\n",
    "camera.configure(capture_config)\n",
    "camera.start()\n",
    "\n",
    "# Give time to settle before changing settings\n",
    "sleep(1)\n",
    "camera.set_controls({\"AfMode\": controls.AfModeEnum.Manual, \"LensPosition\": 0.5, \"FrameRate\": 1.0})\n",
    "# Wait for settings to take effect\n",
    "sleep(1)\n",
    "\n",
    "while True:\n",
    "    current_datetime = datetime.now()\n",
    "    current_hour = int(current_datetime.strftime(\"%H\"))\n",
    "    if 8 <= current_hour <= 18:\n",
    "        current_filename = \"Images/image\" + current_datetime.strftime(\"_%y-%m-%d_%H_%M_%S\") + \".png\"\n",
    "        image = camera.capture_array()\n",
    "        im = Image.fromarray(image)\n",
    "        im.save(current_filename)\n",
    "        sleep(3600)\n",
    "    else:\n",
    "        sleep(600)"
   ]
  },
  {
   "cell_type": "code",
   "execution_count": null,
   "id": "9d10b2ed-7a85-4ef3-914e-45df491b32b1",
   "metadata": {},
   "outputs": [],
   "source": []
  }
 ],
 "metadata": {
  "kernelspec": {
   "display_name": "Python 3 (ipykernel)",
   "language": "python",
   "name": "python3"
  },
  "language_info": {
   "codemirror_mode": {
    "name": "ipython",
    "version": 3
   },
   "file_extension": ".py",
   "mimetype": "text/x-python",
   "name": "python",
   "nbconvert_exporter": "python",
   "pygments_lexer": "ipython3",
   "version": "3.9.2"
  }
 },
 "nbformat": 4,
 "nbformat_minor": 5
}
