{
 "cells": [
  {
   "cell_type": "markdown",
   "metadata": {
    "id": "rOvvWAVTkMR7"
   },
   "source": [
    "# GEORGE Contact Sheet\n",
    "Gradient-Effected Object Recognition Gauge for hive Entrances (GEORGE)"
   ]
  },
  {
   "cell_type": "markdown",
   "metadata": {
    "id": "vPs64QA1Zdov"
   },
   "source": [
    "## Imports"
   ]
  },
  {
   "cell_type": "code",
   "execution_count": 1,
   "metadata": {
    "id": "uZcqD4NLdnf4",
    "vscode": {
     "languageId": "python"
    }
   },
   "outputs": [
    {
     "data": {
      "text/html": [
       "        <script type=\"text/javascript\">\n",
       "        window.PlotlyConfig = {MathJaxConfig: 'local'};\n",
       "        if (window.MathJax && window.MathJax.Hub && window.MathJax.Hub.Config) {window.MathJax.Hub.Config({SVG: {font: \"STIX-Web\"}});}\n",
       "        if (typeof require !== 'undefined') {\n",
       "        require.undef(\"plotly\");\n",
       "        requirejs.config({\n",
       "            paths: {\n",
       "                'plotly': ['https://cdn.plot.ly/plotly-2.12.1.min']\n",
       "            }\n",
       "        });\n",
       "        require(['plotly'], function(Plotly) {\n",
       "            window._Plotly = Plotly;\n",
       "        });\n",
       "        }\n",
       "        </script>\n",
       "        "
      ]
     },
     "metadata": {},
     "output_type": "display_data"
    },
    {
     "name": "stdout",
     "output_type": "stream",
     "text": [
      "Done\n"
     ]
    }
   ],
   "source": [
    "import os\n",
    "import pathlib\n",
    "import matplotlib\n",
    "import matplotlib.pyplot as plt\n",
    "from matplotlib import cm\n",
    "\n",
    "from os import listdir\n",
    "from os.path import isfile, join\n",
    "import random\n",
    "import io\n",
    "import imageio\n",
    "import glob\n",
    "import imutils\n",
    "import cv2\n",
    "import scipy\n",
    "import numpy as np\n",
    "from six import BytesIO\n",
    "from PIL import Image, ImageDraw, ImageFont\n",
    "from IPython.display import display, Javascript\n",
    "from IPython.display import Image as IPyImage\n",
    "from tqdm import tqdm\n",
    "import time\n",
    "import math\n",
    "\n",
    "import pandas as pd\n",
    "import sys\n",
    "\n",
    "import skimage\n",
    "import skimage.io\n",
    "import skimage.transform\n",
    "from skimage import io, transform\n",
    "import seaborn as sns\n",
    "import plotly.graph_objs as go\n",
    "import plotly.figure_factory as ff\n",
    "from plotly import tools\n",
    "\n",
    "from sklearn.model_selection import train_test_split\n",
    "from sklearn import metrics\n",
    "\n",
    "from plotly.offline import download_plotlyjs, init_notebook_mode, plot, iplot\n",
    "init_notebook_mode(connected=True)\n",
    "import warnings\n",
    "warnings.filterwarnings(\"ignore\", category=DeprecationWarning)\n",
    "\n",
    "import GEORGE_Library as GEORGE\n",
    "%matplotlib inline\n",
    "\n",
    "print(\"Done\")"
   ]
  },
  {
   "cell_type": "markdown",
   "metadata": {},
   "source": [
    "## Define global variables"
   ]
  },
  {
   "cell_type": "code",
   "execution_count": 2,
   "metadata": {
    "_kg_hide-input": true,
    "_uuid": "a2082fb1e56fc6cfc91d40820b905267bc1ca468",
    "tags": []
   },
   "outputs": [
    {
     "name": "stdout",
     "output_type": "stream",
     "text": [
      "Done\n"
     ]
    }
   ],
   "source": [
    "Yang_Model = 1\n",
    "PollenDataset = 1\n",
    "BeeAlarmed = 0\n",
    "\n",
    "category_index = {1: {'id': 1, 'name': 'regular'}, 2: {'id': 2, 'name': 'cooling'}, 3: {'id': 3, 'name': 'pollen'}, 4: {'id': 4, 'name': 'varroa'}, 5: {'id': 5, 'name': 'wasps'}}\n",
    "IMAGE_PATH = 'Yang Model Training/bee_imgs/bee_imgs/'\n",
    "IMAGE_WIDTH = 75\n",
    "IMAGE_HEIGHT = 150\n",
    "IMAGE_CHANNELS = 3\n",
    "NUM_IMAGES = 20\n",
    "EX_SUB = False\n",
    "RANDOM_STATE = 2018\n",
    "TEST_SIZE = 0.2\n",
    "VAL_SIZE = 0.2\n",
    "CONV_2D_DIM_1 = 16\n",
    "CONV_2D_DIM_2 = 16\n",
    "CONV_2D_DIM_3 = 32\n",
    "CONV_2D_DIM_4 = 64\n",
    "MAX_POOL_DIM = 2\n",
    "KERNEL_SIZE = 3\n",
    "BATCH_SIZE = 32\n",
    "NO_EPOCHS_1 = 5\n",
    "NO_EPOCHS_2 = 10\n",
    "NO_EPOCHS_3 = 50\n",
    "PATIENCE = 5\n",
    "VERBOSE = 1\n",
    "\n",
    "path=\"PollenDataset/images/\"\n",
    "imlist= glob.glob(os.path.join(path, '*.jpg'))\n",
    "\n",
    "print(\"Done\")"
   ]
  },
  {
   "cell_type": "markdown",
   "metadata": {},
   "source": [
    "### Yang Model"
   ]
  },
  {
   "cell_type": "code",
   "execution_count": 68,
   "metadata": {
    "tags": []
   },
   "outputs": [
    {
     "name": "stdout",
     "output_type": "stream",
     "text": [
      "Training set: 4137, Validation set: 1035\n"
     ]
    }
   ],
   "source": [
    "honey_bee_df = pd.read_csv('Yang Model Training/bee_data.csv')\n",
    "honey_bee_df = honey_bee_df.replace({'location':'Athens, Georgia, USA'}, 'Athens, GA, USA')\n",
    "\n",
    "train_df, val_df = train_test_split(honey_bee_df, test_size=VAL_SIZE, stratify=honey_bee_df['health'])\n",
    "\n",
    "YM_img_train, YM_label_train = GEORGE.categories_encoder(train_df, var = 'health')\n",
    "_, YM_label_train_pollen = GEORGE.categories_encoder(train_df, var = 'pollen_carrying')\n",
    "YM_img_val, YM_label_val = GEORGE.categories_encoder(val_df, var = 'health')\n",
    "_, YM_label_val_pollen = GEORGE.categories_encoder(val_df, var = 'pollen_carrying')\n",
    "\n",
    "YM_label_train_health_temp = YM_label_train.drop(['hive being robbed', 'missing queen', 'ant problems'], axis=1)\n",
    "YM_label_train_health_temp['Varroa, Small Hive Beetles'] = YM_label_train_health_temp['Varroa, Small Hive Beetles'] + YM_label_train_health_temp['few varrao, hive beetles']\n",
    "YM_label_train_health_temp = YM_label_train_health_temp.drop(['few varrao, hive beetles'], axis=1)\n",
    "YM_label_train_health_temp = np.array(YM_label_train_health_temp['Varroa, Small Hive Beetles']).astype('uint8')\n",
    "\n",
    "YM_label_train_pollen_temp = YM_label_train_pollen.drop(YM_label_train_pollen.keys()[0], axis=1)\n",
    "YM_label_train_pollen_temp = np.array(YM_label_train_pollen_temp.T).astype('uint8')[0]\n",
    "\n",
    "new_YM_label_train = []\n",
    "new_YM_label_val = []\n",
    "\n",
    "assert(len(YM_label_train_health_temp) == len(YM_label_train_pollen_temp))\n",
    "for i in range(len(YM_label_train_health_temp)):\n",
    "    temp_health = []\n",
    "    temp_pollen = []\n",
    "    if YM_label_train_health_temp[i] == 0:\n",
    "        temp_health.append([0, 0, 0, 0])\n",
    "    elif YM_label_train_health_temp[i] == 1:\n",
    "        temp_health.append([0, 0, 1, 0])\n",
    "    if YM_label_train_pollen_temp[i] == 0:\n",
    "        temp_pollen.append([0, 0, 0, 0])\n",
    "    elif YM_label_train_pollen_temp[i] == 1:\n",
    "        temp_pollen.append([0, 0, 1, 0])\n",
    "\n",
    "    new_YM_label_train.append([sum(i) for i in zip(temp_health[0], temp_pollen[0])])\n",
    "    i = i + 1\n",
    "\n",
    "YM_label_val_health_temp = YM_label_val.drop(['hive being robbed', 'missing queen', 'ant problems'], axis=1)\n",
    "YM_label_val_health_temp['Varroa, Small Hive Beetles'] = YM_label_val_health_temp['Varroa, Small Hive Beetles'] + YM_label_val_health_temp['few varrao, hive beetles']\n",
    "YM_label_val_health_temp = YM_label_val_health_temp.drop(['few varrao, hive beetles'], axis=1)\n",
    "YM_label_val_health_temp = np.array(YM_label_val_health_temp['Varroa, Small Hive Beetles']).astype('uint8')\n",
    "\n",
    "YM_label_val_pollen_temp = YM_label_val_pollen.drop(YM_label_val_pollen.keys()[0], axis=1)\n",
    "YM_label_val_pollen_temp = np.array(YM_label_val_pollen_temp.T).astype('uint8')[0]\n",
    "\n",
    "new_YM_label_val = []\n",
    "new_YM_label_val = []    \n",
    "\n",
    "for i in range(len(YM_label_val_health_temp)):\n",
    "    temp_health = []\n",
    "    temp_pollen = []\n",
    "    if YM_label_val_health_temp[i] == 0:\n",
    "        temp_health.append([0, 0, 0, 0])\n",
    "    elif YM_label_val_health_temp[i] == 1:\n",
    "        temp_health.append([0, 0, 1, 0])\n",
    "    if YM_label_val_pollen_temp[i] == 0:\n",
    "        temp_pollen.append([0, 0, 0, 0])\n",
    "    elif YM_label_val_pollen_temp[i] == 1:\n",
    "        temp_pollen.append([0, 0, 1, 0])\n",
    "\n",
    "    new_YM_label_val.append([sum(i) for i in zip(temp_health[0], temp_pollen[0])])\n",
    "    i = i + 1\n",
    "\n",
    "print(\"Training set: {}, Validation set: {}\".format(len(list(new_YM_label_train)), len(list(new_YM_label_val))))"
   ]
  },
  {
   "cell_type": "code",
   "execution_count": 3,
   "metadata": {
    "tags": []
   },
   "outputs": [
    {
     "name": "stdout",
     "output_type": "stream",
     "text": [
      "Done\n"
     ]
    }
   ],
   "source": [
    "PD_path = \"PollenDataset/images\"\n",
    "BA_path_none = \"Archive/BeeDataset_20201121/None\"\n",
    "BA_path_varroa = \"Archive/BeeDataset_20201121/Varroa\"\n",
    "BA_path_pollen = \"Archive/BeeDataset_20201121/Pollen\"\n",
    "BA_path_wasps = \"Archive/BeeDataset_20201121/Wasps\"\n",
    "YM_path = \"Yang Model Training/bee_imgs/bee_imgs\"\n",
    "\n",
    "PD_imgs = []\n",
    "BA_imgs_none = []\n",
    "BA_imgs_varroa = []\n",
    "BA_imgs_pollen = []\n",
    "BA_imgs_wasps = []\n",
    "YM_imgs = []\n",
    "\n",
    "PD_filenames = [f for f in listdir(PD_path)]\n",
    "BA_filenames_none = [f for f in listdir(BA_path_none)]\n",
    "BA_filenames_varroa = [f for f in listdir(BA_path_varroa)]\n",
    "BA_filenames_pollen = [f for f in listdir(BA_path_pollen)]\n",
    "BA_filenames_wasps = [f for f in listdir(BA_path_wasps)]\n",
    "YM_filenames = [f for f in listdir(YM_path)]\n",
    "\n",
    "PD_img, PD_label = GEORGE.PD_dataset(imlist)\n",
    "PD_pollen = []\n",
    "PD_pollen_filenames = []\n",
    "PD_no_pollen = []\n",
    "PD_no_pollen_filenames = []\n",
    "\n",
    "for i in range(len(PD_label)):\n",
    "    if PD_label[i] == 0:\n",
    "        PD_no_pollen.append(PD_img[i])\n",
    "        PD_no_pollen_filenames.append(PD_filenames[i])\n",
    "    elif PD_label[i] == 1:\n",
    "        PD_pollen.append(PD_img[i])\n",
    "        PD_pollen_filenames.append(PD_filenames[i])\n",
    "    i = i + 1\n",
    "\n",
    "for filename in glob.glob('PD_filenames/*.jpeg'):\n",
    "    im=Image.open(filename)\n",
    "    PD_imgs.append(im)\n",
    "    \n",
    "for filename in glob.glob('BA_filenames_none/*.jpeg'):\n",
    "    im=Image.open(filename)\n",
    "    BA_imgs_none.append(im)\n",
    "    \n",
    "for filename in glob.glob('BA_filenames_varroa/*.jpeg'):\n",
    "    im=Image.open(filename)\n",
    "    BA_imgs_varroa.append(im)\n",
    "    \n",
    "for filename in glob.glob('BA_filenames_pollen/*.jpeg'):\n",
    "    im=Image.open(filename)\n",
    "    BA_imgs_pollen.append(im)\n",
    "    \n",
    "for filename in glob.glob('BA_filenames_wasps/*.jpeg'):\n",
    "    im=Image.open(filename)\n",
    "    BA_imgs_wasps.append(im)\n",
    "    \n",
    "for filename in glob.glob('YM_filenames/*.jpeg'):\n",
    "    im=Image.open(filename)\n",
    "    YM_imgs.append(im)\n",
    "\n",
    "print(\"Done\")"
   ]
  },
  {
   "cell_type": "code",
   "execution_count": 7,
   "metadata": {
    "tags": []
   },
   "outputs": [
    {
     "data": {
      "text/plain": [
       "<function matplotlib.pyplot.show(close=None, block=None)>"
      ]
     },
     "execution_count": 7,
     "metadata": {},
     "output_type": "execute_result"
    },
    {
     "data": {
      "image/png": "[encoded data removed]",
      "text/plain": [
       "<Figure size 1400x700 with 9 Axes>"
      ]
     },
     "metadata": {},
     "output_type": "display_data"
    }
   ],
   "source": [
    "plt.rcParams['axes.grid'] = False\n",
    "plt.rcParams['xtick.labelsize'] = False\n",
    "plt.rcParams['ytick.labelsize'] = False\n",
    "plt.rcParams['xtick.top'] = False\n",
    "plt.rcParams['xtick.bottom'] = False\n",
    "plt.rcParams['ytick.left'] = False\n",
    "plt.rcParams['ytick.right'] = False\n",
    "plt.rcParams['figure.figsize'] = [14, 7]\n",
    "\n",
    "# fig = plt.figure(constrained_layout=True)\n",
    "# fig.suptitle('PollenDataset')\n",
    "\n",
    "# # create subfigs\n",
    "# subfigs = fig.subfigures(nrows=3, ncols=1)\n",
    "# for row, subfig in enumerate(subfigs):\n",
    "#     subfig.suptitle(f'No Pollen {row}')\n",
    "\n",
    "#     # create subplots per subfig\n",
    "#     axs = subfig.subplots(nrows=int((len(PD_img) / 3) + (len(PD_img) % 3)), ncols=3)\n",
    "#     for col, ax in enumerate(axs):\n",
    "#         ax.plot()\n",
    "#         ax.set_title(f'{PD_filename[col * ax]}')\n",
    "        \n",
    "fig = plt.figure(constrained_layout=True)\n",
    "fig.suptitle('PollenDataset')\n",
    "\n",
    "# create subfigs\n",
    "subfigs = fig.subfigures(nrows=3, ncols=1)\n",
    "for row, subfig in enumerate(subfigs):\n",
    "    subfig.suptitle(f'No Pollen')\n",
    "\n",
    "    # create subplots per subfig\n",
    "    axs = subfig.subplots(nrows=1, ncols=3)\n",
    "    for col, ax in enumerate(axs):\n",
    "        ax.plot()\n",
    "        ax.set_title(f'{PD_filenames[col]}')\n",
    "        ax.imshow(PD_imgs\n",
    "\n",
    "plt.show"
   ]
  },
  {
   "cell_type": "code",
   "execution_count": null,
   "metadata": {},
   "outputs": [],
   "source": []
  }
 ],
 "metadata": {
  "accelerator": "GPU",
  "colab": {
   "name": "interactive_eager_few_shot_od_training_colab.ipynb",
   "provenance": []
  },
  "kernelspec": {
   "display_name": "Python 3 (ipykernel)",
   "language": "python",
   "name": "python3"
  },
  "language_info": {
   "codemirror_mode": {
    "name": "ipython",
    "version": 3
   },
   "file_extension": ".py",
   "mimetype": "text/x-python",
   "name": "python",
   "nbconvert_exporter": "python",
   "pygments_lexer": "ipython3",
   "version": "3.9.17"
  }
 },
 "nbformat": 4,
 "nbformat_minor": 4
}
