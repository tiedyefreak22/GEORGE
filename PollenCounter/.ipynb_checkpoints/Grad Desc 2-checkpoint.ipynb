{
 "cells": [
  {
   "cell_type": "code",
   "execution_count": 1,
   "id": "b2a1eec0-7352-4404-b3d8-52e0660e7315",
   "metadata": {
    "tags": []
   },
   "outputs": [
    {
     "name": "stdout",
     "output_type": "stream",
     "text": [
      "Done\n"
     ]
    }
   ],
   "source": [
    "import os\n",
    "import pathlib\n",
    "\n",
    "import matplotlib\n",
    "import matplotlib.pyplot as plt\n",
    "\n",
    "import random\n",
    "import io\n",
    "import imageio\n",
    "import glob\n",
    "import imutils\n",
    "import cv2\n",
    "import scipy.misc\n",
    "import numpy as np\n",
    "from six import BytesIO\n",
    "from PIL import Image, ImageDraw, ImageFont\n",
    "from IPython.display import display, Javascript\n",
    "from IPython.display import Image as IPyImage\n",
    "from tqdm import tqdm\n",
    "import math\n",
    "\n",
    "import tensorflow as tf\n",
    "import tensorflow_datasets as tfds\n",
    "from tensorflow.keras import layers\n",
    "\n",
    "%matplotlib inline\n",
    "\n",
    "print(\"Done\")"
   ]
  },
  {
   "cell_type": "code",
   "execution_count": 2,
   "id": "55e967f2-d219-40dc-b5dd-72277bc8c7db",
   "metadata": {
    "tags": []
   },
   "outputs": [
    {
     "name": "stdout",
     "output_type": "stream",
     "text": [
      "Done\n"
     ]
    }
   ],
   "source": [
    "def extract_sub(new_image, params):#=[110, 254, 0.136, -111]):\n",
    "    t_upper, t_lower, alpha, beta = params\n",
    "    new_image = np.array(new_image)\n",
    "    \n",
    "    h, w, d = tf.shape(new_image)\n",
    "    res = (w, h);\n",
    "    \n",
    "    new_image = cv2.convertScaleAbs(new_image, alpha=alpha, beta=beta)\n",
    "    \n",
    "    # sharpen\n",
    "    sharp_image = cv2.GaussianBlur(new_image, [0, 0], 3)\n",
    "    new_image = cv2.addWeighted(new_image, 2, sharp_image, -1, 0)\n",
    "    #new_image = ((cv2.addWeighted(new_image, sharp_value, sharp_image, 1 - sharp_value, 0)) / 255).astype('uint8')\n",
    "\n",
    "    aperture_size = 3 # Aperture size (default = 3)\n",
    "    L2Gradient = False # Boolean (default = False)\n",
    "    edges = cv2.Canny(np.array(new_image), params[0], params[1], apertureSize = aperture_size, L2gradient = L2Gradient) # 150, 75 confirmed\n",
    "    ymin = h\n",
    "    xmin = w\n",
    "    ymax = 0\n",
    "    xmax = 0\n",
    "    coords = [ymin, xmin, ymax, xmax]\n",
    "    \n",
    "    # Find left bound/xmin\n",
    "    left_bound = np.zeros([h, w]) # 150, 75 confirmed\n",
    "    row_track = 0\n",
    "    while row_track <= h - 1:\n",
    "        column_track = 0\n",
    "        while column_track <= w - 1:\n",
    "            value = edges[row_track, column_track]\n",
    "            if (value > 0):\n",
    "                left_bound[row_track][column_track:(w - 1)] = 1\n",
    "                if (column_track < coords[1]):\n",
    "                    coords[1] = column_track\n",
    "                column_track = w\n",
    "            column_track = column_track + 1\n",
    "        row_track = row_track + 1\n",
    "    \n",
    "    # Find right bound/xmax\n",
    "    right_bound = np.zeros([h, w])\n",
    "    row_track = 0\n",
    "    while row_track <= h - 1:\n",
    "        column_track = w - 1\n",
    "        while column_track >= 0:\n",
    "            value = edges[row_track, column_track]\n",
    "            if (value > 0):\n",
    "                right_bound[row_track][0:column_track] = 1\n",
    "                if (column_track > coords[3]):\n",
    "                    coords[3] = column_track\n",
    "                column_track = 0\n",
    "            column_track = column_track - 1\n",
    "        row_track = row_track + 1\n",
    "\n",
    "    # Find top bound/ymin\n",
    "    top_bound = np.zeros([w, h]) # 75, 150 confirmed\n",
    "    column_track = 0\n",
    "    while column_track <= w - 1:\n",
    "        row_track = 0\n",
    "        while row_track <= h - 1:\n",
    "            value = edges[row_track, column_track]\n",
    "            if (value > 0):\n",
    "                top_bound[column_track][row_track:(h - 1)] = 1\n",
    "                if (row_track < coords[0]):\n",
    "                    coords[0] = row_track\n",
    "                row_track = h\n",
    "            row_track = row_track + 1\n",
    "        column_track = column_track + 1\n",
    "    top_bound = np.transpose(top_bound)\n",
    "    \n",
    "    # Find bottom bound/ymax\n",
    "    bottom_bound = np.zeros([w, h])\n",
    "    column_track = 0\n",
    "    while column_track <= w - 1:\n",
    "        row_track = h - 1\n",
    "        while row_track >= 0:\n",
    "            value = edges[row_track, column_track]\n",
    "            if (value > 0):\n",
    "                bottom_bound[column_track][0:row_track] = 1\n",
    "                if (row_track > coords[2]):\n",
    "                    coords[2] = row_track\n",
    "                row_track = 0\n",
    "            row_track = row_track - 1\n",
    "        column_track = column_track + 1\n",
    "    bottom_bound = np.transpose(bottom_bound)\n",
    "    \n",
    "    mask = (top_bound * bottom_bound * right_bound * left_bound).astype('uint8')\n",
    "\n",
    "    # smooth out the mask and invert\n",
    "    kernel = np.ones((3,3), np.uint8)\n",
    "    mask = cv2.dilate(mask, kernel, iterations = 1)\n",
    "    mask = cv2.medianBlur(mask, 5)\n",
    "    mask = np.array([[math.ceil(abs(j) / 255) for j in i] for i in mask]).astype('uint8')\n",
    "    return mask\n",
    "\n",
    "print(\"Done\")"
   ]
  },
  {
   "cell_type": "code",
   "execution_count": 26,
   "id": "3d6c391d-2026-4055-a3f6-b49965e05409",
   "metadata": {
    "tags": []
   },
   "outputs": [
    {
     "name": "stdout",
     "output_type": "stream",
     "text": [
      "Done\n"
     ]
    }
   ],
   "source": [
    "def cost(ideal_mask, test_image, params):\n",
    "    return sum([sum(k) for k in [[math.ceil(abs(j) / 255) for j in i] for i in (ideal_mask - extract_sub(test_image, params))]])\n",
    "\n",
    "def grad_desc(test_image, ideal_mask, params):\n",
    "    iterations = 250\n",
    "    delta = 1e-3\n",
    "    eps = 0.001\n",
    "    gamma = 7e-6\n",
    "\n",
    "    # m_norm is a function f(margin, sharp, a, b)\n",
    "    # Params - an [N, 1] array of parameters to be optimized\n",
    "    # Gamma - weighting factor (decrease when diverging)\n",
    "    # Delta - step size\n",
    "    # eps - early cutoff convergence threshold\n",
    "\n",
    "    new_params = np.ones(len(params))\n",
    "    dfdm_norm = np.ones(len(params))\n",
    "    m_norm = cost(ideal_mask, test_image, params)\n",
    "\n",
    "    i = 0\n",
    "    best = params\n",
    "    m_norm_min = m_norm\n",
    "    print('Starting m_norm is: ' + str(m_norm_min), flush=True)\n",
    "\n",
    "    with tqdm(total=iterations, desc=\"Gradient Descent\", unit=\"iter\") as pbar:\n",
    "        #while abs(sum(dfdm_norm)) > eps and i < iterations:\n",
    "        while i < iterations:\n",
    "            m_norm = cost(ideal_mask, test_image, params)\n",
    "            if m_norm < m_norm_min:\n",
    "                m_norm_min = m_norm\n",
    "                best = params\n",
    "            for j in range(len(params)): #calculating new gradient parameter by parameter\n",
    "                new_params = params\n",
    "                new_params[j] = params[j] + delta\n",
    "                dfdm_norm[j] = (cost(ideal_mask, test_image, new_params) -  m_norm) / delta\n",
    "            params = params - gamma * dfdm_norm\n",
    "            pbar.update(1)\n",
    "            pbar.set_postfix(best_m_norm=m_norm_min, current_m_norm=m_norm)#, mar=opt_margin, shp=opt_sharp, a=opt_alpha, b=opt_beta)\n",
    "            i = i + 1\n",
    "    print('Final t_upper is: ' + str(params[0]), flush=True)\n",
    "    print('Final t_lower value is: ' + str(params[1]), flush=True)\n",
    "    print('Final alpha is: ' + str(params[2]), flush=True)\n",
    "    print('Final beta is: ' + str(params[3]), flush=True)\n",
    "    print('Final m_norm is: ' + str(m_norm_min), flush=True)\n",
    "    \n",
    "    return params, cost(ideal_mask, test_image, params)\n",
    "\n",
    "print(\"Done\")"
   ]
  },
  {
   "cell_type": "code",
   "execution_count": 25,
   "id": "9278c488-62dc-4225-9381-a3e86146a21f",
   "metadata": {
    "tags": []
   },
   "outputs": [
    {
     "name": "stdout",
     "output_type": "stream",
     "text": [
      "Starting m_norm is: 476\n"
     ]
    },
    {
     "name": "stderr",
     "output_type": "stream",
     "text": [
      "Gradient Descent:   5%|▍         | 11719/260000 [10:51:52<230:10:55,  3.34s/iter, best_m_norm=449, current_m_norm=1519]\n"
     ]
    },
    {
     "ename": "KeyboardInterrupt",
     "evalue": "",
     "output_type": "error",
     "traceback": [
      "\u001b[1;31m---------------------------------------------------------------------------\u001b[0m",
      "\u001b[1;31mKeyboardInterrupt\u001b[0m                         Traceback (most recent call last)",
      "Cell \u001b[1;32mIn[25], line 15\u001b[0m\n\u001b[0;32m     13\u001b[0m params \u001b[38;5;241m=\u001b[39m [t_upper, t_lower, a, b]\n\u001b[0;32m     14\u001b[0m \u001b[38;5;66;03m#best = params\u001b[39;00m\n\u001b[1;32m---> 15\u001b[0m best, m_norm \u001b[38;5;241m=\u001b[39m \u001b[43mgrad_desc\u001b[49m\u001b[43m(\u001b[49m\u001b[43mtest_image\u001b[49m\u001b[43m,\u001b[49m\u001b[43m \u001b[49m\u001b[43mideal_mask\u001b[49m\u001b[43m,\u001b[49m\u001b[43m \u001b[49m\u001b[43mparams\u001b[49m\u001b[43m)\u001b[49m\n\u001b[0;32m     17\u001b[0m new_mask \u001b[38;5;241m=\u001b[39m extract_sub(test_image, best)\n\u001b[0;32m     18\u001b[0m m_norm \u001b[38;5;241m=\u001b[39m cost(ideal_mask, test_image, params)\n",
      "Cell \u001b[1;32mIn[24], line 35\u001b[0m, in \u001b[0;36mgrad_desc\u001b[1;34m(test_image, ideal_mask, params)\u001b[0m\n\u001b[0;32m     33\u001b[0m     new_params \u001b[38;5;241m=\u001b[39m params\n\u001b[0;32m     34\u001b[0m     new_params[j] \u001b[38;5;241m=\u001b[39m params[j] \u001b[38;5;241m+\u001b[39m delta\n\u001b[1;32m---> 35\u001b[0m     dfdm_norm[j] \u001b[38;5;241m=\u001b[39m (\u001b[43mcost\u001b[49m\u001b[43m(\u001b[49m\u001b[43mideal_mask\u001b[49m\u001b[43m,\u001b[49m\u001b[43m \u001b[49m\u001b[43mtest_image\u001b[49m\u001b[43m,\u001b[49m\u001b[43m \u001b[49m\u001b[43mnew_params\u001b[49m\u001b[43m)\u001b[49m \u001b[38;5;241m-\u001b[39m  m_norm) \u001b[38;5;241m/\u001b[39m delta\n\u001b[0;32m     36\u001b[0m params \u001b[38;5;241m=\u001b[39m params \u001b[38;5;241m-\u001b[39m gamma \u001b[38;5;241m*\u001b[39m dfdm_norm\n\u001b[0;32m     37\u001b[0m pbar\u001b[38;5;241m.\u001b[39mupdate(\u001b[38;5;241m1\u001b[39m)\n",
      "Cell \u001b[1;32mIn[24], line 2\u001b[0m, in \u001b[0;36mcost\u001b[1;34m(ideal_mask, test_image, params)\u001b[0m\n\u001b[0;32m      1\u001b[0m \u001b[38;5;28;01mdef\u001b[39;00m \u001b[38;5;21mcost\u001b[39m(ideal_mask, test_image, params):\n\u001b[1;32m----> 2\u001b[0m     \u001b[38;5;28;01mreturn\u001b[39;00m \u001b[38;5;28msum\u001b[39m([\u001b[38;5;28msum\u001b[39m(k) \u001b[38;5;28;01mfor\u001b[39;00m k \u001b[38;5;129;01min\u001b[39;00m [[math\u001b[38;5;241m.\u001b[39mceil(\u001b[38;5;28mabs\u001b[39m(j) \u001b[38;5;241m/\u001b[39m \u001b[38;5;241m255\u001b[39m) \u001b[38;5;28;01mfor\u001b[39;00m j \u001b[38;5;129;01min\u001b[39;00m i] \u001b[38;5;28;01mfor\u001b[39;00m i \u001b[38;5;129;01min\u001b[39;00m (ideal_mask \u001b[38;5;241m-\u001b[39m \u001b[43mextract_sub\u001b[49m\u001b[43m(\u001b[49m\u001b[43mtest_image\u001b[49m\u001b[43m,\u001b[49m\u001b[43m \u001b[49m\u001b[43mparams\u001b[49m\u001b[43m)\u001b[49m)]])\n",
      "Cell \u001b[1;32mIn[2], line 29\u001b[0m, in \u001b[0;36mextract_sub\u001b[1;34m(new_image, params)\u001b[0m\n\u001b[0;32m     27\u001b[0m \u001b[38;5;28;01mwhile\u001b[39;00m row_track \u001b[38;5;241m<\u001b[39m\u001b[38;5;241m=\u001b[39m h \u001b[38;5;241m-\u001b[39m \u001b[38;5;241m1\u001b[39m:\n\u001b[0;32m     28\u001b[0m     column_track \u001b[38;5;241m=\u001b[39m \u001b[38;5;241m0\u001b[39m\n\u001b[1;32m---> 29\u001b[0m     \u001b[38;5;28;01mwhile\u001b[39;00m column_track \u001b[38;5;241m<\u001b[39m\u001b[38;5;241m=\u001b[39m \u001b[43mw\u001b[49m\u001b[43m \u001b[49m\u001b[38;5;241;43m-\u001b[39;49m\u001b[43m \u001b[49m\u001b[38;5;241;43m1\u001b[39;49m:\n\u001b[0;32m     30\u001b[0m         value \u001b[38;5;241m=\u001b[39m edges[row_track, column_track]\n\u001b[0;32m     31\u001b[0m         \u001b[38;5;28;01mif\u001b[39;00m (value \u001b[38;5;241m>\u001b[39m \u001b[38;5;241m0\u001b[39m):\n",
      "File \u001b[1;32m~\\.conda\\envs\\tensorflow\\lib\\site-packages\\tensorflow\\python\\util\\traceback_utils.py:150\u001b[0m, in \u001b[0;36mfilter_traceback.<locals>.error_handler\u001b[1;34m(*args, **kwargs)\u001b[0m\n\u001b[0;32m    148\u001b[0m filtered_tb \u001b[38;5;241m=\u001b[39m \u001b[38;5;28;01mNone\u001b[39;00m\n\u001b[0;32m    149\u001b[0m \u001b[38;5;28;01mtry\u001b[39;00m:\n\u001b[1;32m--> 150\u001b[0m   \u001b[38;5;28;01mreturn\u001b[39;00m fn(\u001b[38;5;241m*\u001b[39margs, \u001b[38;5;241m*\u001b[39m\u001b[38;5;241m*\u001b[39mkwargs)\n\u001b[0;32m    151\u001b[0m \u001b[38;5;28;01mexcept\u001b[39;00m \u001b[38;5;167;01mException\u001b[39;00m \u001b[38;5;28;01mas\u001b[39;00m e:\n\u001b[0;32m    152\u001b[0m   filtered_tb \u001b[38;5;241m=\u001b[39m _process_traceback_frames(e\u001b[38;5;241m.\u001b[39m__traceback__)\n",
      "File \u001b[1;32m~\\.conda\\envs\\tensorflow\\lib\\site-packages\\tensorflow\\python\\ops\\math_ops.py:1407\u001b[0m, in \u001b[0;36m_OverrideBinaryOperatorHelper.<locals>.binary_op_wrapper\u001b[1;34m(x, y)\u001b[0m\n\u001b[0;32m   1402\u001b[0m \u001b[38;5;28;01mtry\u001b[39;00m:\n\u001b[0;32m   1403\u001b[0m   \u001b[38;5;66;03m# force_same_dtype=False to preserve existing TF behavior\u001b[39;00m\n\u001b[0;32m   1404\u001b[0m   \u001b[38;5;66;03m# TODO(b/178860388): Figure out why binary_op_wrapper and\u001b[39;00m\n\u001b[0;32m   1405\u001b[0m   \u001b[38;5;66;03m#   r_binary_op_wrapper use different force_same_dtype values.\u001b[39;00m\n\u001b[0;32m   1406\u001b[0m   x, y \u001b[38;5;241m=\u001b[39m maybe_promote_tensors(x, y)\n\u001b[1;32m-> 1407\u001b[0m   \u001b[38;5;28;01mreturn\u001b[39;00m \u001b[43mfunc\u001b[49m\u001b[43m(\u001b[49m\u001b[43mx\u001b[49m\u001b[43m,\u001b[49m\u001b[43m \u001b[49m\u001b[43my\u001b[49m\u001b[43m,\u001b[49m\u001b[43m \u001b[49m\u001b[43mname\u001b[49m\u001b[38;5;241;43m=\u001b[39;49m\u001b[43mname\u001b[49m\u001b[43m)\u001b[49m\n\u001b[0;32m   1408\u001b[0m \u001b[38;5;28;01mexcept\u001b[39;00m (\u001b[38;5;167;01mTypeError\u001b[39;00m, \u001b[38;5;167;01mValueError\u001b[39;00m) \u001b[38;5;28;01mas\u001b[39;00m e:\n\u001b[0;32m   1409\u001b[0m   \u001b[38;5;66;03m# Even if dispatching the op failed, the RHS may be a tensor aware\u001b[39;00m\n\u001b[0;32m   1410\u001b[0m   \u001b[38;5;66;03m# object that can implement the operator with knowledge of itself\u001b[39;00m\n\u001b[1;32m   (...)\u001b[0m\n\u001b[0;32m   1413\u001b[0m   \u001b[38;5;66;03m# original error from the LHS, because it may be more\u001b[39;00m\n\u001b[0;32m   1414\u001b[0m   \u001b[38;5;66;03m# informative.\u001b[39;00m\n\u001b[0;32m   1415\u001b[0m   \u001b[38;5;28;01mif\u001b[39;00m \u001b[38;5;28mhasattr\u001b[39m(\u001b[38;5;28mtype\u001b[39m(y), \u001b[38;5;124m\"\u001b[39m\u001b[38;5;124m__r\u001b[39m\u001b[38;5;132;01m%s\u001b[39;00m\u001b[38;5;124m__\u001b[39m\u001b[38;5;124m\"\u001b[39m \u001b[38;5;241m%\u001b[39m op_name):\n",
      "File \u001b[1;32m~\\.conda\\envs\\tensorflow\\lib\\site-packages\\tensorflow\\python\\util\\traceback_utils.py:150\u001b[0m, in \u001b[0;36mfilter_traceback.<locals>.error_handler\u001b[1;34m(*args, **kwargs)\u001b[0m\n\u001b[0;32m    148\u001b[0m filtered_tb \u001b[38;5;241m=\u001b[39m \u001b[38;5;28;01mNone\u001b[39;00m\n\u001b[0;32m    149\u001b[0m \u001b[38;5;28;01mtry\u001b[39;00m:\n\u001b[1;32m--> 150\u001b[0m   \u001b[38;5;28;01mreturn\u001b[39;00m fn(\u001b[38;5;241m*\u001b[39margs, \u001b[38;5;241m*\u001b[39m\u001b[38;5;241m*\u001b[39mkwargs)\n\u001b[0;32m    151\u001b[0m \u001b[38;5;28;01mexcept\u001b[39;00m \u001b[38;5;167;01mException\u001b[39;00m \u001b[38;5;28;01mas\u001b[39;00m e:\n\u001b[0;32m    152\u001b[0m   filtered_tb \u001b[38;5;241m=\u001b[39m _process_traceback_frames(e\u001b[38;5;241m.\u001b[39m__traceback__)\n",
      "File \u001b[1;32m~\\.conda\\envs\\tensorflow\\lib\\site-packages\\tensorflow\\python\\util\\dispatch.py:1176\u001b[0m, in \u001b[0;36madd_dispatch_support.<locals>.decorator.<locals>.op_dispatch_handler\u001b[1;34m(*args, **kwargs)\u001b[0m\n\u001b[0;32m   1174\u001b[0m \u001b[38;5;66;03m# Fallback dispatch system (dispatch v1):\u001b[39;00m\n\u001b[0;32m   1175\u001b[0m \u001b[38;5;28;01mtry\u001b[39;00m:\n\u001b[1;32m-> 1176\u001b[0m   \u001b[38;5;28;01mreturn\u001b[39;00m dispatch_target(\u001b[38;5;241m*\u001b[39margs, \u001b[38;5;241m*\u001b[39m\u001b[38;5;241m*\u001b[39mkwargs)\n\u001b[0;32m   1177\u001b[0m \u001b[38;5;28;01mexcept\u001b[39;00m (\u001b[38;5;167;01mTypeError\u001b[39;00m, \u001b[38;5;167;01mValueError\u001b[39;00m):\n\u001b[0;32m   1178\u001b[0m   \u001b[38;5;66;03m# Note: convert_to_eager_tensor currently raises a ValueError, not a\u001b[39;00m\n\u001b[0;32m   1179\u001b[0m   \u001b[38;5;66;03m# TypeError, when given unexpected types.  So we need to catch both.\u001b[39;00m\n\u001b[0;32m   1180\u001b[0m   result \u001b[38;5;241m=\u001b[39m dispatch(op_dispatch_handler, args, kwargs)\n",
      "File \u001b[1;32m~\\.conda\\envs\\tensorflow\\lib\\site-packages\\tensorflow\\python\\ops\\math_ops.py:548\u001b[0m, in \u001b[0;36msubtract\u001b[1;34m(x, y, name)\u001b[0m\n\u001b[0;32m    544\u001b[0m \u001b[38;5;129m@tf_export\u001b[39m(\u001b[38;5;124m\"\u001b[39m\u001b[38;5;124mmath.subtract\u001b[39m\u001b[38;5;124m\"\u001b[39m, \u001b[38;5;124m\"\u001b[39m\u001b[38;5;124msubtract\u001b[39m\u001b[38;5;124m\"\u001b[39m)\n\u001b[0;32m    545\u001b[0m \u001b[38;5;129m@dispatch\u001b[39m\u001b[38;5;241m.\u001b[39mregister_binary_elementwise_api\n\u001b[0;32m    546\u001b[0m \u001b[38;5;129m@dispatch\u001b[39m\u001b[38;5;241m.\u001b[39madd_dispatch_support\n\u001b[0;32m    547\u001b[0m \u001b[38;5;28;01mdef\u001b[39;00m \u001b[38;5;21msubtract\u001b[39m(x, y, name\u001b[38;5;241m=\u001b[39m\u001b[38;5;28;01mNone\u001b[39;00m):\n\u001b[1;32m--> 548\u001b[0m   \u001b[38;5;28;01mreturn\u001b[39;00m \u001b[43mgen_math_ops\u001b[49m\u001b[38;5;241;43m.\u001b[39;49m\u001b[43msub\u001b[49m\u001b[43m(\u001b[49m\u001b[43mx\u001b[49m\u001b[43m,\u001b[49m\u001b[43m \u001b[49m\u001b[43my\u001b[49m\u001b[43m,\u001b[49m\u001b[43m \u001b[49m\u001b[43mname\u001b[49m\u001b[43m)\u001b[49m\n",
      "File \u001b[1;32m~\\.conda\\envs\\tensorflow\\lib\\site-packages\\tensorflow\\python\\ops\\gen_math_ops.py:11161\u001b[0m, in \u001b[0;36msub\u001b[1;34m(x, y, name)\u001b[0m\n\u001b[0;32m  11159\u001b[0m \u001b[38;5;28;01mif\u001b[39;00m tld\u001b[38;5;241m.\u001b[39mis_eager:\n\u001b[0;32m  11160\u001b[0m   \u001b[38;5;28;01mtry\u001b[39;00m:\n\u001b[1;32m> 11161\u001b[0m     _result \u001b[38;5;241m=\u001b[39m \u001b[43mpywrap_tfe\u001b[49m\u001b[38;5;241;43m.\u001b[39;49m\u001b[43mTFE_Py_FastPathExecute\u001b[49m\u001b[43m(\u001b[49m\n\u001b[0;32m  11162\u001b[0m \u001b[43m      \u001b[49m\u001b[43m_ctx\u001b[49m\u001b[43m,\u001b[49m\u001b[43m \u001b[49m\u001b[38;5;124;43m\"\u001b[39;49m\u001b[38;5;124;43mSub\u001b[39;49m\u001b[38;5;124;43m\"\u001b[39;49m\u001b[43m,\u001b[49m\u001b[43m \u001b[49m\u001b[43mname\u001b[49m\u001b[43m,\u001b[49m\u001b[43m \u001b[49m\u001b[43mx\u001b[49m\u001b[43m,\u001b[49m\u001b[43m \u001b[49m\u001b[43my\u001b[49m\u001b[43m)\u001b[49m\n\u001b[0;32m  11163\u001b[0m     \u001b[38;5;28;01mreturn\u001b[39;00m _result\n\u001b[0;32m  11164\u001b[0m   \u001b[38;5;28;01mexcept\u001b[39;00m _core\u001b[38;5;241m.\u001b[39m_NotOkStatusException \u001b[38;5;28;01mas\u001b[39;00m e:\n",
      "\u001b[1;31mKeyboardInterrupt\u001b[0m: "
     ]
    }
   ],
   "source": [
    "test_image = Image.open(\"C:/Users/khard/Documents/GitHub/jupyter/PollenCounter/Archive/BeeDataset_20201121/images_150/0fRg4nOAzBV4GVCk26UaIVHUhQ8zwcwd.jpeg\")\n",
    "assert test_image is not None, \"file could not be read, check with os.path.exists()\"\n",
    "ideal_mask = ((cv2.cvtColor(np.array(Image.open(\"C:/Users/khard/Documents/GitHub/jupyter/PollenCounter/BeeMask.png\")), cv2.COLOR_BGR2GRAY))/255).astype('uint8')\n",
    "h, w, _ = np.shape(test_image)\n",
    "\n",
    "t_lower = 110 # Lower Threshold\n",
    "t_upper = 254 # Upper threshold (higher yields less detail)\n",
    "# sharp = 1.596\n",
    "# a = 0.136\n",
    "# b = -111\n",
    "a = 1\n",
    "b = -0.1\n",
    "params = [t_upper, t_lower, a, b]\n",
    "#best = params\n",
    "best, m_norm = grad_desc(test_image, ideal_mask, params)\n",
    "\n",
    "new_mask = extract_sub(test_image, best)\n",
    "m_norm = cost(ideal_mask, test_image, params)\n",
    "new_mask3 = np.repeat(new_mask[:, :, np.newaxis], 3, axis=2).astype(np.uint8)\n",
    "new_image = new_mask3 * test_image\n",
    "\n",
    "plt.imshow(new_image)\n",
    "plt.show"
   ]
  },
  {
   "cell_type": "code",
   "execution_count": 72,
   "id": "a3852c40-b864-4370-9b30-456b75a9137c",
   "metadata": {
    "tags": []
   },
   "outputs": [
    {
     "name": "stdout",
     "output_type": "stream",
     "text": [
      "[254.0004, 110.0004, 1.0004, -0.09960000000000001]\n"
     ]
    }
   ],
   "source": [
    "print(params)"
   ]
  },
  {
   "cell_type": "code",
   "execution_count": null,
   "id": "6be5f59d-d990-4646-86dd-00d8cf2774d6",
   "metadata": {},
   "outputs": [],
   "source": []
  }
 ],
 "metadata": {
  "kernelspec": {
   "display_name": "Python 3 (ipykernel)",
   "language": "python",
   "name": "python3"
  },
  "language_info": {
   "codemirror_mode": {
    "name": "ipython",
    "version": 3
   },
   "file_extension": ".py",
   "mimetype": "text/x-python",
   "name": "python",
   "nbconvert_exporter": "python",
   "pygments_lexer": "ipython3",
   "version": "3.9.17"
  }
 },
 "nbformat": 4,
 "nbformat_minor": 5
}
