{
 "cells": [
  {
   "cell_type": "markdown",
   "metadata": {
    "id": "rOvvWAVTkMR7"
   },
   "source": [
    "# PollenCounter\n",
    "Gradient-Effected Object Recognition Gauge for hive Entrances (GEORGE)"
   ]
  },
  {
   "cell_type": "markdown",
   "metadata": {
    "id": "vPs64QA1Zdov"
   },
   "source": [
    "## Imports"
   ]
  },
  {
   "cell_type": "code",
   "execution_count": 1,
   "metadata": {
    "id": "uZcqD4NLdnf4",
    "vscode": {
     "languageId": "python"
    }
   },
   "outputs": [
    {
     "name": "stderr",
     "output_type": "stream",
     "text": [
      "C:\\Users\\khard\\.conda\\envs\\tensorflow\\lib\\site-packages\\paramiko\\transport.py:219: CryptographyDeprecationWarning: Blowfish has been deprecated\n",
      "  \"class\": algorithms.Blowfish,\n"
     ]
    },
    {
     "name": "stdout",
     "output_type": "stream",
     "text": [
      "Done\n"
     ]
    }
   ],
   "source": [
    "import os\n",
    "import pathlib\n",
    "\n",
    "# Clone the tensorflow models repository if it doesn't already exist\n",
    "if \"models\" in pathlib.Path.cwd().parts:\n",
    "    while \"models\" in pathlib.Path.cwd().parts:\n",
    "        os.chdir('..')\n",
    "elif not pathlib.Path('models').exists():\n",
    "    !git clone --depth 1 https://github.com/tensorflow/models\n",
    "\n",
    "import matplotlib\n",
    "import matplotlib.pyplot as plt\n",
    "\n",
    "import os\n",
    "import random\n",
    "import io\n",
    "import imageio\n",
    "import glob\n",
    "import imutils\n",
    "import cv2\n",
    "import scipy.misc\n",
    "import numpy as np\n",
    "from six import BytesIO\n",
    "from PIL import Image, ImageDraw, ImageFont\n",
    "from IPython.display import display, Javascript\n",
    "from IPython.display import Image as IPyImage\n",
    "from tqdm import tqdm\n",
    "import time\n",
    "from rembg import remove\n",
    "from tqdm import tqdm\n",
    "\n",
    "import tensorflow as tf\n",
    "import tensorflow_datasets as tfds\n",
    "from tensorflow.keras import layers\n",
    "\n",
    "from object_detection.utils import label_map_util\n",
    "from object_detection.utils import config_util\n",
    "from object_detection.utils import visualization_utils as viz_utils\n",
    "from object_detection.builders import model_builder\n",
    "\n",
    "%matplotlib inline\n",
    "\n",
    "print(\"Done\")"
   ]
  },
  {
   "cell_type": "markdown",
   "metadata": {
    "id": "sSaXL28TZfk1"
   },
   "source": [
    "## Load Dataset"
   ]
  },
  {
   "cell_type": "code",
   "execution_count": 2,
   "metadata": {
    "tags": []
   },
   "outputs": [
    {
     "name": "stdout",
     "output_type": "stream",
     "text": [
      "Training set: 5243, Validation set: 1123, Test set: 1124\n"
     ]
    }
   ],
   "source": [
    "(ds_train, ds_val, ds_test), metadata = tfds.load(\"bee_dataset/bee_dataset_150\",\n",
    "                                                 split=[\"train[0%:70%]\", \"train[70%:85%]\", \"train[85%:100%]\"],\n",
    "                                                 shuffle_files=False,\n",
    "                                                 as_supervised=True,\n",
    "                                                 with_info=True)\n",
    "\n",
    "category_index = {1: {'id': 1, 'name': 'regular'}, 2: {'id': 2, 'name': 'cooling'}, 3: {'id': 3, 'name': 'pollen'}, 4: {'id': 4, 'name': 'varroa'}, 5: {'id': 5, 'name': 'wasps'}}\n",
    "\n",
    "print(\"Training set: {}, Validation set: {}, Test set: {}\".format(len(list(ds_train)), len(list(ds_val)), len(list(ds_test))))"
   ]
  },
  {
   "cell_type": "markdown",
   "metadata": {},
   "source": [
    "## Data Augmentation"
   ]
  },
  {
   "cell_type": "code",
   "execution_count": 20,
   "metadata": {
    "tags": []
   },
   "outputs": [
    {
     "name": "stdout",
     "output_type": "stream",
     "text": [
      "Done\n"
     ]
    }
   ],
   "source": [
    "def load_image_into_numpy_array(path):\n",
    "    \"\"\"Load an image from file into a numpy array.\n",
    "\n",
    "    Puts image into numpy array to feed into tensorflow graph.\n",
    "    Note that by convention we put it into a numpy array with shape\n",
    "    (height, width, channels), where channels=3 for RGB.\n",
    "\n",
    "    Args:\n",
    "        path: a file path.\n",
    "\n",
    "    Returns:\n",
    "        uint8 numpy array with shape (img_height, img_width, 3)\n",
    "    \"\"\"\n",
    "    img_data = tf.io.gfile.GFile(path, 'rb').read()\n",
    "    image = Image.open(BytesIO(img_data))\n",
    "    (im_width, im_height) = image.size\n",
    "    return np.array(image.getdata()).reshape(\n",
    "        (im_height, im_width, 3)).astype(np.uint8)\n",
    "\n",
    "def plot_detections(image_np,\n",
    "                    boxes,\n",
    "                    classes,\n",
    "                    scores,\n",
    "                    category_index,\n",
    "                    figsize=(12, 16),\n",
    "                    image_name=None):\n",
    "    \"\"\"Wrapper function to visualize detections.\n",
    "\n",
    "    Args:\n",
    "        image_np: uint8 numpy array with shape (img_height, img_width, 3)\n",
    "        boxes: a numpy array of shape [N, 4]\n",
    "        classes: a numpy array of shape [N]. Note that class indices are 1-based,\n",
    "            and match the keys in the label map.\n",
    "        scores: a numpy array of shape [N] or None.  If scores=None, then\n",
    "            this function assumes that the boxes to be plotted are groundtruth\n",
    "            boxes and plot all boxes as black with no classes or scores.\n",
    "        category_index: a dict containing category dictionaries (each holding\n",
    "        category index `id` and category name `name`) keyed by category indices.\n",
    "        figsize: size for the figure.\n",
    "        image_name: a name for the image file.\n",
    "    \"\"\"\n",
    "    image_np_with_annotations = image_np.copy()\n",
    "    viz_utils.visualize_boxes_and_labels_on_image_array(\n",
    "        image_np_with_annotations,\n",
    "        boxes,\n",
    "        classes,\n",
    "        scores,\n",
    "        category_index,\n",
    "        use_normalized_coordinates=True,\n",
    "        min_score_thresh=0.)\n",
    "    if image_name:\n",
    "        plt.imsave(image_name, image_np_with_annotations)\n",
    "    else:\n",
    "        plt.imshow(image_np_with_annotations)\n",
    "\n",
    "def get_label(label):\n",
    "    label = tfds.as_numpy(label.values())\n",
    "    trans_label = []\n",
    "    for j in range(len(label)):\n",
    "        trans_label.append(label[j-1]*j)\n",
    "    trans_label = np.array(int(np.sum(trans_label)))\n",
    "    return list(category_index.values())[trans_label], tf.one_hot(trans_label, 5)\n",
    "\n",
    "def zoom_image (new_image):\n",
    "    DataGen = tf.keras.Sequential([\n",
    "        layers.RandomZoom(0.2, 0.2)#, fill_mode=\"constant\"),\n",
    "    ])\n",
    "    new_image = tf.cast(np.array(new_image), tf.float32)\n",
    "    new_image = np.array(DataGen(new_image)).astype('uint8')\n",
    "    return(new_image)\n",
    "\n",
    "def extract_sub(new_image):\n",
    "    #new_image = np.array(ds_entry[0])\n",
    "    #label = tfds.as_numpy(ds_entry[1].values())\n",
    "\n",
    "    new_image = np.array(new_image)\n",
    "    t_lower = 0 # Lower Threshold\n",
    "    t_upper = 150 # Upper threshold (higher yields less detail)\n",
    "    aperture_size = 3 # Aperture size (default = 3)\n",
    "    L2Gradient = False # Boolean (default = False)\n",
    "    edges = cv2.Canny(new_image, t_lower, t_upper, apertureSize = aperture_size, L2gradient = L2Gradient) # 150, 75 confirmed\n",
    "    \n",
    "    w = int(list(tf.shape(new_image))[1]) #len(new_image[0]) 75 confirmed\n",
    "    h = int(list(tf.shape(new_image))[0]) # 150 confirmed\n",
    "    ymin = h\n",
    "    xmin = w\n",
    "    ymax = 0\n",
    "    xmax = 0\n",
    "    coords = [ymin, xmin, ymax, xmax]\n",
    "    \n",
    "    # Find left bound/xmin\n",
    "    left_bound = np.zeros([h, w]) # 150, 75 confirmed\n",
    "    row_track = 0\n",
    "    while row_track <= h - 1:\n",
    "        column_track = 0\n",
    "        while column_track <= w - 1:\n",
    "            value = edges[row_track, column_track]\n",
    "            if (value > 0):\n",
    "                left_bound[row_track][column_track:(w - 1)] = 1\n",
    "                if (column_track < coords[1]):\n",
    "                    coords[1] = column_track\n",
    "                column_track = w\n",
    "            column_track = column_track + 1\n",
    "        row_track = row_track + 1\n",
    "    \n",
    "    # Find right bound/xmax\n",
    "    right_bound = np.zeros([h, w])\n",
    "    row_track = 0\n",
    "    while row_track <= h - 1:\n",
    "        column_track = w - 1\n",
    "        while column_track >= 0:\n",
    "            value = edges[row_track, column_track]\n",
    "            if (value > 0):\n",
    "                right_bound[row_track][0:column_track] = 1\n",
    "                if (column_track > coords[3]):\n",
    "                    coords[3] = column_track\n",
    "                column_track = 0\n",
    "            column_track = column_track - 1\n",
    "        row_track = row_track + 1\n",
    "\n",
    "    # Find top bound/ymin\n",
    "    top_bound = np.zeros([w, h]) # 75, 150 confirmed\n",
    "    column_track = 0\n",
    "    while column_track <= w - 1:\n",
    "        row_track = 0\n",
    "        while row_track <= h - 1:\n",
    "            value = edges[row_track, column_track]\n",
    "            if (value > 0):\n",
    "                top_bound[column_track][row_track:(h - 1)] = 1\n",
    "                if (row_track < coords[0]):\n",
    "                    coords[0] = row_track\n",
    "                row_track = h\n",
    "            row_track = row_track + 1\n",
    "        column_track = column_track + 1\n",
    "    top_bound = np.transpose(top_bound)\n",
    "    \n",
    "    # Find bottom bound/ymax\n",
    "    bottom_bound = np.zeros([w, h])\n",
    "    column_track = 0\n",
    "    while column_track <= w - 1:\n",
    "        row_track = h - 1\n",
    "        while row_track >= 0:\n",
    "            value = edges[row_track, column_track]\n",
    "            if (value > 0):\n",
    "                bottom_bound[column_track][0:row_track] = 1\n",
    "                if (row_track > coords[2]):\n",
    "                    coords[2] = row_track\n",
    "                row_track = 0\n",
    "            row_track = row_track - 1\n",
    "        column_track = column_track + 1\n",
    "    bottom_bound = np.transpose(bottom_bound)\n",
    "    \n",
    "    mask = top_bound * bottom_bound * right_bound * left_bound\n",
    "    mask = cv2.GaussianBlur(mask,(5,5),cv2.BORDER_DEFAULT)\n",
    "    mask = np.repeat(mask[:, :, np.newaxis], 3, axis=2).astype(np.float32)\n",
    "\n",
    "    new_image = new_image * mask\n",
    "    new_image = Image.fromarray(new_image.astype(np.uint8))\n",
    "    new_image = new_image.crop((coords[1], coords[0], coords[3], coords[2]))\n",
    "\n",
    "    return new_image\n",
    "\n",
    "def process_image(new_image):\n",
    "    #new_image = tf.expand_dims(np.array(new_image), 0)\n",
    "    #new_image = tf.reshape(new_image, [list(tf.shape(new_image))[1], list(tf.shape(new_image))[2], 3, 1])\n",
    "    #print(np.shape(new_image))\n",
    "    \n",
    "    rotation_range=random.uniform(0, 360)\n",
    "    new_image = new_image.rotate(rotation_range, Image.BILINEAR, expand = 1)\n",
    "    h = np.shape(new_image)[0]\n",
    "    w = np.shape(new_image)[1]\n",
    "    #new_image = tf.image.resize(np.array(new_image), (h, w))\n",
    "    #new_image = imutils.rotate_bound(np.array(new_image), rotation_range)\n",
    "    h = np.shape(new_image)[0]\n",
    "    w = np.shape(new_image)[1]\n",
    "    \n",
    "    coords = [0, 0, h, w]\n",
    "    \n",
    "    x_offset = tf.random.uniform((), 0 , tf.cast(640-w, tf.int32), dtype=tf.int32)\n",
    "    y_offset = tf.random.uniform((), 0 , tf.cast(640-h, tf.int32), dtype=tf.int32)\n",
    "    new_image = tf.image.resize(np.array(new_image), (h, w))\n",
    "    new_image = tf.reshape(new_image, (list(np.shape(new_image))[0],list(np.shape(new_image))[1],3))\n",
    "    new_image = tf.image.pad_to_bounding_box(new_image, y_offset, x_offset, 640, 640)\n",
    "    #new_image = tf.cast(new_image, tf.float32)/255.0\n",
    "    new_image = tf.cast(new_image, tf.uint8)\n",
    "    \n",
    "    coord_adder = [y_offset, x_offset, y_offset, x_offset]\n",
    "    coords = np.array([sum(i) for i in zip(coords, coord_adder)])\n",
    "    coords = np.array([(i / 640) for i in coords])\n",
    "\n",
    "    return new_image, coords\n",
    "\n",
    "def augment_set(dataset, training=True, num_images=None, set_name=None):\n",
    "    if num_images == None:\n",
    "        num_images = len(dataset)\n",
    "        \n",
    "    train_images_np = []\n",
    "    gt_boxes = [0] * num_images\n",
    "    train_labels = []\n",
    "    subset = dataset.shuffle(len(dataset)).take(num_images)\n",
    "    if set_name != None:\n",
    "        with tqdm(total=num_images, desc=str(set_name), unit=\"images\") as pbar:\n",
    "            for i in range(num_images):\n",
    "                new_image, label = next(iter(subset))\n",
    "                try:\n",
    "                    label = get_label(label)\n",
    "                    train_labels.append(label)\n",
    "                    new_image = zoom_image(new_image)\n",
    "                    #new_image = new_extract_sub(np.array(new_image))\n",
    "                    new_image, new_coords = process_image(new_image)\n",
    "                    train_images_np.append(np.array(new_image))\n",
    "                    if training == True:\n",
    "                        gt_boxes[i] = np.array([new_coords], dtype=np.float32)\n",
    "                except:\n",
    "                    pass\n",
    "                pbar.update(1)\n",
    "    else:\n",
    "        with tqdm(total=num_images, unit=\"images\") as pbar:\n",
    "            for i in range(num_images):\n",
    "                new_image, label = next(iter(subset))\n",
    "                try:\n",
    "                    label = get_label(label)\n",
    "                    train_labels.append(label)\n",
    "                    new_image = zoom_image(new_image)\n",
    "                    #new_image = new_extract_sub(np.array(new_image))\n",
    "                    new_image, new_coords = process_image(new_image)\n",
    "                    train_images_np.append(np.array(new_image))\n",
    "                    if training == True:\n",
    "                        gt_boxes[i] = np.array([new_coords], dtype=np.float32)\n",
    "                except:\n",
    "                    pass\n",
    "                pbar.update(1)\n",
    "    if training:\n",
    "        print('Succeeded for ' + str(len(train_images_np)) + ' of ' + str(num_images), flush=True)\n",
    "        return train_images_np, gt_boxes, train_labels\n",
    "    else:\n",
    "        print('Succeeded for ' + str(len(train_images_np)) + ' of ' + str(num_images), flush=True)\n",
    "        return train_images_np\n",
    "\n",
    "print(\"Done\")"
   ]
  },
  {
   "cell_type": "code",
   "execution_count": 7,
   "metadata": {
    "jupyter": {
     "source_hidden": true
    },
    "tags": []
   },
   "outputs": [
    {
     "name": "stdout",
     "output_type": "stream",
     "text": [
      "Done\n"
     ]
    }
   ],
   "source": [
    "def new_extract_sub(new_image, params=[2, 1.596, 0.136, -111]):\n",
    "    margin, sharp_value, alpha, beta = params\n",
    "    new_image = np.array(new_image)\n",
    "    \n",
    "    h, w, d = tf.shape(new_image)\n",
    "    res = (w, h);\n",
    "\n",
    "    # resize\n",
    "    #new_image = cv2.resize(new_image, res);\n",
    "    \n",
    "    new_image = cv2.convertScaleAbs(new_image, alpha=alpha, beta=beta)\n",
    "    \n",
    "    # sharpen\n",
    "    sharp_image = cv2.GaussianBlur(new_image, [0, 0], 3)\n",
    "    new_image = cv2.addWeighted(new_image, sharp_value, sharp_image, 1 - sharp_value, 0)\n",
    "    \n",
    "    # change to hsv\n",
    "    hsv = cv2.cvtColor(new_image, cv2.COLOR_BGR2HSV);\n",
    "    h,s,v = cv2.split(hsv);\n",
    "\n",
    "    # get uniques\n",
    "    unique_colors, counts = np.unique(s, return_counts=True);\n",
    "\n",
    "    # sort through and grab the most abundant unique color\n",
    "    big_color = None;\n",
    "    biggest = -1;\n",
    "    for a in range(len(unique_colors)):\n",
    "        if counts[a] > biggest:\n",
    "            biggest = counts[a];\n",
    "            big_color = int(unique_colors[a]);\n",
    "\n",
    "    # get the color mask\n",
    "    mask = cv2.inRange(s, big_color - margin, big_color + margin);\n",
    "\n",
    "    # smooth out the mask and invert\n",
    "    kernel = np.ones((3,3), np.uint8);\n",
    "    mask = cv2.dilate(mask, kernel, iterations = 1);\n",
    "    mask = cv2.medianBlur(mask, 5);\n",
    "    mask = cv2.bitwise_not(mask);\n",
    "\n",
    "    # crop out the image\n",
    "    crop = np.zeros_like(new_image);\n",
    "    crop[mask == 255] = new_image[mask == 255];\n",
    "    \n",
    "    return (mask/255).astype('uint8')\n",
    "\n",
    "def cost(ideal_mask, test_image, params):\n",
    "    return sum(sum(abs(ideal_mask - new_extract_sub(test_image, params))))\n",
    "\n",
    "def grad_desc(test_image, ideal_mask, params):\n",
    "    # Starting values\n",
    "    '''\n",
    "    margin = 2\n",
    "    sharp = 1.612\n",
    "    a = 0.137\n",
    "    b = -112\n",
    "    '''\n",
    "    #params = [margin, sharp, a, b]\n",
    "    iterations = 250\n",
    "    delta = 1e-4\n",
    "    eps = 0.001\n",
    "    #gamma = np.array([1e-8, 1e-7, 1e-8, 1e-6])\n",
    "    gamma = 3e-10\n",
    "\n",
    "    # m_norm is a function f(margin, sharp, a, b)\n",
    "    # Params - an [N, 1] array of parameters to be optimized\n",
    "    # Gamma - weighting factor (decrease when diverging)\n",
    "    # Delta - step size\n",
    "    # eps - early cutoff convergence threshold\n",
    "\n",
    "    new_params = np.ones(len(params))\n",
    "    dfdm_norm = np.ones(len(params))\n",
    "    m_norm = cost(ideal_mask, test_image, params)\n",
    "    starting_m_norm = m_norm\n",
    "\n",
    "    i = 0\n",
    "    best = params\n",
    "    m_norm_min = m_norm\n",
    "\n",
    "    with tqdm(total=iterations, desc=\"Gradient Descent\", unit=\"iter\") as pbar:\n",
    "        #while abs(sum(dfdm_norm)) > eps and i < iterations:\n",
    "        while i < iterations:\n",
    "            m_norm = cost(ideal_mask, test_image, params)\n",
    "            if m_norm < m_norm_min:\n",
    "                m_norm_min = m_norm\n",
    "                best = params\n",
    "            for j in range(len(params)): #calculating new gradient parameter by parameter\n",
    "                new_params = params\n",
    "                new_params[j] = params[j] + delta\n",
    "                dfdm_norm[j] = (cost(ideal_mask, test_image, new_params) -  m_norm) / delta\n",
    "            params = params - gamma * dfdm_norm\n",
    "            pbar.update(1)\n",
    "            pbar.set_postfix(m_norm=m_norm_min)#, mar=opt_margin, shp=opt_sharp, a=opt_alpha, b=opt_beta)\n",
    "            i = i + 1\n",
    "    print('Starting m_norm is: ' + str(starting_m_norm), flush=True)\n",
    "    print('Final margin is: ' + str(params[0]), flush=True)\n",
    "    print('Final sharpness value is: ' + str(params[1]), flush=True)\n",
    "    print('Final alpha is: ' + str(params[2]), flush=True)\n",
    "    print('Final beta is: ' + str(params[3]), flush=True)\n",
    "    print('Final m_norm is: ' + str(m_norm_min), flush=True)\n",
    "    return best, cost(ideal_mask, test_image, best)\n",
    "\n",
    "print(\"Done\")"
   ]
  },
  {
   "cell_type": "markdown",
   "metadata": {},
   "source": [
    "## Gradient Descent"
   ]
  },
  {
   "cell_type": "code",
   "execution_count": 11,
   "metadata": {
    "jupyter": {
     "source_hidden": true
    },
    "tags": []
   },
   "outputs": [
    {
     "name": "stdout",
     "output_type": "stream",
     "text": [
      "Done\n"
     ]
    }
   ],
   "source": [
    "test_image = Image.open(\"C:/Users/khard/Documents/GitHub/jupyter/PollenCounter/Archive/BeeDataset_20201121/images_150/0fRg4nOAzBV4GVCk26UaIVHUhQ8zwcwd.jpeg\")\n",
    "assert test_image is not None, \"file could not be read, check with os.path.exists()\"\n",
    "ideal_mask = ((cv2.cvtColor(np.array(Image.open(\"C:/Users/khard/Documents/GitHub/jupyter/PollenCounter/BeeMask.png\")), cv2.COLOR_BGR2GRAY))/255).astype('uint8')\n",
    "h, w, _ = np.shape(test_image)\n",
    "kernel = np.ones((3,3), np.uint8)\n",
    "\n",
    "# rembg\n",
    "rembg_mask = remove(\n",
    "    test_image,\n",
    "    alpha_matting=True,\n",
    "    alpha_matting_foreground_threshold=240,\n",
    "    alpha_matting_background_threshold=10,\n",
    "    alpha_matting_erode_structure_size=10,\n",
    "    alpha_matting_base_size=1000,\n",
    ")\n",
    "rembg_mask = np.array(rembg_mask.getchannel( 'A' )) / 255\n",
    "rembg_mask = np.array([[round(j) for j in i] for i in np.array(rembg_mask)]).astype(np.uint8)\n",
    "rembg_mask = cv2.dilate(rembg_mask, kernel, iterations = 1)\n",
    "rembg_mask = cv2.medianBlur(rembg_mask, 5)\n",
    "rembg_mask3 = np.repeat(np.array(rembg_mask)[:, :, np.newaxis], 3, axis=2).astype(np.uint8)\n",
    "rembg_img = rembg_mask3 * test_image\n",
    "\n",
    "# GrabCut\n",
    "grabcut_mask = np.zeros((h + 2, w + 2), np.uint8)\n",
    "backgroundModel = np.zeros((1, 65), np.float64)\n",
    "foregroundModel = np.zeros((1, 65), np.float64)\n",
    "\n",
    "# (startingPoint_x, startingPoint_y, width, height)\n",
    "rectangle = (1, 1, w, h)\n",
    "\n",
    "expand_img = cv2.copyMakeBorder(np.array(test_image), 1, 1, 1, 1, cv2.BORDER_REPLICATE)\n",
    "\n",
    "cv2.grabCut(expand_img, grabcut_mask, rectangle,  \n",
    "            backgroundModel, foregroundModel,\n",
    "            3, cv2.GC_INIT_WITH_RECT)\n",
    "\n",
    "grabcut_mask = Image.fromarray(np.where((grabcut_mask == 2)|(grabcut_mask == 0), 0, 1).astype('uint8'))\n",
    "grabcut_mask = np.array(grabcut_mask.crop((1, 1, w + 1, h + 1)))\n",
    "grabcut_mask = cv2.dilate(grabcut_mask, kernel, iterations = 1)\n",
    "grabcut_mask = cv2.medianBlur(grabcut_mask, 5)\n",
    "grabcut_mask3 = np.repeat(grabcut_mask[:, :, np.newaxis], 3, axis=2).astype(np.uint8)\n",
    "grabcut_img = grabcut_mask3 * test_image\n",
    "\n",
    "# Gradient Descent\n",
    "# margin = 2\n",
    "# sharp = 1.612\n",
    "# a = 0.137\n",
    "# b = -112\n",
    "# params = [margin, sharp, a, b]\n",
    "\n",
    "# best, m_norm_min = grad_desc(test_image, ideal_mask, params)\n",
    "\n",
    "margin = 2\n",
    "sharp = 1.637\n",
    "a = 0.137\n",
    "b = -112\n",
    "best = [margin, sharp, a, b]\n",
    "m_norm = cost(ideal_mask, test_image, best)\n",
    "\n",
    "gradD_mask = new_extract_sub(test_image, best)\n",
    "gradD_mask = cv2.dilate(gradD_mask, kernel, iterations = 1)\n",
    "gradD_mask = cv2.medianBlur(gradD_mask, 5)\n",
    "gradD_mask3 = np.repeat(gradD_mask[:, :, np.newaxis], 3, axis=2).astype(np.uint8)\n",
    "gradD_img = gradD_mask3 * test_image\n",
    "\n",
    "# Combined\n",
    "#comb_mask = cv2.bitwise_or(gradD_mask, rembg_mask)\n",
    "comb_mask = cv2.bitwise_or(rembg_mask, grabcut_mask)\n",
    "comb_mask3 = np.repeat(comb_mask[:, :, np.newaxis], 3, axis=2).astype(np.uint8)\n",
    "comb_img = comb_mask3 * test_image\n",
    "\n",
    "'''\n",
    "print(type(ideal_mask))\n",
    "print(type(gradD_mask))\n",
    "print(type(rembg_mask))\n",
    "print(type(grabcut_mask))\n",
    "print(type(comb_mask))\n",
    "print(ideal_mask.dtype)\n",
    "print(gradD_mask.dtype)\n",
    "print(rembg_mask.dtype)\n",
    "#print(grabcut_mask.dtype)\n",
    "print(comb_mask.dtype)\n",
    "print(np.shape(ideal_mask))\n",
    "print(np.shape(gradD_mask))\n",
    "print(np.shape(rembg_mask))\n",
    "print(np.shape(grabcut_mask))\n",
    "print(np.shape(comb_mask))\n",
    "'''\n",
    "'''\n",
    "#create subplots\n",
    "fig, ax = plt.subplots(5, 2, figsize=(10, 20))\n",
    "fig.tight_layout()\n",
    "\n",
    "ax[0, 0].imshow(ideal_mask)\n",
    "ax[0, 1].imshow(test_image)\n",
    "ax[1, 0].imshow(gradD_mask)\n",
    "ax[1, 1].imshow(gradD_img)\n",
    "ax[2, 0].imshow(rembg_mask)\n",
    "ax[2, 1].imshow(rembg_img)\n",
    "ax[3, 0].imshow(grabcut_mask)\n",
    "ax[3, 1].imshow(grabcut_img)\n",
    "ax[4, 0].imshow(comb_mask)\n",
    "ax[4, 1].imshow(comb_img)\n",
    "\n",
    "ax[0, 0].title.set_text('Ideal Mask')\n",
    "ax[0, 1].title.set_text('Test Image')\n",
    "ax[1, 0].title.set_text('Gradient Descent Mask')\n",
    "ax[1, 1].title.set_text('Gradient Descent Image')\n",
    "ax[2, 0].title.set_text('rembg Mask')\n",
    "ax[2, 1].title.set_text('rembg Image')\n",
    "ax[3, 0].title.set_text('GrabCut Mask')\n",
    "ax[3, 1].title.set_text('GrabCut Image')\n",
    "ax[4, 0].title.set_text('Combined Mask')\n",
    "ax[4, 1].title.set_text('Combined Image')\n",
    "plt.show()\n",
    "'''\n",
    "print(\"Done\")"
   ]
  },
  {
   "cell_type": "markdown",
   "metadata": {
    "tags": []
   },
   "source": [
    "## Augment images"
   ]
  },
  {
   "cell_type": "code",
   "execution_count": 19,
   "metadata": {
    "tags": []
   },
   "outputs": [
    {
     "name": "stderr",
     "output_type": "stream",
     "text": [
      "Augment training images: 100%|█████████████████████████████████████████████████████| 20/20 [00:00<00:00, 20.81images/s]"
     ]
    },
    {
     "name": "stdout",
     "output_type": "stream",
     "text": [
      "Succeeded for 0 of 20\n"
     ]
    },
    {
     "name": "stderr",
     "output_type": "stream",
     "text": [
      "\n",
      "Augment test images: 100%|█████████████████████████████████████████████████████████| 20/20 [00:00<00:00, 23.59images/s]"
     ]
    },
    {
     "name": "stdout",
     "output_type": "stream",
     "text": [
      "Succeeded for 0 of 20\n"
     ]
    },
    {
     "name": "stderr",
     "output_type": "stream",
     "text": [
      "\n",
      "Prep training images: 0images [00:00, ?images/s]"
     ]
    },
    {
     "name": "stdout",
     "output_type": "stream",
     "text": [
      "Done prepping data.\n",
      "Succeeded for 0 of 0\n",
      "Done\n",
      "[]\n"
     ]
    },
    {
     "name": "stderr",
     "output_type": "stream",
     "text": [
      "\n"
     ]
    }
   ],
   "source": [
    "#train_images_np, gt_boxes, train_labels = augment_set(ds_train, set_name=\"Augment training images\")\n",
    "test_image, test_label = next(iter(ds_train.shuffle(len(ds_train)).take(1)))\n",
    "\n",
    "# new_image, margin (higher = greater removal), sharp_value (0 - 2, higher = sharper),\n",
    "# alpha (contrast, 0 < 1 = lower contrast, 1 = neutral, x > 1 = higher contrast), beta (brightness, -127 < x < 127, 0 = neutral, higher = brighter)\n",
    "\n",
    "#new_extract_sub(test_image, 2, 1.612, 0.137, -112)\n",
    "\n",
    "train_images_np, gt_boxes, train_labels = augment_set(ds_train, num_images=20, set_name=\"Augment training images\")\n",
    "#test_images_np = augment_set(ds_test, training=False, set_name=\"Augment test images\")\n",
    "test_images_np = augment_set(ds_test, training=False, num_images=20, set_name=\"Augment test images\")\n",
    "\n",
    "plt.rcParams['axes.grid'] = False\n",
    "plt.rcParams['xtick.labelsize'] = False\n",
    "plt.rcParams['ytick.labelsize'] = False\n",
    "plt.rcParams['xtick.top'] = False\n",
    "plt.rcParams['xtick.bottom'] = False\n",
    "plt.rcParams['ytick.left'] = False\n",
    "plt.rcParams['ytick.right'] = False\n",
    "plt.rcParams['figure.figsize'] = [14, 7]\n",
    "\n",
    "for idx, train_image_np in enumerate(train_images_np[0:6]):\n",
    "    plt.subplot(2, 3, idx+1)\n",
    "    plt.title((train_labels[idx])[0]['name'])\n",
    "    plt.imshow(train_image_np)\n",
    "plt.show\n",
    "\n",
    "# By convention, our non-background classes start counting at 1.\n",
    "num_classes = 5\n",
    "\n",
    "# augment_set is moving through try loop and passing!!!!!!!!!!!!!!!!!!!!!!!!!\n",
    "\n",
    "# Convert class labels to one-hot; convert everything to tensors.\n",
    "# The `label_id_offset` here shifts all classes by a certain number of indices;\n",
    "# we do this here so that the model receives one-hot labels where non-background\n",
    "# classes start counting at the zeroth index.  This is ordinarily just handled\n",
    "# automatically in our training binaries, but we need to reproduce it here.\n",
    "label_id_offset = 1\n",
    "train_image_tensors = []\n",
    "gt_classes_one_hot_tensors = []\n",
    "gt_box_tensors = []\n",
    "item_num = np.shape(train_images_np)[0]\n",
    "with tqdm(total=np.shape(train_images_np)[0], unit=\"images\", desc=str(\"Prep training images\")) as pbar:\n",
    "    for (train_image_np, gt_box_np) in zip(train_images_np, gt_boxes):\n",
    "        try:\n",
    "            train_image_tensors.append(tf.expand_dims(tf.convert_to_tensor(train_image_np, dtype=tf.float32), axis=0))\n",
    "            gt_box_tensors.append(tf.convert_to_tensor(gt_box_np, dtype=tf.float32))\n",
    "            zero_indexed_groundtruth_classes = tf.convert_to_tensor(np.ones(shape=[gt_box_np.shape[0]], dtype=np.int32) - label_id_offset)\n",
    "            gt_classes_one_hot_tensors.append(tf.one_hot(zero_indexed_groundtruth_classes, num_classes))\n",
    "        except:\n",
    "            pass\n",
    "        pbar.update(1)\n",
    "\n",
    "print('Done prepping data.')\n",
    "print('Succeeded for ' + str(len(train_image_tensors)) + ' of ' + str(item_num), flush=True)\n",
    "\n",
    "print(\"Done\")\n",
    "print(train_images_np)"
   ]
  },
  {
   "cell_type": "markdown",
   "metadata": {
    "id": "b3_Z3mJWN9KJ"
   },
   "source": [
    "# Let's just visualize the images as a sanity check"
   ]
  },
  {
   "cell_type": "code",
   "execution_count": 12,
   "metadata": {
    "id": "YBD6l-E4N71y",
    "vscode": {
     "languageId": "python"
    }
   },
   "outputs": [
    {
     "ename": "IndexError",
     "evalue": "list index out of range",
     "output_type": "error",
     "traceback": [
      "\u001b[1;31m---------------------------------------------------------------------------\u001b[0m",
      "\u001b[1;31mIndexError\u001b[0m                                Traceback (most recent call last)",
      "Cell \u001b[1;32mIn[12], line 7\u001b[0m\n\u001b[0;32m      4\u001b[0m \u001b[38;5;28;01mfor\u001b[39;00m idx \u001b[38;5;129;01min\u001b[39;00m \u001b[38;5;28mrange\u001b[39m(\u001b[38;5;241m6\u001b[39m):\n\u001b[0;32m      5\u001b[0m     plt\u001b[38;5;241m.\u001b[39msubplot(\u001b[38;5;241m2\u001b[39m, \u001b[38;5;241m3\u001b[39m, idx\u001b[38;5;241m+\u001b[39m\u001b[38;5;241m1\u001b[39m)\n\u001b[0;32m      6\u001b[0m     plot_detections(\n\u001b[1;32m----> 7\u001b[0m         \u001b[43mtrain_images_np\u001b[49m\u001b[43m[\u001b[49m\u001b[43midx\u001b[49m\u001b[43m]\u001b[49m,\n\u001b[0;32m      8\u001b[0m         gt_boxes[idx],\n\u001b[0;32m      9\u001b[0m         np\u001b[38;5;241m.\u001b[39mones(shape\u001b[38;5;241m=\u001b[39m[gt_boxes[idx]\u001b[38;5;241m.\u001b[39mshape[\u001b[38;5;241m0\u001b[39m]], dtype\u001b[38;5;241m=\u001b[39mnp\u001b[38;5;241m.\u001b[39mint32),\n\u001b[0;32m     10\u001b[0m         dummy_scores, category_index)\n\u001b[0;32m     11\u001b[0m plt\u001b[38;5;241m.\u001b[39mshow()\n",
      "\u001b[1;31mIndexError\u001b[0m: list index out of range"
     ]
    },
    {
     "data": {
      "image/png": "[encoded data removed]",
      "text/plain": [
       "<Figure size 3000x1500 with 1 Axes>"
      ]
     },
     "metadata": {},
     "output_type": "display_data"
    }
   ],
   "source": [
    "dummy_scores = np.array([1.0], dtype=np.float32)  # give boxes a score of 100%\n",
    "\n",
    "plt.figure(figsize=(30, 15))\n",
    "for idx in range(6):\n",
    "    plt.subplot(2, 3, idx+1)\n",
    "    plot_detections(\n",
    "        train_images_np[idx],\n",
    "        gt_boxes[idx],\n",
    "        np.ones(shape=[gt_boxes[idx].shape[0]], dtype=np.int32),\n",
    "        dummy_scores, category_index)\n",
    "plt.show()"
   ]
  },
  {
   "cell_type": "markdown",
   "metadata": {
    "id": "ghDAsqfoZvPh"
   },
   "source": [
    "# Create model and restore weights for all but last layer\n",
    "\n",
    "In this cell we build a single stage detection architecture (RetinaNet) and restore all but the classification layer at the top (which will be automatically randomly initialized).\n",
    "\n",
    "For simplicity, we have hardcoded a number of things in this colab for the specific RetinaNet architecture at hand (including assuming that the image size will always be 640x640), however it is not difficult to generalize to other model configurations."
   ]
  },
  {
   "cell_type": "code",
   "execution_count": 5,
   "metadata": {
    "id": "9J16r3NChD-7",
    "vscode": {
     "languageId": "python"
    }
   },
   "outputs": [
    {
     "name": "stdout",
     "output_type": "stream",
     "text": [
      "Done\n"
     ]
    }
   ],
   "source": [
    "retinapath = \"C:/Users/khard/Documents/Tensorflow/PollenCounter/models/research/object_detection/test_data/checkpoint\"\n",
    "# Clone the tensorflow models repository if it doesn't already exist\n",
    "if os.path.exists(retinapath):\n",
    "    pass\n",
    "elif not os.path.exists(retinapath):\n",
    "    !wget http://download.tensorflow.org/models/object_detection/tf2/20200711/ssd_resnet50_v1_fpn_640x640_coco17_tpu-8.tar.gz\n",
    "    !tar -xf ssd_resnet50_v1_fpn_640x640_coco17_tpu-8.tar.gz\n",
    "    !mv ssd_resnet50_v1_fpn_640x640_coco17_tpu-8/checkpoint models/research/object_detection/test_data/\n",
    "\n",
    "print(\"Done\")"
   ]
  },
  {
   "cell_type": "code",
   "execution_count": 11,
   "metadata": {
    "id": "RyT4BUbaMeG-",
    "vscode": {
     "languageId": "python"
    }
   },
   "outputs": [
    {
     "name": "stdout",
     "output_type": "stream",
     "text": [
      "Building model and restoring weights for fine-tuning...\n",
      "Weights restored!\n"
     ]
    }
   ],
   "source": [
    "tf.keras.backend.clear_session()\n",
    "\n",
    "print('Building model and restoring weights for fine-tuning...', flush=True)\n",
    "num_classes = 5\n",
    "pipeline_config = 'models/research/object_detection/configs/tf2/ssd_resnet50_v1_fpn_640x640_coco17_tpu-8.config'\n",
    "checkpoint_path = 'models/research/object_detection/test_data/checkpoint/ckpt-0'\n",
    "\n",
    "# Load pipeline config and build a detection model.\n",
    "#\n",
    "# Since we are working off of a COCO architecture which predicts 90\n",
    "# class slots by default, we override the `num_classes` field here to be just\n",
    "# one (for our new rubber ducky class).\n",
    "configs = config_util.get_configs_from_pipeline_file(pipeline_config)\n",
    "model_config = configs['model']\n",
    "model_config.ssd.num_classes = num_classes\n",
    "model_config.ssd.freeze_batchnorm = True\n",
    "detection_model = model_builder.build(\n",
    "      model_config=model_config, is_training=True)\n",
    "\n",
    "# Set up object-based checkpoint restore --- RetinaNet has two prediction\n",
    "# `heads` --- one for classification, the other for box regression.  We will\n",
    "# restore the box regression head but initialize the classification head\n",
    "# from scratch (we show the omission below by commenting out the line that\n",
    "# we would add if we wanted to restore both heads)\n",
    "fake_box_predictor = tf.compat.v2.train.Checkpoint(\n",
    "    _base_tower_layers_for_heads=detection_model._box_predictor._base_tower_layers_for_heads,\n",
    "    # _prediction_heads=detection_model._box_predictor._prediction_heads,\n",
    "    #    (i.e., the classification head that we *will not* restore)\n",
    "    _box_prediction_head=detection_model._box_predictor._box_prediction_head,\n",
    "    )\n",
    "fake_model = tf.compat.v2.train.Checkpoint(\n",
    "          _feature_extractor=detection_model._feature_extractor,\n",
    "          _box_predictor=fake_box_predictor)\n",
    "ckpt = tf.compat.v2.train.Checkpoint(model=fake_model)\n",
    "ckpt.restore(checkpoint_path).expect_partial()\n",
    "\n",
    "# Run model through a dummy image so that variables are created\n",
    "image, shapes = detection_model.preprocess(tf.zeros([1, 640, 640, 3]))\n",
    "prediction_dict = detection_model.predict(image, shapes)\n",
    "_ = detection_model.postprocess(prediction_dict, shapes)\n",
    "print('Weights restored!')"
   ]
  },
  {
   "cell_type": "markdown",
   "metadata": {
    "id": "pCkWmdoZZ0zJ"
   },
   "source": [
    "# Eager mode custom training loop\n",
    "\n"
   ]
  },
  {
   "cell_type": "code",
   "execution_count": 13,
   "metadata": {
    "id": "nyHoF4mUrv5-",
    "vscode": {
     "languageId": "python"
    }
   },
   "outputs": [
    {
     "name": "stdout",
     "output_type": "stream",
     "text": [
      "Start fine-tuning!\n"
     ]
    },
    {
     "name": "stderr",
     "output_type": "stream",
     "text": [
      "100%|██████████████████████████████████████████████████████████████████| 82/82 [22:44<00:00, 16.64s/batchs, loss=0.221]"
     ]
    },
    {
     "name": "stdout",
     "output_type": "stream",
     "text": [
      "Done fine-tuning!\n"
     ]
    },
    {
     "name": "stderr",
     "output_type": "stream",
     "text": [
      "\n"
     ]
    }
   ],
   "source": [
    "#tf.keras.backend.set_learning_phase(True)\n",
    "\n",
    "# These parameters can be tuned; since our training set has 5 images\n",
    "# it doesn't make sense to have a much larger batch size, though we could\n",
    "# fit more examples in memory if we wanted to.\n",
    "batch_size = 64\n",
    "learning_rate = 0.01\n",
    "num_batches = round(len(train_image_tensors) / batch_size)\n",
    "\n",
    "# Select variables in top layers to fine-tune.\n",
    "trainable_variables = detection_model.trainable_variables\n",
    "to_fine_tune = []\n",
    "prefixes_to_train = [\n",
    "    'WeightSharedConvolutionalBoxPredictor/WeightSharedConvolutionalBoxHead',\n",
    "    'WeightSharedConvolutionalBoxPredictor/WeightSharedConvolutionalClassHead']\n",
    "for var in trainable_variables:\n",
    "    if any([var.name.startswith(prefix) for prefix in prefixes_to_train]):\n",
    "        to_fine_tune.append(var)\n",
    "\n",
    "# Set up forward + backward pass for a single train step.\n",
    "def get_model_train_step_function(model, optimizer, vars_to_fine_tune):\n",
    "    \"\"\"Get a tf.function for training step.\"\"\"\n",
    "\n",
    "    # Use tf.function for a bit of speed.\n",
    "    # Comment out the tf.function decorator if you want the inside of the\n",
    "    # function to run eagerly.\n",
    "    @tf.function\n",
    "    def train_step_fn(image_tensors,\n",
    "                    groundtruth_boxes_list,\n",
    "                    groundtruth_classes_list):\n",
    "        \"\"\"A single training iteration.\n",
    "\n",
    "        Args:\n",
    "          image_tensors: A list of [1, height, width, 3] Tensor of type tf.float32.\n",
    "            Note that the height and width can vary across images, as they are\n",
    "            reshaped within this function to be 640x640.\n",
    "          groundtruth_boxes_list: A list of Tensors of shape [N_i, 4] with type\n",
    "            tf.float32 representing groundtruth boxes for each image in the batch.\n",
    "          groundtruth_classes_list: A list of Tensors of shape [N_i, num_classes]\n",
    "            with type tf.float32 representing groundtruth boxes for each image in\n",
    "            the batch.\n",
    "\n",
    "        Returns:\n",
    "          A scalar tensor representing the total loss for the input batch.\n",
    "        \"\"\"\n",
    "        shapes = tf.constant(batch_size * [[640, 640, 3]], dtype=tf.int32)\n",
    "        model.provide_groundtruth(\n",
    "            groundtruth_boxes_list=groundtruth_boxes_list,\n",
    "            groundtruth_classes_list=groundtruth_classes_list)\n",
    "        with tf.GradientTape() as tape:\n",
    "            preprocessed_images = tf.concat(\n",
    "                [detection_model.preprocess(image_tensor)[0]\n",
    "                for image_tensor in image_tensors], axis=0)\n",
    "            prediction_dict = model.predict(preprocessed_images, shapes)\n",
    "            losses_dict = model.loss(prediction_dict, shapes)\n",
    "            total_loss = losses_dict['Loss/localization_loss'] + losses_dict['Loss/classification_loss']\n",
    "            gradients = tape.gradient(total_loss, vars_to_fine_tune)\n",
    "            optimizer.apply_gradients(zip(gradients, vars_to_fine_tune))\n",
    "        return total_loss\n",
    "\n",
    "    return train_step_fn\n",
    "\n",
    "optimizer = tf.keras.optimizers.SGD(learning_rate=learning_rate, momentum=0.9)\n",
    "train_step_fn = get_model_train_step_function(\n",
    "    detection_model, optimizer, to_fine_tune)\n",
    "\n",
    "print('Start fine-tuning!', flush=True)\n",
    "with tqdm(total = num_batches, unit=\"batchs\") as pbar:\n",
    "    for idx in range(num_batches):\n",
    "        # Grab keys for a random subset of examples\n",
    "        all_keys = list(range(len(train_images_np)))\n",
    "        random.shuffle(all_keys)\n",
    "        example_keys = all_keys[:batch_size]\n",
    "\n",
    "        # Note that we do not do data augmentation in this demo.  If you want a\n",
    "        # a fun exercise, we recommend experimenting with random horizontal flipping\n",
    "        # and random cropping :)\n",
    "        gt_boxes_list = [gt_box_tensors[key] for key in example_keys]\n",
    "        gt_classes_list = [gt_classes_one_hot_tensors[key] for key in example_keys]\n",
    "        image_tensors = [train_image_tensors[key] for key in example_keys]\n",
    "\n",
    "        # Training step (forward pass + backwards pass)\n",
    "        total_loss = train_step_fn(image_tensors, gt_boxes_list, gt_classes_list)\n",
    "\n",
    "        #if idx % 10 == 0:\n",
    "            #print('batch ' + str(idx) + ' of ' + str(num_batches) + ', loss=' +  str(total_loss.numpy()), flush=True)\n",
    "        pbar.set_postfix(loss=total_loss.numpy())\n",
    "        pbar.update(1)\n",
    "\n",
    "print('Done fine-tuning!')"
   ]
  },
  {
   "cell_type": "markdown",
   "metadata": {
    "id": "WHlXL1x_Z3tc"
   },
   "source": [
    "# Load test images and run inference with new model!"
   ]
  },
  {
   "cell_type": "code",
   "execution_count": 70,
   "metadata": {
    "id": "WcE6OwrHQJya",
    "vscode": {
     "languageId": "python"
    }
   },
   "outputs": [
    {
     "data": {
      "image/png": "[encoded data removed]",
      "text/plain": [
       "<Figure size 1400x700 with 6 Axes>"
      ]
     },
     "metadata": {},
     "output_type": "display_data"
    },
    {
     "name": "stdout",
     "output_type": "stream",
     "text": [
      "Done\n"
     ]
    }
   ],
   "source": [
    "'''\n",
    "test_image_dir = 'models/research/object_detection/test_images/ducky/test/'\n",
    "test_images_np = []\n",
    "for i in range(1, 50):\n",
    "    image_path = os.path.join(test_image_dir, 'out' + str(i) + '.jpg')\n",
    "    test_images_np.append(np.expand_dims(\n",
    "        load_image_into_numpy_array(image_path), axis=0))\n",
    "'''\n",
    "\n",
    "# Again, uncomment this decorator if you want to run inference eagerly\n",
    "@tf.function\n",
    "def detect(input_tensor):\n",
    "    \"\"\"Run detection on an input image.\n",
    "\n",
    "    Args:\n",
    "    input_tensor: A [1, height, width, 3] Tensor of type tf.float32.\n",
    "      Note that height and width can be anything since the image will be\n",
    "      immediately resized according to the needs of the model within this\n",
    "      function.\n",
    "\n",
    "    Returns:\n",
    "    A dict containing 3 Tensors (`detection_boxes`, `detection_classes`,\n",
    "      and `detection_scores`).\n",
    "    \"\"\"\n",
    "    preprocessed_image, shapes = detection_model.preprocess(input_tensor)\n",
    "    prediction_dict = detection_model.predict(preprocessed_image, shapes)\n",
    "    return detection_model.postprocess(prediction_dict, shapes)\n",
    "\n",
    "# Note that the first frame will trigger tracing of the tf.function, which will\n",
    "# take some time, after which inference should be fast.\n",
    "\n",
    "label_id_offset = 1\n",
    "for i in range(6):\n",
    "    plt.subplot(2, 3, i+1)\n",
    "    input_tensor = tf.convert_to_tensor(test_images_np[i], dtype=tf.float32)\n",
    "    input_tensor = tf.expand_dims(input_tensor, 0)\n",
    "    detections = detect(input_tensor)\n",
    "\n",
    "    plot_detections(\n",
    "        test_images_np[i],\n",
    "        np.array([detections['detection_boxes'][0][i]]),\n",
    "        [(detections['detection_classes'][0].numpy().astype(np.uint32) + label_id_offset)[i]],\n",
    "        [(detections['detection_scores'][0].numpy())[i]],\n",
    "        category_index, figsize=(15, 20))\n",
    "plt.show()\n",
    "\n",
    "print(\"Done\")"
   ]
  },
  {
   "cell_type": "code",
   "execution_count": null,
   "metadata": {},
   "outputs": [],
   "source": []
  }
 ],
 "metadata": {
  "accelerator": "GPU",
  "colab": {
   "name": "interactive_eager_few_shot_od_training_colab.ipynb",
   "provenance": []
  },
  "kernelspec": {
   "display_name": "Python 3 (ipykernel)",
   "language": "python",
   "name": "python3"
  },
  "language_info": {
   "codemirror_mode": {
    "name": "ipython",
    "version": 3
   },
   "file_extension": ".py",
   "mimetype": "text/x-python",
   "name": "python",
   "nbconvert_exporter": "python",
   "pygments_lexer": "ipython3",
   "version": "3.9.17"
  }
 },
 "nbformat": 4,
 "nbformat_minor": 4
}
