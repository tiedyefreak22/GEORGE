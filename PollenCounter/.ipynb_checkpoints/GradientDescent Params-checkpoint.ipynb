{
 "cells": [
  {
   "cell_type": "markdown",
   "metadata": {
    "id": "rOvvWAVTkMR7"
   },
   "source": [
    "# Gradient Descent Parameter Finder"
   ]
  },
  {
   "cell_type": "markdown",
   "metadata": {
    "id": "vPs64QA1Zdov"
   },
   "source": [
    "## Imports"
   ]
  },
  {
   "cell_type": "code",
   "execution_count": 1,
   "metadata": {
    "id": "uZcqD4NLdnf4",
    "vscode": {
     "languageId": "python"
    }
   },
   "outputs": [
    {
     "name": "stderr",
     "output_type": "stream",
     "text": [
      "C:\\Users\\khard\\.conda\\envs\\tensorflow\\lib\\site-packages\\paramiko\\transport.py:219: CryptographyDeprecationWarning: Blowfish has been deprecated\n",
      "  \"class\": algorithms.Blowfish,\n"
     ]
    },
    {
     "name": "stdout",
     "output_type": "stream",
     "text": [
      "Done\n"
     ]
    }
   ],
   "source": [
    "import os\n",
    "import pathlib\n",
    "from rembg import remove\n",
    "\n",
    "import matplotlib\n",
    "import matplotlib.pyplot as plt\n",
    "\n",
    "import os\n",
    "import random\n",
    "#import io\n",
    "#import imageio\n",
    "#import glob\n",
    "import imutils\n",
    "import cv2\n",
    "#import scipy.misc\n",
    "import numpy as np\n",
    "#from six import BytesIO\n",
    "from PIL import Image, ImageDraw, ImageFont\n",
    "#from IPython.display import display, Javascript\n",
    "#from IPython.display import Image as IPyImage\n",
    "from tqdm import tqdm\n",
    "#import time\n",
    "\n",
    "import tensorflow as tf\n",
    "import tensorflow_datasets as tfds\n",
    "from tensorflow.keras import layers\n",
    "\n",
    "%matplotlib inline\n",
    "\n",
    "print(\"Done\")"
   ]
  },
  {
   "cell_type": "markdown",
   "metadata": {
    "tags": []
   },
   "source": [
    "## Data Augmentation"
   ]
  },
  {
   "cell_type": "code",
   "execution_count": 2,
   "metadata": {
    "tags": []
   },
   "outputs": [
    {
     "name": "stdout",
     "output_type": "stream",
     "text": [
      "Done\n"
     ]
    }
   ],
   "source": [
    "def new_extract_sub(new_image, params=[2, 1.596, 0.136, -111]):\n",
    "    margin, sharp_value, alpha, beta = params\n",
    "    new_image = np.array(new_image)\n",
    "    \n",
    "    h, w, d = tf.shape(new_image)\n",
    "    res = (w, h);\n",
    "\n",
    "    # resize\n",
    "    #new_image = cv2.resize(new_image, res);\n",
    "    \n",
    "    new_image = cv2.convertScaleAbs(new_image, alpha=alpha, beta=beta)\n",
    "    \n",
    "    # sharpen\n",
    "    sharp_image = cv2.GaussianBlur(new_image, [0, 0], 3)\n",
    "    new_image = cv2.addWeighted(new_image, sharp_value, sharp_image, 1 - sharp_value, 0)\n",
    "    \n",
    "    # change to hsv\n",
    "    hsv = cv2.cvtColor(new_image, cv2.COLOR_BGR2HSV);\n",
    "    h,s,v = cv2.split(hsv);\n",
    "\n",
    "    # get uniques\n",
    "    unique_colors, counts = np.unique(s, return_counts=True);\n",
    "\n",
    "    # sort through and grab the most abundant unique color\n",
    "    big_color = None;\n",
    "    biggest = -1;\n",
    "    for a in range(len(unique_colors)):\n",
    "        if counts[a] > biggest:\n",
    "            biggest = counts[a];\n",
    "            big_color = int(unique_colors[a]);\n",
    "\n",
    "    # get the color mask\n",
    "    mask = cv2.inRange(s, big_color - margin, big_color + margin);\n",
    "\n",
    "    # smooth out the mask and invert\n",
    "    kernel = np.ones((3,3), np.uint8);\n",
    "    mask = cv2.dilate(mask, kernel, iterations = 1);\n",
    "    mask = cv2.medianBlur(mask, 5);\n",
    "    mask = cv2.bitwise_not(mask);\n",
    "\n",
    "    # crop out the image\n",
    "    crop = np.zeros_like(new_image);\n",
    "    crop[mask == 255] = new_image[mask == 255];\n",
    "    \n",
    "    return (mask/255).astype('uint8')\n",
    "\n",
    "def cost(ideal_mask, test_image, params):\n",
    "    return sum(sum(abs(ideal_mask - new_extract_sub(test_image, params))))\n",
    "\n",
    "print(\"Done\")"
   ]
  },
  {
   "cell_type": "markdown",
   "metadata": {},
   "source": [
    "## Gradient Descent"
   ]
  },
  {
   "cell_type": "code",
   "execution_count": 25,
   "metadata": {
    "tags": []
   },
   "outputs": [
    {
     "ename": "TypeError",
     "evalue": "type numpy.ndarray doesn't define __round__ method",
     "output_type": "error",
     "traceback": [
      "\u001b[1;31m---------------------------------------------------------------------------\u001b[0m",
      "\u001b[1;31mTypeError\u001b[0m                                 Traceback (most recent call last)",
      "Cell \u001b[1;32mIn[25], line 22\u001b[0m\n\u001b[0;32m     12\u001b[0m \u001b[38;5;66;03m# rembg\u001b[39;00m\n\u001b[0;32m     13\u001b[0m rembg_mask \u001b[38;5;241m=\u001b[39m remove(\n\u001b[0;32m     14\u001b[0m     test_image,\n\u001b[0;32m     15\u001b[0m     alpha_matting\u001b[38;5;241m=\u001b[39m\u001b[38;5;28;01mTrue\u001b[39;00m,\n\u001b[1;32m   (...)\u001b[0m\n\u001b[0;32m     19\u001b[0m     alpha_matting_base_size\u001b[38;5;241m=\u001b[39m\u001b[38;5;241m1000\u001b[39m,\n\u001b[0;32m     20\u001b[0m )\n\u001b[1;32m---> 22\u001b[0m rembg_mask \u001b[38;5;241m=\u001b[39m \u001b[38;5;28;43mround\u001b[39;49m\u001b[43m(\u001b[49m\u001b[43mnp\u001b[49m\u001b[38;5;241;43m.\u001b[39;49m\u001b[43marray\u001b[49m\u001b[43m(\u001b[49m\u001b[43mrembg_mask\u001b[49m\u001b[38;5;241;43m.\u001b[39;49m\u001b[43mgetchannel\u001b[49m\u001b[43m(\u001b[49m\u001b[43m \u001b[49m\u001b[38;5;124;43m'\u001b[39;49m\u001b[38;5;124;43mA\u001b[39;49m\u001b[38;5;124;43m'\u001b[39;49m\u001b[43m \u001b[49m\u001b[43m)\u001b[49m\u001b[43m)\u001b[49m\u001b[43m \u001b[49m\u001b[38;5;241;43m/\u001b[39;49m\u001b[43m \u001b[49m\u001b[38;5;241;43m255\u001b[39;49m\u001b[43m)\u001b[49m\n\u001b[0;32m     23\u001b[0m rembg_mask \u001b[38;5;241m=\u001b[39m np\u001b[38;5;241m.\u001b[39mrepeat(rembg_mask[:, :, np\u001b[38;5;241m.\u001b[39mnewaxis], \u001b[38;5;241m3\u001b[39m, axis\u001b[38;5;241m=\u001b[39m\u001b[38;5;241m2\u001b[39m)\u001b[38;5;241m.\u001b[39mastype(np\u001b[38;5;241m.\u001b[39muint8)\n\u001b[0;32m     25\u001b[0m \u001b[38;5;66;03m#new_image = (np.ones(np.shape(opt_mask)) - opt_mask) * test_image\u001b[39;00m\n",
      "\u001b[1;31mTypeError\u001b[0m: type numpy.ndarray doesn't define __round__ method"
     ]
    }
   ],
   "source": [
    "test_image = Image.open(\"C:/Users/khard/Documents/Tensorflow/PollenCounter/DatasetBuilder/images_150/0fRg4nOAzBV4GVCk26UaIVHUhQ8zwcwd.jpeg\")\n",
    "assert test_image is not None, \"file could not be read, check with os.path.exists()\"\n",
    "ideal_mask = ((cv2.cvtColor(np.array(Image.open(\"C:/Users/khard/Documents/Tensorflow/PollenCounter/BeeMask.png\")), cv2.COLOR_BGR2GRAY))/255).astype('uint8')\n",
    "h, w, _ = np.shape(test_image)\n",
    "margin = 2\n",
    "sharp = 1.637\n",
    "a = 0.137\n",
    "b = -112\n",
    "best = [margin, sharp, a, b]\n",
    "m_norm = cost(ideal_mask, test_image, best)\n",
    "\n",
    "# rembg\n",
    "rembg_mask = remove(\n",
    "    test_image,\n",
    "    alpha_matting=True,\n",
    "    alpha_matting_foreground_threshold=240,\n",
    "    alpha_matting_background_threshold=10,\n",
    "    alpha_matting_erode_structure_size=10,\n",
    "    alpha_matting_base_size=1000,\n",
    ")\n",
    "\n",
    "rembg_mask = round(np.array(rembg_mask.getchannel( 'A' )) / 255)\n",
    "rembg_mask = np.repeat(rembg_mask[:, :, np.newaxis], 3, axis=2).astype(np.uint8)\n",
    "\n",
    "#new_image = (np.ones(np.shape(opt_mask)) - opt_mask) * test_image\n",
    "rembg_img = rembg_mask * test_image\n",
    "\n",
    "#alphaChannelImage = image.getchannel( 'A' ) # Mode 'L'\n",
    "\n",
    "# GrabCut\n",
    "ini_mask = np.zeros(np.shape(test_image)[:2], np.uint8)\n",
    "bgdModel = np.zeros((1,65), np.float64)\n",
    "fgdModel = np.zeros((1,65), np.float64)\n",
    "rect = (round(w / 2), round(h / 2), w, h)\n",
    "cv2.grabCut(np.array(test_image), ini_mask, rect, bgdModel, fgdModel, 5, cv2.GC_INIT_WITH_RECT)\n",
    "grabcut_mask2 = np.where((ini_mask==2) | (ini_mask==0),0,1).astype('uint8')\n",
    "grabcut_img = test_image * grabcut_mask2[:,:,np.newaxis]\n",
    "\n",
    "#[[print(j[3]) for j in i] for i in np.array(output)]\n",
    "\n",
    "#output = remove(test_image)\n",
    "\n",
    "#[print(i[4]) for i in np.array(output)]\n",
    "    \n",
    "#print(np.array(output))\n",
    "#output.save(\"C:/Users/khard/Documents/Tensorflow/PollenCounter/0fRg4nOAzBV4GVCk26UaIVHUhQ8zwcwd.png\")\n",
    "#ai_mask = Image.open(\"C:/Users/khard/Documents/Tensorflow/PollenCounter/0fRg4nOAzBV4GVCk26UaIVHUhQ8zwcwd.png\")\n",
    "\n",
    "#ai_mask = cv2.cvtColor(np.array(ai_mask), cv2.COLOR_BGRA2BGR)\n",
    "#ai_mask = cv2.cvtColor(cv2.bitwise_not(np.array(ai_mask)), cv2.COLOR_BGR2GRAY)\n",
    "\n",
    "#print(np.array(ai_mask)[35][0])\n",
    "\n",
    "\n",
    "\n",
    "'''\n",
    "for i in range(height):\n",
    "    for j in range(width):\n",
    "        # img[i, j] is the RGB pixel at position (i, j)\n",
    "        # check if it's [0, 0, 0] and replace with [255, 255, 255] if so\n",
    "        if np.array(ai_mask)[i, j].sum() == 1020:\n",
    "            ai_mask[i, j] = [0, 0, 0, 0]\n",
    "'''\n",
    "\n",
    "\n",
    "#plt.imshow(test_image),plt.colorbar(),plt.show()            \n",
    "\n",
    "'''\n",
    "ai_mask = cv2.cvtColor(cv2.bitwise_not(np.array(ai_mask)), cv2.COLOR_BGR2GRAY);\n",
    "ai_mask = (ai_mask / 255).astype('uint8')\n",
    "\n",
    "# smooth out the mask and invert\n",
    "kernel = np.ones((3,3), np.uint8);\n",
    "ai_mask = cv2.dilate(ai_mask, kernel, iterations = 1);\n",
    "ai_mask = cv2.medianBlur(ai_mask, 5);\n",
    "#ai_mask = cv2.bitwise_not(ai_mask);\n",
    "ai_mask = np.ones(np.shape(ai_mask)) - ai_mask\n",
    "\n",
    "#test_image = mask_extract_sub(test_image)\n",
    "'''\n",
    "# Gradient Descent\n",
    "'''\n",
    "# Starting values\n",
    "margin = 2\n",
    "sharp = 1.612\n",
    "a = 0.137\n",
    "b = -112\n",
    "\n",
    "params = [margin, sharp, a, b]\n",
    "iterations = 250\n",
    "delta = 1e-4\n",
    "eps = 0.001\n",
    "#gamma = np.array([1e-8, 1e-7, 1e-8, 1e-6])\n",
    "gamma = 3e-10\n",
    "\n",
    "# m_norm is a function f(margin, sharp, a, b)\n",
    "# Params - an [N, 1] array of parameters to be optimized\n",
    "# Gamma - weighting factor (decrease when diverging)\n",
    "# Delta - step size\n",
    "# eps - early cutoff convergence threshold\n",
    "\n",
    "new_params = np.ones(len(params))\n",
    "dfdm_norm = np.ones(len(params))\n",
    "m_norm = cost(ideal_mask, test_image, params)\n",
    "starting_m_norm = m_norm\n",
    "\n",
    "i = 0\n",
    "best = params\n",
    "m_norm_min = m_norm\n",
    "\n",
    "with tqdm(total=iterations, desc=\"Gradient Descent\", unit=\"iter\") as pbar:\n",
    "    #while abs(sum(dfdm_norm)) > eps and i < iterations:\n",
    "    while i < iterations:\n",
    "        m_norm = cost(ideal_mask, test_image, params)\n",
    "        if m_norm < m_norm_min:\n",
    "            m_norm_min = m_norm\n",
    "            best = params\n",
    "        for j in range(len(params)): #calculating new gradient parameter by parameter\n",
    "            new_params = params\n",
    "            new_params[j] = params[j] + delta\n",
    "            dfdm_norm[j] = (cost(ideal_mask, test_image, new_params) -  m_norm) / delta\n",
    "        params = params - gamma * dfdm_norm\n",
    "        pbar.update(1)\n",
    "        pbar.set_postfix(m_norm=m_norm_min)#, mar=opt_margin, shp=opt_sharp, a=opt_alpha, b=opt_beta)\n",
    "        i = i + 1\n",
    "'''\n",
    "opt_mask = new_extract_sub(test_image, best)\n",
    "gradD_mask = np.repeat(opt_mask[:, :, np.newaxis], 3, axis=2).astype(np.uint8)\n",
    "\n",
    "#new_image = (np.ones(np.shape(opt_mask)) - opt_mask) * test_image\n",
    "gradD_img = gradD_mask * test_image\n",
    "\n",
    "\n",
    "#img1 = Image.fromarray(new_image.astype(np.uint8))\n",
    "#img2 = Image.fromarray(np.array(ai_mask).astype('uint8'))\n",
    "\n",
    "fig, ax = plt.subplots(5, 2, figsize=(10, 20))\n",
    "fig.tight_layout()\n",
    "\n",
    "#create subplots\n",
    "ax[0, 0].imshow(ideal_mask)\n",
    "ax[0, 1].imshow(test_image)\n",
    "ax[1, 0].imshow(gradD_mask)\n",
    "ax[1, 1].imshow(gradD_img)\n",
    "ax[2, 0].imshow(rembg_mask)\n",
    "ax[2, 1].imshow(rembg_img)\n",
    "ax[3, 0].imshow(grabcut_mask2)\n",
    "ax[3, 1].imshow(grabcut_img)\n",
    "#ax[4, 0].imshow(comb_mask)\n",
    "#ax[4, 1].imshow(comb_img)\n",
    "\n",
    "# print('Starting m_norm is: ' + str(starting_m_norm), flush=True)\n",
    "# print('Final m_norm is: ' + str(m_norm_min), flush=True)\n",
    "print('m_norm is: ' + str(m_norm), flush=True)\n",
    "\n",
    "# print('Margin is: ' + str(params[0]), flush=True)\n",
    "# print('Sharpness value is: ' + str(params[1]), flush=True)\n",
    "# print('Alpha is: ' + str(params[2]), flush=True)\n",
    "# print('Beta is: ' + str(params[3]), flush=True)\n",
    "\n",
    "# ai_mask = np.repeat(ai_mask[:, :, np.newaxis], 3, axis=2).astype(np.float32)\n",
    "# #new_image = (np.ones(np.shape(opt_mask)) - opt_mask) * test_image\n",
    "# ai_image = ai_mask * test_image\n",
    "\n",
    "plt1.title.set_text('Ideal Mask')\n",
    "plt2.title.set_text('Test Image')\n",
    "plt3.title.set_text('Gradient Descent Mask')\n",
    "plt4.title.set_text('Gradient Descent Image')\n",
    "plt5.title.set_text('rembg Mask')\n",
    "plt6.title.set_text('rembg Image')\n",
    "plt7.title.set_text('GrabCut Mask')\n",
    "plt8.title.set_text('GrabCut Image')\n",
    "plt9.title.set_text('Combined Mask')\n",
    "plt10.title.set_text('Combined Image')\n",
    "plt.show()\n",
    "#print(max(test_image[35]))\n",
    "\n",
    "#print('Final m_norm is: ' + str(cost(ideal_mask, ai_mask, best)), flush=True)\n",
    "\n"
   ]
  },
  {
   "cell_type": "code",
   "execution_count": null,
   "metadata": {},
   "outputs": [],
   "source": []
  }
 ],
 "metadata": {
  "accelerator": "GPU",
  "colab": {
   "name": "interactive_eager_few_shot_od_training_colab.ipynb",
   "provenance": []
  },
  "kernelspec": {
   "display_name": "Python 3 (ipykernel)",
   "language": "python",
   "name": "python3"
  },
  "language_info": {
   "codemirror_mode": {
    "name": "ipython",
    "version": 3
   },
   "file_extension": ".py",
   "mimetype": "text/x-python",
   "name": "python",
   "nbconvert_exporter": "python",
   "pygments_lexer": "ipython3",
   "version": "3.9.17"
  }
 },
 "nbformat": 4,
 "nbformat_minor": 4
}
