{
 "cells": [
  {
   "cell_type": "markdown",
   "metadata": {
    "id": "rOvvWAVTkMR7"
   },
   "source": [
    "# Gradient Descent Parameter Finder"
   ]
  },
  {
   "cell_type": "markdown",
   "metadata": {
    "id": "vPs64QA1Zdov"
   },
   "source": [
    "## Imports"
   ]
  },
  {
   "cell_type": "code",
   "execution_count": 1,
   "metadata": {
    "id": "uZcqD4NLdnf4",
    "vscode": {
     "languageId": "python"
    }
   },
   "outputs": [
    {
     "name": "stderr",
     "output_type": "stream",
     "text": [
      "C:\\Users\\khard\\.conda\\envs\\tensorflow\\lib\\site-packages\\paramiko\\transport.py:219: CryptographyDeprecationWarning: Blowfish has been deprecated\n",
      "  \"class\": algorithms.Blowfish,\n"
     ]
    },
    {
     "name": "stdout",
     "output_type": "stream",
     "text": [
      "Done\n"
     ]
    }
   ],
   "source": [
    "import os\n",
    "import pathlib\n",
    "import rembg\n",
    "'''\n",
    "# Clone the tensorflow models repository if it doesn't already exist\n",
    "if \"models\" in pathlib.Path.cwd().parts:\n",
    "    while \"models\" in pathlib.Path.cwd().parts:\n",
    "        os.chdir('..')\n",
    "elif not pathlib.Path('models').exists():\n",
    "    !git clone --depth 1 https://github.com/tensorflow/models\n",
    "'''\n",
    "import matplotlib\n",
    "import matplotlib.pyplot as plt\n",
    "\n",
    "import os\n",
    "import random\n",
    "#import io\n",
    "#import imageio\n",
    "#import glob\n",
    "import imutils\n",
    "import cv2\n",
    "#import scipy.misc\n",
    "import numpy as np\n",
    "#from six import BytesIO\n",
    "from PIL import Image, ImageDraw, ImageFont\n",
    "#from IPython.display import display, Javascript\n",
    "#from IPython.display import Image as IPyImage\n",
    "from tqdm import tqdm\n",
    "#import time\n",
    "\n",
    "import tensorflow as tf\n",
    "import tensorflow_datasets as tfds\n",
    "from tensorflow.keras import layers\n",
    "\n",
    "'''\n",
    "from object_detection.utils import label_map_util\n",
    "from object_detection.utils import config_util\n",
    "from object_detection.utils import visualization_utils as viz_utils\n",
    "from object_detection.builders import model_builder\n",
    "'''\n",
    "%matplotlib inline\n",
    "\n",
    "print(\"Done\")"
   ]
  },
  {
   "cell_type": "markdown",
   "metadata": {
    "tags": []
   },
   "source": [
    "## Data Augmentation"
   ]
  },
  {
   "cell_type": "code",
   "execution_count": 36,
   "metadata": {
    "tags": []
   },
   "outputs": [
    {
     "name": "stdout",
     "output_type": "stream",
     "text": [
      "Done\n"
     ]
    }
   ],
   "source": [
    "def new_extract_sub(new_image, params=[2, 1.596, 0.136, -111]):\n",
    "    margin, sharp_value, alpha, beta = params\n",
    "    new_image = np.array(new_image)\n",
    "    \n",
    "    h, w, d = tf.shape(new_image)\n",
    "    res = (w, h);\n",
    "\n",
    "    # resize\n",
    "    #new_image = cv2.resize(new_image, res);\n",
    "    \n",
    "    new_image = cv2.convertScaleAbs(new_image, alpha=alpha, beta=beta)\n",
    "    \n",
    "    # sharpen\n",
    "    sharp_image = cv2.GaussianBlur(new_image, [0, 0], 3)\n",
    "    new_image = cv2.addWeighted(new_image, sharp_value, sharp_image, 1 - sharp_value, 0)\n",
    "    \n",
    "    # change to hsv\n",
    "    hsv = cv2.cvtColor(new_image, cv2.COLOR_BGR2HSV);\n",
    "    h,s,v = cv2.split(hsv);\n",
    "\n",
    "    # get uniques\n",
    "    unique_colors, counts = np.unique(s, return_counts=True);\n",
    "\n",
    "    # sort through and grab the most abundant unique color\n",
    "    big_color = None;\n",
    "    biggest = -1;\n",
    "    for a in range(len(unique_colors)):\n",
    "        if counts[a] > biggest:\n",
    "            biggest = counts[a];\n",
    "            big_color = int(unique_colors[a]);\n",
    "\n",
    "    # get the color mask\n",
    "    mask = cv2.inRange(s, big_color - margin, big_color + margin);\n",
    "\n",
    "    # smooth out the mask and invert\n",
    "    kernel = np.ones((3,3), np.uint8);\n",
    "    mask = cv2.dilate(mask, kernel, iterations = 1);\n",
    "    mask = cv2.medianBlur(mask, 5);\n",
    "    mask = cv2.bitwise_not(mask);\n",
    "\n",
    "    # crop out the image\n",
    "    crop = np.zeros_like(new_image);\n",
    "    crop[mask == 255] = new_image[mask == 255];\n",
    "    \n",
    "    return (mask/255).astype('uint8')\n",
    "\n",
    "print(\"Done\")"
   ]
  },
  {
   "cell_type": "markdown",
   "metadata": {},
   "source": [
    "## Gradient Descent"
   ]
  },
  {
   "cell_type": "code",
   "execution_count": 35,
   "metadata": {
    "tags": []
   },
   "outputs": [
    {
     "name": "stdout",
     "output_type": "stream",
     "text": [
      "6031.988701038437\n",
      "[2, 1.612, 0.137, -112, 0, 150]\n"
     ]
    },
    {
     "name": "stderr",
     "output_type": "stream",
     "text": [
      "Gradient Descent:   4%|█▊                                         | 105/2500 [00:25<09:44,  4.10iter/s, m_norm=5.76e+3]\n"
     ]
    },
    {
     "ename": "KeyboardInterrupt",
     "evalue": "",
     "output_type": "error",
     "traceback": [
      "\u001b[1;31m---------------------------------------------------------------------------\u001b[0m",
      "\u001b[1;31mKeyboardInterrupt\u001b[0m                         Traceback (most recent call last)",
      "Cell \u001b[1;32mIn[35], line 53\u001b[0m\n\u001b[0;32m     51\u001b[0m     new_params \u001b[38;5;241m=\u001b[39m params\n\u001b[0;32m     52\u001b[0m     new_params[j] \u001b[38;5;241m=\u001b[39m params[j] \u001b[38;5;241m+\u001b[39m delta\n\u001b[1;32m---> 53\u001b[0m     dfdm_norm[j] \u001b[38;5;241m=\u001b[39m (\u001b[43mcost\u001b[49m\u001b[43m(\u001b[49m\u001b[43mmask_goal\u001b[49m\u001b[43m,\u001b[49m\u001b[43m \u001b[49m\u001b[43mtest_image\u001b[49m\u001b[43m,\u001b[49m\u001b[43m \u001b[49m\u001b[43mnew_params\u001b[49m\u001b[43m)\u001b[49m \u001b[38;5;241m-\u001b[39m  m_norm) \u001b[38;5;241m/\u001b[39m delta\n\u001b[0;32m     54\u001b[0m params \u001b[38;5;241m=\u001b[39m params \u001b[38;5;241m-\u001b[39m gamma \u001b[38;5;241m*\u001b[39m dfdm_norm\n\u001b[0;32m     55\u001b[0m pbar\u001b[38;5;241m.\u001b[39mupdate(\u001b[38;5;241m1\u001b[39m)\n",
      "Cell \u001b[1;32mIn[35], line 30\u001b[0m, in \u001b[0;36mcost\u001b[1;34m(mask_goal, test_image, params)\u001b[0m\n\u001b[0;32m     28\u001b[0m \u001b[38;5;28;01mdef\u001b[39;00m \u001b[38;5;21mcost\u001b[39m(mask_goal, test_image, params):\n\u001b[0;32m     29\u001b[0m     \u001b[38;5;66;03m#return sum(sum(abs(mask_goal - new_extract_sub(test_image, params))))\u001b[39;00m\n\u001b[1;32m---> 30\u001b[0m     \u001b[38;5;28;01mreturn\u001b[39;00m \u001b[38;5;28msum\u001b[39m(\u001b[38;5;28msum\u001b[39m(\u001b[38;5;28mabs\u001b[39m(mask_goal \u001b[38;5;241m-\u001b[39m \u001b[43mextract_sub\u001b[49m\u001b[43m(\u001b[49m\u001b[43maug_img\u001b[49m\u001b[43m(\u001b[49m\u001b[43mtest_image\u001b[49m\u001b[43m,\u001b[49m\u001b[43m \u001b[49m\u001b[43mparams\u001b[49m\u001b[43m)\u001b[49m\u001b[43m,\u001b[49m\u001b[43m \u001b[49m\u001b[43mparams\u001b[49m\u001b[43m)\u001b[49m)))\n",
      "Cell \u001b[1;32mIn[34], line 125\u001b[0m, in \u001b[0;36mextract_sub\u001b[1;34m(new_image, params)\u001b[0m\n\u001b[0;32m    122\u001b[0m top_bound \u001b[38;5;241m=\u001b[39m np\u001b[38;5;241m.\u001b[39mtranspose(top_bound)\n\u001b[0;32m    124\u001b[0m \u001b[38;5;66;03m# Find bottom bound/ymax\u001b[39;00m\n\u001b[1;32m--> 125\u001b[0m bottom_bound \u001b[38;5;241m=\u001b[39m \u001b[43mnp\u001b[49m\u001b[38;5;241;43m.\u001b[39;49m\u001b[43mzeros\u001b[49m\u001b[43m(\u001b[49m\u001b[43m[\u001b[49m\u001b[43mw\u001b[49m\u001b[43m,\u001b[49m\u001b[43m \u001b[49m\u001b[43mh\u001b[49m\u001b[43m]\u001b[49m\u001b[43m)\u001b[49m\n\u001b[0;32m    126\u001b[0m column_track \u001b[38;5;241m=\u001b[39m \u001b[38;5;241m0\u001b[39m\n\u001b[0;32m    127\u001b[0m \u001b[38;5;28;01mwhile\u001b[39;00m column_track \u001b[38;5;241m<\u001b[39m\u001b[38;5;241m=\u001b[39m w \u001b[38;5;241m-\u001b[39m \u001b[38;5;241m1\u001b[39m:\n",
      "\u001b[1;31mKeyboardInterrupt\u001b[0m: "
     ]
    }
   ],
   "source": [
    "test_image = Image.open(\"C:/Users/khard/Documents/Tensorflow/PollenCounter/DatasetBuilder/images_150/0fRg4nOAzBV4GVCk26UaIVHUhQ8zwcwd.jpeg\")\n",
    "#test_mask = rembg i -om test_image\n",
    "\n",
    "\n",
    "mask_goal = ((cv2.cvtColor(np.array(Image.open(\"C:/Users/khard/Documents/Tensorflow/PollenCounter/BeeMask.png\")), cv2.COLOR_BGR2GRAY))/255).astype('uint8')\n",
    "\n",
    "# Starting values\n",
    "margin = 2\n",
    "sharp = 1.612\n",
    "a = 0.137\n",
    "b = -112\n",
    "\n",
    "params = [margin, sharp, a, b, t_lower, t_upper]\n",
    "iterations = 2500\n",
    "delta = 1e-4\n",
    "eps = 0.001\n",
    "#gamma = np.array([1e-8, 1e-7, 1e-8, 1e-6])\n",
    "gamma = 3e-10\n",
    "\n",
    "# m_norm is a function f(margin, sharp, a, b)\n",
    "# Params - an [N, 1] array of parameters to be optimized\n",
    "# Gamma - weighting factor (decrease when diverging)\n",
    "# Delta - step size\n",
    "# eps - early cutoff convergence threshold\n",
    "\n",
    "def cost(mask_goal, test_image, params):\n",
    "    return sum(sum(abs(mask_goal - new_extract_sub(test_image, params))))\n",
    "\n",
    "new_params = np.ones(len(params))\n",
    "dfdm_norm = np.ones(len(params))\n",
    "m_norm = cost(mask_goal, test_image, params)\n",
    "starting_m_norm = m_norm\n",
    "print(m_norm)\n",
    "i = 0\n",
    "print(params)\n",
    "best = params\n",
    "m_norm_min = m_norm\n",
    "\n",
    "with tqdm(total=iterations, desc=\"Gradient Descent\", unit=\"iter\") as pbar:\n",
    "    #while abs(sum(dfdm_norm)) > eps and i < iterations:\n",
    "    while i < iterations:\n",
    "        m_norm = cost(mask_goal, test_image, params)\n",
    "        if m_norm < m_norm_min:\n",
    "            m_norm_min = m_norm\n",
    "            best = params\n",
    "        for j in range(len(params)): #calculating new gradient parameter by parameter\n",
    "            new_params = params\n",
    "            new_params[j] = params[j] + delta\n",
    "            dfdm_norm[j] = (cost(mask_goal, test_image, new_params) -  m_norm) / delta\n",
    "        params = params - gamma * dfdm_norm\n",
    "        pbar.update(1)\n",
    "        pbar.set_postfix(m_norm=m_norm_min)#, mar=opt_margin, shp=opt_sharp, a=opt_alpha, b=opt_beta)\n",
    "        i = i + 1\n",
    "\n",
    "opt_mask = new_extract_sub(test_image, best)\n",
    "opt_mask = np.repeat(opt_mask[:, :, np.newaxis], 3, axis=2).astype(np.float32)\n",
    "#new_image = (np.ones(np.shape(opt_mask)) - opt_mask) * test_image\n",
    "new_image = opt_mask * test_image\n",
    "\n",
    "new_image = Image.fromarray(new_image.astype(np.uint8))\n",
    "\n",
    "plt.subplot(1, 2, 1)\n",
    "plt.imshow(mask_goal)\n",
    "plt.subplot(1, 2, 2)\n",
    "plt.imshow(new_image)\n",
    "plt.show()\n",
    "print('Starting m_norm is: ' + str(starting_m_norm), flush=True)\n",
    "print('Final m_norm is: ' + str(m_norm_min), flush=True)\n",
    "\n",
    "print('Margin is: ' + str(params[0]), flush=True)\n",
    "print('Sharpness value is: ' + str(params[1]), flush=True)\n",
    "print('Alpha is: ' + str(params[2]), flush=True)\n",
    "print('Beta is: ' + str(params[3]), flush=True)\n",
    "\n",
    "'''\n",
    "plt.subplot(2, 2, 3)\n",
    "plt.imshow(mask_goal)\n",
    "plt.subplot(2, 2, 4)\n",
    "plt.imshow(test_image)\n",
    "plt.show()\n",
    "\n",
    "#print(max(test_image[35]))\n",
    "\n",
    "sum(sum(abs(mask_goal - new_extract_sub(test_image, [margin, sharp, a, b]))))\n",
    "\n",
    "gradient(mask_goal, test_image, params[i + 1])\n",
    "print('Final m_norm is: ' + str(m_norm[len(m_norm) - 1]), flush=True)\n",
    "'''"
   ]
  },
  {
   "cell_type": "code",
   "execution_count": null,
   "metadata": {},
   "outputs": [],
   "source": []
  }
 ],
 "metadata": {
  "accelerator": "GPU",
  "colab": {
   "name": "interactive_eager_few_shot_od_training_colab.ipynb",
   "provenance": []
  },
  "kernelspec": {
   "display_name": "Python 3 (ipykernel)",
   "language": "python",
   "name": "python3"
  },
  "language_info": {
   "codemirror_mode": {
    "name": "ipython",
    "version": 3
   },
   "file_extension": ".py",
   "mimetype": "text/x-python",
   "name": "python",
   "nbconvert_exporter": "python",
   "pygments_lexer": "ipython3",
   "version": "3.9.17"
  }
 },
 "nbformat": 4,
 "nbformat_minor": 4
}
