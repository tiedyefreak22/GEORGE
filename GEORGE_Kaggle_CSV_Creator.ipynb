{
 "cells": [
  {
   "cell_type": "markdown",
   "id": "0dd93310-6253-4337-a9b4-86bd58976000",
   "metadata": {
    "id": "rOvvWAVTkMR7"
   },
   "source": [
    "# Gradient-Effected Object Recognition Gauge for hive Entrances (GEORGE)\n",
    "Neural-net-powered honeybee hive-mounted pollen, varroa, and wasp counter"
   ]
  },
  {
   "cell_type": "markdown",
   "id": "b67cd456-4b92-4229-95ab-3ee018ba40c7",
   "metadata": {
    "id": "vPs64QA1Zdov"
   },
   "source": [
    "## Imports"
   ]
  },
  {
   "cell_type": "code",
   "execution_count": 1,
   "id": "3b03b1e7-600f-403a-a373-b3615e8ce0e3",
   "metadata": {
    "id": "uZcqD4NLdnf4",
    "vscode": {
     "languageId": "python"
    }
   },
   "outputs": [
    {
     "name": "stdout",
     "output_type": "stream",
     "text": [
      "Done\n"
     ]
    }
   ],
   "source": [
    "import os\n",
    "import pathlib\n",
    "from pathlib import Path\n",
    "import matplotlib.pyplot as plt\n",
    "import random\n",
    "import glob\n",
    "import numpy as np\n",
    "from tqdm import tqdm\n",
    "import tensorflow as tf\n",
    "from object_detection.utils import config_util\n",
    "from object_detection.builders import model_builder\n",
    "import pandas as pd\n",
    "import keras\n",
    "import keras_cv\n",
    "from keras_cv import bounding_box\n",
    "import os\n",
    "#from keras_cv import visualization\n",
    "import GEORGE_Library as GEORGE\n",
    "%matplotlib inline\n",
    "\n",
    "import warnings\n",
    "warnings.filterwarnings('ignore')\n",
    "\n",
    "print(\"Done\")"
   ]
  },
  {
   "cell_type": "code",
   "execution_count": 2,
   "id": "ca597aef-7a62-4fff-8478-c5dd50bee676",
   "metadata": {
    "_kg_hide-input": true,
    "_uuid": "a2082fb1e56fc6cfc91d40820b905267bc1ca468",
    "tags": []
   },
   "outputs": [
    {
     "name": "stdout",
     "output_type": "stream",
     "text": [
      "Done\n"
     ]
    }
   ],
   "source": [
    "category_index = {1: {'id': 1, 'name': 'regular'}, 2: {'id': 2, 'name': 'pollen'}, 3: {'id': 3, 'name': 'varroa'}, 4: {'id': 4, 'name': 'wasps'}}\n",
    "train_augmented_fp = \"Dataset/TrainAugmented\"\n",
    "val_augmented_fp = \"Dataset/ValAugmented\"\n",
    "IMAGE_WIDTH = 75\n",
    "IMAGE_HEIGHT = 150\n",
    "NUM_IMAGES = None\n",
    "model_directory = 'C:/Users/khard/Documents/GitHub/jupyter/PollenCounter/'\n",
    "model_name = 'non_extract_non_fill_sub_model'\n",
    "model_dest = os.path.join(os.sep, model_directory, model_name)\n",
    "tflite_save = False\n",
    "\n",
    "# The `label_id_offset` shifts all classes so the model receives one-hot labels where non-background classes start counting at the zeroth index.\n",
    "label_id_offset = 1\n",
    "score_threshold = 0.3\n",
    "batch_size = 64\n",
    "learning_rate = 0.01\n",
    "epochs = 2\n",
    "num_batches = round(len(glob.glob(train_augmented_fp + '/*')) / batch_size) # AKA \"Iterations\"\n",
    "num_classes = 4\n",
    "\n",
    "print(\"Done\")"
   ]
  },
  {
   "cell_type": "code",
   "execution_count": 12,
   "id": "6ed2f35a-a64b-4e29-a15b-285686a526c0",
   "metadata": {
    "tags": []
   },
   "outputs": [
    {
     "name": "stderr",
     "output_type": "stream",
     "text": [
      "100%|███████████████████████████████████████████████████████████████████████████| 9012/9012 [00:49<00:00, 181.32file/s]\n",
      "100%|███████████████████████████████████████████████████████████████████████████| 1001/1001 [00:05<00:00, 179.83file/s]"
     ]
    },
    {
     "name": "stdout",
     "output_type": "stream",
     "text": [
      "        Label         X         Y         x         y\n",
      "0     regular  0.001563  0.639063  0.131250  0.731250\n",
      "1     regular  0.004688  0.706250  0.135937  0.826563\n",
      "2     regular  0.006250  0.090625  0.512500  0.581250\n",
      "3     regular  0.007812  0.501562  0.282813  0.989062\n",
      "4     regular  0.009375  0.209375  0.518750  0.696875\n",
      "...       ...       ...       ...       ...       ...\n",
      "996     wasps  0.575000  0.254687  0.812500  0.726562\n",
      "997     wasps  0.629687  0.065625  0.945312  0.571875\n",
      "998     wasps  0.639063  0.173438  0.892187  0.651563\n",
      "999     wasps  0.673437  0.421875  0.985937  0.925000\n",
      "1000    wasps  0.679688  0.217187  0.970312  0.710938\n",
      "\n",
      "[1001 rows x 5 columns]\n",
      "Done\n"
     ]
    },
    {
     "name": "stderr",
     "output_type": "stream",
     "text": [
      "\n"
     ]
    }
   ],
   "source": [
    "train_file_list = glob.glob(train_augmented_fp + '/*')\n",
    "val_file_list = glob.glob(val_augmented_fp + '/*')\n",
    "\n",
    "column_names = [\"Label\", \"X\", \"Y\", \"x\", \"y\"]\n",
    "train_csv_dataset = pd.DataFrame(columns = column_names)\n",
    "val_csv_dataset = pd.DataFrame(columns = column_names)\n",
    "\n",
    "with tqdm(total = len(train_file_list), unit=\"file\") as pbar:\n",
    "    for filename in train_file_list:\n",
    "        _, label, bounding_box = GEORGE.get_file_and_info(filename)\n",
    "        train_csv_dataset = train_csv_dataset.append({\"Label\": label[0]['name'], \"X\": bounding_box[0][0], \"Y\": bounding_box[0][1], \"x\": bounding_box[0][2], \"y\": bounding_box[0][3]}, ignore_index = True)\n",
    "        pbar.update(1)\n",
    "\n",
    "filepath = Path('train_dataset.csv')\n",
    "train_csv_dataset.to_csv(filepath)\n",
    "\n",
    "with tqdm(total = len(val_file_list), unit=\"file\") as pbar:\n",
    "    for filename in val_file_list:\n",
    "        _, label, bounding_box = GEORGE.get_file_and_info(filename)\n",
    "        val_csv_dataset = val_csv_dataset.append({\"Label\": label[0]['name'], \"X\": bounding_box[0][0], \"Y\": bounding_box[0][1], \"x\": bounding_box[0][2], \"y\": bounding_box[0][3]}, ignore_index = True)\n",
    "        #pbar.set_postfix(loss=total_loss.numpy())\n",
    "        pbar.update(1)\n",
    "print(val_csv_dataset)\n",
    "\n",
    "filepath = Path('val_dataset.csv')\n",
    "val_csv_dataset.to_csv(filepath)\n",
    "\n",
    "print(\"Done\")"
   ]
  },
  {
   "cell_type": "code",
   "execution_count": null,
   "id": "a4b6441f-9c1b-4782-ba53-99d6b03e183d",
   "metadata": {},
   "outputs": [],
   "source": []
  }
 ],
 "metadata": {
  "kernelspec": {
   "display_name": "Python 3 (ipykernel)",
   "language": "python",
   "name": "python3"
  },
  "language_info": {
   "codemirror_mode": {
    "name": "ipython",
    "version": 3
   },
   "file_extension": ".py",
   "mimetype": "text/x-python",
   "name": "python",
   "nbconvert_exporter": "python",
   "pygments_lexer": "ipython3",
   "version": "3.9.17"
  }
 },
 "nbformat": 4,
 "nbformat_minor": 5
}
