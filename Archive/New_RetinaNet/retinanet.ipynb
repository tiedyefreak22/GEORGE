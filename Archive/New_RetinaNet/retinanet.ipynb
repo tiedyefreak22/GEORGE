{
 "cells": [
  {
   "cell_type": "markdown",
   "id": "8529a070-52db-4b12-b3b3-93aa1ceca966",
   "metadata": {
    "id": "rOvvWAVTkMR7"
   },
   "source": [
    "# Gradient-Effected Object Recognition Gauge for hive Entrances (GEORGE)\n",
    "Neural-net-powered honeybee hive-mounted pollen, varroa, and wasp counter"
   ]
  },
  {
   "cell_type": "markdown",
   "id": "936c7346-43d5-4752-b388-80cd244b3c77",
   "metadata": {},
   "source": [
    "# New"
   ]
  },
  {
   "cell_type": "markdown",
   "id": "60a4b045-1447-49e2-89c3-70048b889473",
   "metadata": {},
   "source": [
    "## Imports"
   ]
  },
  {
   "cell_type": "code",
   "execution_count": 2,
   "id": "dc1c8ac1-914e-4421-9edd-04683f4d0331",
   "metadata": {},
   "outputs": [
    {
     "name": "stdout",
     "output_type": "stream",
     "text": [
      "Done\n"
     ]
    }
   ],
   "source": [
    "import os\n",
    "import re\n",
    "import zipfile\n",
    "import numpy as np\n",
    "import tensorflow as tf\n",
    "from tensorflow import keras\n",
    "import matplotlib.pyplot as plt\n",
    "import tensorflow_datasets as tfds\n",
    "from GEORGE_Library import *\n",
    "\n",
    "print(\"Done\")"
   ]
  },
  {
   "cell_type": "markdown",
   "id": "c6b12081-7f9a-4dda-9b84-e93c6b311ac7",
   "metadata": {},
   "source": [
    "## Define Global Variables and Training Parameters"
   ]
  },
  {
   "cell_type": "code",
   "execution_count": 3,
   "id": "afa53b3c-225d-47e6-b8c4-2e09c6bdc26a",
   "metadata": {},
   "outputs": [
    {
     "name": "stdout",
     "output_type": "stream",
     "text": [
      "Done\n"
     ]
    }
   ],
   "source": [
    "category_index = {1: {'id': 1, 'name': 'regular'}, 2: {'id': 2, 'name': 'pollen'}, 3: {'id': 3, 'name': 'varroa'}, 4: {'id': 4, 'name': 'wasps'}}\n",
    "train_augmented_fp = \"Dataset/Custom_Dataset/Train\"\n",
    "val_augmented_fp = \"Dataset/Custom_Dataset/Validation\"\n",
    "model_directory = 'C:/Users/khard/OneDrive/Documents/GitHub/GEORGE/'\n",
    "model_name = 'extract_superimp_model'\n",
    "model_dest = os.path.join(os.sep, model_directory, model_name)\n",
    "tflite_save = True\n",
    "\n",
    "# The `label_id_offset` shifts all classes so the model receives one-hot labels where non-background classes start counting at the zeroth index.\n",
    "label_id_offset = 1\n",
    "score_threshold = 0.3\n",
    "batch_size = 2\n",
    "learning_rate = 0.01\n",
    "epochs = 4\n",
    "num_batches = round(len(glob.glob(train_augmented_fp + '/*')) / batch_size) # AKA \"Iterations\"\n",
    "num_classes = 4\n",
    "\n",
    "model_dir = \"retinanet/\"\n",
    "label_encoder = LabelEncoder()\n",
    "\n",
    "learning_rates = [2.5e-06, 0.000625, 0.00125, 0.0025, 0.00025, 2.5e-05]\n",
    "learning_rate_boundaries = [125, 250, 500, 240000, 360000]\n",
    "learning_rate_fn = tf.optimizers.schedules.PiecewiseConstantDecay(\n",
    "    boundaries=learning_rate_boundaries, values=learning_rates\n",
    ")\n",
    "\n",
    "print(\"Done\")"
   ]
  },
  {
   "cell_type": "markdown",
   "id": "6cc102d8-daff-4e96-9159-800970ba65ef",
   "metadata": {},
   "source": [
    "## Initialize and Compile Model and Setup Callbacks and Checkpoints"
   ]
  },
  {
   "cell_type": "code",
   "execution_count": 6,
   "id": "7a54eb39-9150-41e2-8b3a-b078e30e3ab4",
   "metadata": {},
   "outputs": [
    {
     "name": "stdout",
     "output_type": "stream",
     "text": [
      "Done\n"
     ]
    }
   ],
   "source": [
    "resnet50_backbone = get_backbone()\n",
    "loss_fn = RetinaNetLoss(num_classes)\n",
    "model = RetinaNet(num_classes, resnet50_backbone)\n",
    "\n",
    "optimizer = tf.keras.optimizers.legacy.SGD(learning_rate=learning_rate_fn, momentum=0.9)\n",
    "model.compile(loss=loss_fn, optimizer=optimizer)\n",
    "\n",
    "callbacks_list = [\n",
    "    tf.keras.callbacks.ModelCheckpoint(\n",
    "        filepath=os.path.join(model_dir, \"weights\" + \"_epoch_{epoch}\"),\n",
    "        monitor=\"loss\",\n",
    "        save_best_only=False,\n",
    "        save_weights_only=True,\n",
    "        verbose=1,\n",
    "    )\n",
    "]\n",
    "\n",
    "# # Create initial checkpoint with fake model\n",
    "# ckpt = tf.compat.v2.train.Checkpoint(model = model, step = tf.Variable(1))\n",
    "# ckpt2 = tf.compat.v2.train.Checkpoint(model = fake_model, step = tf.Variable(1))\n",
    "# manager = tf.compat.v2.train.CheckpointManager(ckpt, new_checkpoint_path, max_to_keep = 1)\n",
    "\n",
    "# # Try to restore checkpoint from tf_ckpts folder.\n",
    "# # If none exist, restore from tf models folder\n",
    "batch_num = 0\n",
    "epoch_num = 0\n",
    "# ckpt.restore(manager.latest_checkpoint)\n",
    "# if manager.latest_checkpoint:\n",
    "#     print(\"Restoring from {}\".format(manager.latest_checkpoint))\n",
    "#     trainParameters = json.load(open(new_checkpoint_path + \"/trainParameters.txt\"))\n",
    "#     batch_num = trainParameters[\"batch\"] + 1\n",
    "#     epoch_num = trainParameters[\"epoch\"]\n",
    "# else:\n",
    "#     ckpt2.restore(checkpoint_path).expect_partial()\n",
    "#     print(\"Initializing from scratch.\")\n",
    "\n",
    "# # Run model through a dummy image so that variables are created\n",
    "# image, shapes = detection_model.preprocess(tf.zeros([1, 640, 640, 3]))\n",
    "# prediction_dict = detection_model.predict(image, shapes)\n",
    "# _ = detection_model.postprocess(prediction_dict, shapes)\n",
    "# print('Weights restored!')\n",
    "\n",
    "print(\"Done\")"
   ]
  },
  {
   "cell_type": "markdown",
   "id": "4b768414-0523-4773-b4b6-efc8ac37b6a7",
   "metadata": {},
   "source": [
    "## Load Dataset, Setup tf.data Pipeline, and Train Model"
   ]
  },
  {
   "cell_type": "code",
   "execution_count": 7,
   "id": "a497e531-229f-48a6-8ac7-5c42cc69f2f0",
   "metadata": {},
   "outputs": [
    {
     "name": "stdout",
     "output_type": "stream",
     "text": [
      "Start fine-tuning!\n"
     ]
    },
    {
     "name": "stderr",
     "output_type": "stream",
     "text": [
      "Epoch 1/8:   0%|                                                                           | 0/50000 [00:00<?, ?batch/s]\n"
     ]
    },
    {
     "ename": "NameError",
     "evalue": "name 'Path' is not defined",
     "output_type": "error",
     "traceback": [
      "\u001b[1;31m---------------------------------------------------------------------------\u001b[0m",
      "\u001b[1;31mNameError\u001b[0m                                 Traceback (most recent call last)",
      "Cell \u001b[1;32mIn[7], line 32\u001b[0m\n\u001b[0;32m     29\u001b[0m temp_train_labels \u001b[38;5;241m=\u001b[39m []\n\u001b[0;32m     30\u001b[0m temp_gt_boxes \u001b[38;5;241m=\u001b[39m []\n\u001b[1;32m---> 32\u001b[0m img_id \u001b[38;5;241m=\u001b[39m \u001b[38;5;28mint\u001b[39m(\u001b[43mPath\u001b[49m(filename)\u001b[38;5;241m.\u001b[39mstem)\n\u001b[0;32m     33\u001b[0m train_images_np\u001b[38;5;241m.\u001b[39mappend(np\u001b[38;5;241m.\u001b[39marray(Image\u001b[38;5;241m.\u001b[39mopen(filename)\u001b[38;5;241m.\u001b[39mconvert(\u001b[38;5;124m'\u001b[39m\u001b[38;5;124mRGB\u001b[39m\u001b[38;5;124m'\u001b[39m))\u001b[38;5;241m.\u001b[39mastype(\u001b[38;5;124m'\u001b[39m\u001b[38;5;124muint8\u001b[39m\u001b[38;5;124m'\u001b[39m))\n\u001b[0;32m     35\u001b[0m ann_ids \u001b[38;5;241m=\u001b[39m coco\u001b[38;5;241m.\u001b[39mget_annIds(img_id)\n",
      "\u001b[1;31mNameError\u001b[0m: name 'Path' is not defined"
     ]
    }
   ],
   "source": [
    "loss_array = []\n",
    "train_file_list = glob.glob(train_augmented_fp + '/*.png')\n",
    "val_file_list = glob.glob(val_augmented_fp + '/*.png')\n",
    "\n",
    "coco_annotations_file = train_augmented_fp + \"/custom_bee_dataset.json\"\n",
    "coco_images_dir=os.getcwd() + \"\\\\\" + train_augmented_fp\n",
    "coco = COCOParser(coco_annotations_file, coco_images_dir)\n",
    "\n",
    "train_steps_per_epoch = len(train_file_list) // batch_size\n",
    "val_steps_per_epoch = len(val_file_list) // batch_size\n",
    "\n",
    "train_steps = 4 * 100000\n",
    "epochs = train_steps // train_steps_per_epoch\n",
    "\n",
    "print('Start fine-tuning!', flush=True)\n",
    "for epoch in range(epoch_num, epochs):\n",
    "    p = np.random.permutation(len(train_file_list))\n",
    "    train_random_file_list = [train_file_list[i] for i in p]\n",
    "    with tqdm(total = num_batches, unit=\"batch\") as pbar:\n",
    "        pbar.set_description(desc=(\"Epoch %i/%i\" % (epoch + 1, epochs)))\n",
    "        for idx in range(batch_num, num_batches):\n",
    "            if (epoch == epoch_num) and (idx == batch_num):\n",
    "                pbar.update(batch_num)\n",
    "            train_images_np = []\n",
    "            gt_classes_one_hot_tensors = []\n",
    "            gt_box_tensors = []\n",
    "            batch_file_list = train_random_file_list[(idx * batch_size):((idx + 1) * batch_size)]\n",
    "            for filename in batch_file_list:\n",
    "                temp_train_labels = []\n",
    "                temp_gt_boxes = []\n",
    "                \n",
    "                img_id = int(Path(filename).stem)\n",
    "                train_images_np.append(np.array(Image.open(filename).convert('RGB')).astype('uint8'))\n",
    "\n",
    "                ann_ids = coco.get_annIds(img_id)\n",
    "                img_w, img_h = coco.get_wh(img_id)\n",
    "                annotations = coco.load_anns(ann_ids)\n",
    "                for i, ann in enumerate(annotations):\n",
    "                    _bbox = ann['bbox']\n",
    "                    x, y, w, h = [int(b) for b in _bbox]\n",
    "                    class_id = ann[\"category_id\"]\n",
    "                    class_name = coco.load_cats(class_id)[0][\"name\"]\n",
    "                    trans_label = class_id - 1\n",
    "\n",
    "                    # Start original script again\n",
    "                    temp_train_labels.append(np.array(tf.one_hot(trans_label, 4)).astype('float32'))\n",
    "                    temp_gt_boxes.append(np.array(coco_to_rel_yxyx(x, y, w, h, img_w, img_h)).astype('float32'))\n",
    "\n",
    "                gt_classes_one_hot_tensors.append(tf.stack(temp_train_labels))\n",
    "                gt_box_tensors.append(tf.stack(temp_gt_boxes))\n",
    "            '''\n",
    "            image_tensors: A list of [1, height, width, 3] Tensor of type tf.float32.\n",
    "                Note that the height and width can vary across images, as they are\n",
    "                reshaped within this function to be 640x640.\n",
    "              groundtruth_boxes_list: A list of Tensors of shape [N_i, 4] with type\n",
    "                tf.float32 representing groundtruth boxes for each image in the batch.\n",
    "              groundtruth_classes_list: A list of Tensors of shape [N_i, num_classes]\n",
    "                with type tf.float32 representing groundtruth boxes for each image in\n",
    "                the batch.\n",
    "            '''\n",
    "            \n",
    "            train_image_tensors = prep_train_imgs_only(train_images_np)\n",
    "            # Grab keys for a random subset of examples\n",
    "            all_keys = list(range(len(train_image_tensors) - 1))\n",
    "            random.shuffle(all_keys)\n",
    "            example_keys = all_keys[:batch_size]\n",
    "\n",
    "            gt_boxes_list = [gt_box_tensors[key] for key in example_keys]\n",
    "            gt_classes_list = [gt_classes_one_hot_tensors[key] for key in example_keys]\n",
    "            image_tensors = [train_image_tensors[key] for key in example_keys]\n",
    "            \n",
    "            # Training step (forward pass + backwards pass)\n",
    "            hist = model.fit(\n",
    "                        train_dataset,\n",
    "                        validation_data=val_dataset,\n",
    "                        epochs=epochs,\n",
    "                        callbacks=callbacks_list,\n",
    "                        verbose=1,\n",
    "                    )\n",
    "            #total_loss = train_step_fn(image_tensors, gt_boxes_list, gt_classes_list)\n",
    "            total_loss = hist['loss']\n",
    "            loss_array.append([total_loss, epoch + 1, idx + 1])\n",
    "            ckpt.step.assign_add(1)\n",
    "\n",
    "            save_path = manager.save()\n",
    "            trainParameters = {\"batch\": idx, \"epoch\": epoch}\n",
    "            json.dump(trainParameters, open(new_checkpoint_path + \"/trainParameters.txt\", \"w\"))\n",
    "            df = pd.DataFrame(loss_array[-1]).T\n",
    "            if (idx == 0) and (epoch == 0):\n",
    "                df = df.rename(columns = {0: \"loss\", 1: \"epoch\", 2: \"idx\"})\n",
    "                df.to_csv('loss_array.csv', mode='w', index=False, header=True)\n",
    "            else:\n",
    "                df.to_csv('loss_array.csv', mode='a', index=False, header=False)\n",
    "            pbar.set_postfix(loss=total_loss.numpy())\n",
    "            pbar.update(1)\n",
    "    batch_num = 0\n",
    "print('Done fine-tuning!')\n",
    "\n",
    "# \"\"\"\n",
    "# ## Load the COCO2017 dataset using TensorFlow Datasets\n",
    "# \"\"\"\n",
    "\n",
    "# #  set `data_dir=None` to load the complete dataset\n",
    "\n",
    "# (train_dataset, val_dataset), dataset_info = tfds.load(\n",
    "#     \"coco/2017\", split=[\"train\", \"validation\"], with_info=True, data_dir=\"data\"\n",
    "# )\n",
    "\n",
    "# \"\"\"\n",
    "# ## Setting up a `tf.data` pipeline\n",
    "\n",
    "# To ensure that the model is fed with data efficiently we will be using\n",
    "# `tf.data` API to create our input pipeline. The input pipeline\n",
    "# consists for the following major processing steps:\n",
    "\n",
    "# - Apply the preprocessing function to the samples\n",
    "# - Create batches with fixed batch size. Since images in the batch can\n",
    "# have different dimensions, and can also have different number of\n",
    "# objects, we use `padded_batch` to the add the necessary padding to create\n",
    "# rectangular tensors\n",
    "# - Create targets for each sample in the batch using `LabelEncoder`\n",
    "# \"\"\"\n",
    "\n",
    "# autotune = tf.data.AUTOTUNE\n",
    "# #train_dataset = train_dataset.map(preprocess_data, num_parallel_calls=autotune)\n",
    "# train_dataset = train_dataset.shuffle(8 * batch_size)\n",
    "# train_dataset = train_dataset.padded_batch(\n",
    "#     batch_size=batch_size, padding_values=(0.0, 1e-8, -1), drop_remainder=True\n",
    "# )\n",
    "# train_dataset = train_dataset.map(\n",
    "#     label_encoder.encode_batch, num_parallel_calls=autotune\n",
    "# )\n",
    "# train_dataset = train_dataset.apply(tf.data.experimental.ignore_errors())\n",
    "# train_dataset = train_dataset.prefetch(autotune)\n",
    "\n",
    "# #val_dataset = val_dataset.map(preprocess_data, num_parallel_calls=autotune)\n",
    "# val_dataset = val_dataset.padded_batch(\n",
    "#     batch_size=1, padding_values=(0.0, 1e-8, -1), drop_remainder=True\n",
    "# )\n",
    "# val_dataset = val_dataset.map(label_encoder.encode_batch, num_parallel_calls=autotune)\n",
    "# val_dataset = val_dataset.apply(tf.data.experimental.ignore_errors())\n",
    "# val_dataset = val_dataset.prefetch(autotune)\n",
    "\n",
    "print(\"Done\")"
   ]
  },
  {
   "cell_type": "markdown",
   "id": "19df6b9c-5334-4f90-b4a5-585f93fc2df9",
   "metadata": {},
   "source": [
    "## Load New Weights, Build Inference Model, and Generate Detections"
   ]
  },
  {
   "cell_type": "code",
   "execution_count": null,
   "id": "c96a2bc4-eb1e-4855-a28d-d05004f39398",
   "metadata": {},
   "outputs": [],
   "source": [
    "# Change this to `model_dir` when not using the downloaded weights\n",
    "# weights_dir = \"data\"\n",
    "weights_dir = \"model_dir\"\n",
    "\n",
    "latest_checkpoint = tf.train.latest_checkpoint(weights_dir)\n",
    "model.load_weights(latest_checkpoint)\n",
    "\n",
    "\"\"\"\n",
    "## Building inference model\n",
    "\"\"\"\n",
    "\n",
    "image = tf.keras.Input(shape=[None, None, 3], name=\"image\")\n",
    "predictions = model(image, training=False)\n",
    "detections = DecodePredictions(confidence_threshold=0.5)(image, predictions)\n",
    "inference_model = tf.keras.Model(inputs=image, outputs=detections)\n",
    "\n",
    "\"\"\"\n",
    "## Generating detections\n",
    "\"\"\"\n",
    "\n",
    "val_dataset = tfds.load(\"coco/2017\", split=\"validation\", data_dir=\"data\")\n",
    "int2str = dataset_info.features[\"objects\"][\"label\"].int2str\n",
    "\n",
    "for sample in val_dataset.take(2):\n",
    "    image = tf.cast(sample[\"image\"], dtype=tf.float32)\n",
    "    input_image, ratio = prepare_image(image)\n",
    "    detections = inference_model.predict(input_image)\n",
    "    num_detections = detections.valid_detections[0]\n",
    "    class_names = [\n",
    "        int2str(int(x)) for x in detections.nmsed_classes[0][:num_detections]\n",
    "    ]\n",
    "    visualize_detections(\n",
    "        image,\n",
    "        detections.nmsed_boxes[0][:num_detections] / ratio,\n",
    "        class_names,\n",
    "        detections.nmsed_scores[0][:num_detections],\n",
    "    )\n"
   ]
  },
  {
   "cell_type": "markdown",
   "id": "148221d5-56a7-433e-b214-f93b312a2839",
   "metadata": {},
   "source": [
    "# Old"
   ]
  },
  {
   "cell_type": "markdown",
   "id": "32a012e5-215b-4324-938b-3d5647331cea",
   "metadata": {
    "id": "vPs64QA1Zdov"
   },
   "source": [
    "## Imports"
   ]
  },
  {
   "cell_type": "code",
   "execution_count": 1,
   "id": "5e1d262a-8d37-4939-a225-ad0a9f84837e",
   "metadata": {
    "id": "uZcqD4NLdnf4",
    "vscode": {
     "languageId": "python"
    }
   },
   "outputs": [
    {
     "name": "stdout",
     "output_type": "stream",
     "text": [
      "Using TensorFlow backend\n",
      "Done\n"
     ]
    }
   ],
   "source": [
    "import os\n",
    "import pathlib\n",
    "from pathlib import Path\n",
    "import matplotlib.pyplot as plt\n",
    "import matplotlib.ticker as ticker\n",
    "from mpl_toolkits.axes_grid1 import host_subplot \n",
    "import mpl_toolkits.axisartist as AA\n",
    "import random\n",
    "import glob\n",
    "import numpy as np\n",
    "from tqdm import tqdm\n",
    "import tensorflow as tf\n",
    "from object_detection.utils import config_util\n",
    "from object_detection.builders import model_builder\n",
    "import pandas as pd\n",
    "import json\n",
    "from GEORGE_Library import *\n",
    "%matplotlib inline\n",
    "\n",
    "import warnings\n",
    "warnings.filterwarnings('ignore')\n",
    "\n",
    "print(\"Done\")"
   ]
  },
  {
   "cell_type": "markdown",
   "id": "883187e2-a7b9-4ecf-9c1d-ddbd9091f6ba",
   "metadata": {},
   "source": [
    "## Define global variables"
   ]
  },
  {
   "cell_type": "code",
   "execution_count": 2,
   "id": "56290837-f3c7-4432-b25c-81c6c0bf7555",
   "metadata": {
    "_kg_hide-input": true,
    "_uuid": "a2082fb1e56fc6cfc91d40820b905267bc1ca468",
    "tags": []
   },
   "outputs": [
    {
     "name": "stdout",
     "output_type": "stream",
     "text": [
      "Done\n"
     ]
    }
   ],
   "source": [
    "category_index = {1: {'id': 1, 'name': 'regular'}, 2: {'id': 2, 'name': 'pollen'}, 3: {'id': 3, 'name': 'varroa'}, 4: {'id': 4, 'name': 'wasps'}}\n",
    "train_augmented_fp = \"Dataset/Custom_Dataset/Train\"\n",
    "val_augmented_fp = \"Dataset/Custom_Dataset/Validation\"\n",
    "model_directory = 'C:/Users/khard/OneDrive/Documents/GitHub/GEORGE/'\n",
    "model_name = 'extract_superimp_model'\n",
    "model_dest = os.path.join(os.sep, model_directory, model_name)\n",
    "tflite_save = True\n",
    "\n",
    "# The `label_id_offset` shifts all classes so the model receives one-hot labels where non-background classes start counting at the zeroth index.\n",
    "label_id_offset = 1\n",
    "score_threshold = 0.3\n",
    "batch_size = 64\n",
    "learning_rate = 0.01\n",
    "epochs = 4\n",
    "num_batches = round(len(glob.glob(train_augmented_fp + '/*')) / batch_size) # AKA \"Iterations\"\n",
    "num_classes = 4\n",
    "\n",
    "print(\"Done\")"
   ]
  },
  {
   "cell_type": "markdown",
   "id": "8b1fd74d-0c27-4f23-94c4-9cfd0ff031a4",
   "metadata": {
    "id": "ghDAsqfoZvPh"
   },
   "source": [
    "## Create model and restore weights for all but last layer\n",
    "\n",
    "This cell builds a single stage detection architecture (RetinaNet) and restores all but the classification layer at the top (which will be automatically randomly initialized).  For simplicity, the image size of 640x640 is hardcoded."
   ]
  },
  {
   "cell_type": "code",
   "execution_count": 3,
   "id": "50affac1-1452-49a8-9196-57938c4a14fa",
   "metadata": {
    "id": "9J16r3NChD-7",
    "tags": [],
    "vscode": {
     "languageId": "python"
    }
   },
   "outputs": [
    {
     "name": "stdout",
     "output_type": "stream",
     "text": [
      "Doesn't exist\n",
      "Done\n"
     ]
    }
   ],
   "source": [
    "retinapath = pathlib.Path('.').absolute() / \"models\" / \"research\" / \"object_detection\" / \"test_data\" / \"checkpoint\"\n",
    "\n",
    "# Clone the tensorflow models repository if it doesn't already exist\n",
    "if os.path.exists(retinapath):\n",
    "    pass\n",
    "elif not os.path.exists(retinapath):\n",
    "    print(\"Doesn't exist\")\n",
    "    # !wget http://download.tensorflow.org/models/object_detection/tf2/20200711/ssd_resnet50_v1_fpn_640x640_coco17_tpu-8.tar.gz\n",
    "    # !tar -xf ssd_resnet50_v1_fpn_640x640_coco17_tpu-8.tar.gz\n",
    "    # !mv ssd_resnet50_v1_fpn_640x640_coco17_tpu-8/checkpoint models/research/object_detection/test_data/\n",
    "\n",
    "print(\"Done\")"
   ]
  },
  {
   "cell_type": "code",
   "execution_count": 4,
   "id": "fd24a8ab-cfec-4c21-b6c8-5704e0842afb",
   "metadata": {
    "id": "RyT4BUbaMeG-",
    "vscode": {
     "languageId": "python"
    }
   },
   "outputs": [
    {
     "name": "stdout",
     "output_type": "stream",
     "text": [
      "Building model and restoring weights for fine-tuning...\n",
      "Restoring from ./tf_ckpts\\ckpt-4739\n",
      "Weights restored!\n"
     ]
    }
   ],
   "source": [
    "# credit: deeplearning.ai (https://github.com/https-deeplearning-ai)\n",
    "\n",
    "tf.keras.backend.clear_session()\n",
    "print('Building model and restoring weights for fine-tuning...', flush=True)\n",
    "pipeline_config = 'models/research/object_detection/configs/tf2/ssd_resnet50_v1_fpn_640x640_coco17_tpu-8.config'\n",
    "checkpoint_path = 'models/research/object_detection/test_data/checkpoint/ckpt-0'\n",
    "new_checkpoint_path = './tf_ckpts'\n",
    "\n",
    "# Load pipeline config and build a detection model.\n",
    "#\n",
    "# Since we are working off of a COCO architecture which predicts 90\n",
    "# class slots by default, we override the `num_classes` field\n",
    "configs = config_util.get_configs_from_pipeline_file(pipeline_config)\n",
    "model_config = configs['model']\n",
    "model_config.ssd.num_classes = num_classes\n",
    "#model_config.ssd.num_classes = 90\n",
    "model_config.ssd.freeze_batchnorm = False\n",
    "detection_model = model_builder.build(\n",
    "      model_config=model_config, is_training=True)\n",
    "\n",
    "# Set up object-based checkpoint restore --- RetinaNet has two prediction\n",
    "# `heads` --- one for classification, the other for box regression.  We will\n",
    "# restore the box regression head but initialize the classification head\n",
    "# from scratch (we show the omission below by commenting out the line that\n",
    "# we would add if we wanted to restore both heads)\n",
    "fake_box_predictor = tf.compat.v2.train.Checkpoint(\n",
    "    _base_tower_layers_for_heads=detection_model._box_predictor._base_tower_layers_for_heads,\n",
    "    _prediction_heads=detection_model._box_predictor._prediction_heads,\n",
    "    #    (i.e., the classification head that we *will not* restore)\n",
    "    _box_prediction_head=detection_model._box_predictor._box_prediction_head,\n",
    "    )\n",
    "fake_model = tf.compat.v2.train.Checkpoint(\n",
    "          _feature_extractor=detection_model._feature_extractor,\n",
    "          _box_predictor=fake_box_predictor)\n",
    "\n",
    "# Create initial checkpoint with fake model\n",
    "ckpt = tf.compat.v2.train.Checkpoint(model = detection_model, step = tf.Variable(1))\n",
    "ckpt2 = tf.compat.v2.train.Checkpoint(model = fake_model, step = tf.Variable(1))\n",
    "manager = tf.compat.v2.train.CheckpointManager(ckpt, new_checkpoint_path, max_to_keep = 1)\n",
    "\n",
    "# Try to restore checkpoint from tf_ckpts folder.\n",
    "# If none exist, restore from tf models folder\n",
    "batch_num = 0\n",
    "epoch_num = 0\n",
    "ckpt.restore(manager.latest_checkpoint)\n",
    "if manager.latest_checkpoint:\n",
    "    print(\"Restoring from {}\".format(manager.latest_checkpoint))\n",
    "    trainParameters = json.load(open(new_checkpoint_path + \"/trainParameters.txt\"))\n",
    "    batch_num = trainParameters[\"batch\"] + 1\n",
    "    epoch_num = trainParameters[\"epoch\"]\n",
    "else:\n",
    "    ckpt2.restore(checkpoint_path).expect_partial()\n",
    "    print(\"Initializing from scratch.\")\n",
    "\n",
    "# Run model through a dummy image so that variables are created\n",
    "image, shapes = detection_model.preprocess(tf.zeros([1, 640, 640, 3]))\n",
    "prediction_dict = detection_model.predict(image, shapes)\n",
    "_ = detection_model.postprocess(prediction_dict, shapes)\n",
    "print('Weights restored!')"
   ]
  },
  {
   "cell_type": "markdown",
   "id": "feb2c7e8-d23f-4412-a62a-ced396fbacb9",
   "metadata": {
    "id": "pCkWmdoZZ0zJ"
   },
   "source": [
    "## Eager mode custom training loop"
   ]
  },
  {
   "cell_type": "code",
   "execution_count": 5,
   "id": "d77b60fb-c3e0-4d8f-96eb-ae0be38e3060",
   "metadata": {
    "id": "nyHoF4mUrv5-",
    "vscode": {
     "languageId": "python"
    }
   },
   "outputs": [
    {
     "name": "stdout",
     "output_type": "stream",
     "text": [
      "Start fine-tuning!\n"
     ]
    },
    {
     "name": "stderr",
     "output_type": "stream",
     "text": [
      "Epoch 4/4: 100%|█████████████████████████████████████████████████| 1563/1563 [37:18:27<00:00, 85.93s/batch, loss=0.418]"
     ]
    },
    {
     "name": "stdout",
     "output_type": "stream",
     "text": [
      "Done fine-tuning!\n"
     ]
    },
    {
     "name": "stderr",
     "output_type": "stream",
     "text": [
      "\n"
     ]
    }
   ],
   "source": [
    "# credit: deeplearning.ai (https://github.com/https-deeplearning-ai)\n",
    "\n",
    "# Select variables in top layers to fine-tune.\n",
    "trainable_variables = detection_model.trainable_variables\n",
    "to_fine_tune = []\n",
    "prefixes_to_train = [\n",
    "    'WeightSharedConvolutionalBoxPredictor/WeightSharedConvolutionalBoxHead',\n",
    "    'WeightSharedConvolutionalBoxPredictor/WeightSharedConvolutionalClassHead']\n",
    "for var in trainable_variables:\n",
    "    if any([var.name.startswith(prefix) for prefix in prefixes_to_train]):\n",
    "        to_fine_tune.append(var)\n",
    "\n",
    "optimizer = tf.keras.optimizers.SGD(learning_rate=learning_rate, momentum=0.9)\n",
    "train_step_fn = get_model_train_step_function(detection_model, optimizer, to_fine_tune)\n",
    "\n",
    "loss_array = []\n",
    "file_list = glob.glob(train_augmented_fp + '/*.png')\n",
    "\n",
    "coco_annotations_file = train_augmented_fp + \"/custom_bee_dataset.json\"\n",
    "coco_images_dir=os.getcwd() + \"\\\\\" + train_augmented_fp\n",
    "coco= COCOParser(coco_annotations_file, coco_images_dir)\n",
    "\n",
    "print('Start fine-tuning!', flush=True)\n",
    "for epoch in range(epoch_num, epochs):\n",
    "    p = np.random.permutation(len(file_list))\n",
    "    train_random_file_list = [file_list[i] for i in p]\n",
    "    with tqdm(total = num_batches, unit=\"batch\") as pbar:\n",
    "        pbar.set_description(desc=(\"Epoch %i/%i\" % (epoch + 1, epochs)))\n",
    "        for idx in range(batch_num, num_batches):\n",
    "            if (epoch == epoch_num) and (idx == batch_num):\n",
    "                pbar.update(batch_num)\n",
    "            train_images_np = []\n",
    "            gt_classes_one_hot_tensors = []\n",
    "            gt_box_tensors = []\n",
    "            batch_file_list = train_random_file_list[(idx * batch_size):((idx + 1) * batch_size)]\n",
    "            for filename in batch_file_list:\n",
    "                temp_train_labels = []\n",
    "                temp_gt_boxes = []\n",
    "                \n",
    "                img_id = int(Path(filename).stem)\n",
    "                train_images_np.append(np.array(Image.open(filename).convert('RGB')).astype('uint8'))\n",
    "\n",
    "                ann_ids = coco.get_annIds(img_id)\n",
    "                img_w, img_h = coco.get_wh(img_id)\n",
    "                annotations = coco.load_anns(ann_ids)\n",
    "                for i, ann in enumerate(annotations):\n",
    "                    _bbox = ann['bbox']\n",
    "                    x, y, w, h = [int(b) for b in _bbox]\n",
    "                    class_id = ann[\"category_id\"]\n",
    "                    class_name = coco.load_cats(class_id)[0][\"name\"]\n",
    "                    trans_label = class_id - 1\n",
    "\n",
    "                    # Start original script again\n",
    "                    temp_train_labels.append(np.array(tf.one_hot(trans_label, 4)).astype('float32'))\n",
    "                    temp_gt_boxes.append(np.array(coco_to_rel_yxyx(x, y, w, h, img_w, img_h)).astype('float32'))\n",
    "\n",
    "                gt_classes_one_hot_tensors.append(tf.stack(temp_train_labels))\n",
    "                gt_box_tensors.append(tf.stack(temp_gt_boxes))\n",
    "            '''\n",
    "            image_tensors: A list of [1, height, width, 3] Tensor of type tf.float32.\n",
    "                Note that the height and width can vary across images, as they are\n",
    "                reshaped within this function to be 640x640.\n",
    "              groundtruth_boxes_list: A list of Tensors of shape [N_i, 4] with type\n",
    "                tf.float32 representing groundtruth boxes for each image in the batch.\n",
    "              groundtruth_classes_list: A list of Tensors of shape [N_i, num_classes]\n",
    "                with type tf.float32 representing groundtruth boxes for each image in\n",
    "                the batch.\n",
    "            '''\n",
    "            \n",
    "            train_image_tensors = prep_train_imgs_only(train_images_np)\n",
    "            # Grab keys for a random subset of examples\n",
    "            all_keys = list(range(len(train_image_tensors) - 1))\n",
    "            random.shuffle(all_keys)\n",
    "            example_keys = all_keys[:batch_size]\n",
    "\n",
    "            gt_boxes_list = [gt_box_tensors[key] for key in example_keys]\n",
    "            gt_classes_list = [gt_classes_one_hot_tensors[key] for key in example_keys]\n",
    "            image_tensors = [train_image_tensors[key] for key in example_keys]\n",
    "            \n",
    "            # Training step (forward pass + backwards pass)\n",
    "            total_loss = train_step_fn(image_tensors, gt_boxes_list, gt_classes_list)\n",
    "            loss_array.append([total_loss, epoch + 1, idx + 1])\n",
    "            ckpt.step.assign_add(1)\n",
    "\n",
    "            save_path = manager.save()\n",
    "            trainParameters = {\"batch\": idx, \"epoch\": epoch}\n",
    "            json.dump(trainParameters, open(new_checkpoint_path + \"/trainParameters.txt\", \"w\"))\n",
    "            df = pd.DataFrame(loss_array[-1]).T\n",
    "            if (idx == 0) and (epoch == 0):\n",
    "                df = df.rename(columns = {0: \"loss\", 1: \"epoch\", 2: \"idx\"})\n",
    "                df.to_csv('loss_array.csv', mode='w', index=False, header=True)\n",
    "            else:\n",
    "                df.to_csv('loss_array.csv', mode='a', index=False, header=False)\n",
    "            pbar.set_postfix(loss=total_loss.numpy())\n",
    "            pbar.update(1)\n",
    "    batch_num = 0\n",
    "print('Done fine-tuning!')"
   ]
  },
  {
   "cell_type": "markdown",
   "id": "e9fd779e-e76e-4ebb-bd53-5def1dc16c63",
   "metadata": {},
   "source": [
    "## Save model"
   ]
  },
  {
   "cell_type": "code",
   "execution_count": 6,
   "id": "1e78b0a4-4431-42cf-855e-8e40f30aba6b",
   "metadata": {
    "tags": []
   },
   "outputs": [
    {
     "name": "stdout",
     "output_type": "stream",
     "text": [
      "WARNING:tensorflow:From C:\\Users\\khard\\.conda\\envs\\tf2\\lib\\site-packages\\tensorflow\\python\\autograph\\impl\\api.py:460: calling map_fn (from tensorflow.python.ops.map_fn) with dtype is deprecated and will be removed in a future version.\n",
      "Instructions for updating:\n",
      "Use fn_output_signature instead\n"
     ]
    },
    {
     "name": "stderr",
     "output_type": "stream",
     "text": [
      "WARNING:tensorflow:From C:\\Users\\khard\\.conda\\envs\\tf2\\lib\\site-packages\\tensorflow\\python\\autograph\\impl\\api.py:460: calling map_fn (from tensorflow.python.ops.map_fn) with dtype is deprecated and will be removed in a future version.\n",
      "Instructions for updating:\n",
      "Use fn_output_signature instead\n"
     ]
    },
    {
     "name": "stdout",
     "output_type": "stream",
     "text": [
      "WARNING:tensorflow:Skipping full serialization of Keras layer <object_detection.meta_architectures.ssd_meta_arch.SSDMetaArch object at 0x00000224A93AA3E0>, because it is not built.\n"
     ]
    },
    {
     "name": "stderr",
     "output_type": "stream",
     "text": [
      "WARNING:tensorflow:Skipping full serialization of Keras layer <object_detection.meta_architectures.ssd_meta_arch.SSDMetaArch object at 0x00000224A93AA3E0>, because it is not built.\n"
     ]
    },
    {
     "name": "stdout",
     "output_type": "stream",
     "text": [
      "WARNING:tensorflow:Model's `__init__()` arguments contain non-serializable objects. Please implement a `get_config()` method in the subclassed Model for proper saving and loading. Defaulting to empty config.\n"
     ]
    },
    {
     "name": "stderr",
     "output_type": "stream",
     "text": [
      "WARNING:tensorflow:Model's `__init__()` arguments contain non-serializable objects. Please implement a `get_config()` method in the subclassed Model for proper saving and loading. Defaulting to empty config.\n"
     ]
    },
    {
     "name": "stdout",
     "output_type": "stream",
     "text": [
      "WARNING:tensorflow:Model's `__init__()` arguments contain non-serializable objects. Please implement a `get_config()` method in the subclassed Model for proper saving and loading. Defaulting to empty config.\n"
     ]
    },
    {
     "name": "stderr",
     "output_type": "stream",
     "text": [
      "WARNING:tensorflow:Model's `__init__()` arguments contain non-serializable objects. Please implement a `get_config()` method in the subclassed Model for proper saving and loading. Defaulting to empty config.\n"
     ]
    },
    {
     "name": "stdout",
     "output_type": "stream",
     "text": [
      "WARNING:tensorflow:Model's `__init__()` arguments contain non-serializable objects. Please implement a `get_config()` method in the subclassed Model for proper saving and loading. Defaulting to empty config.\n"
     ]
    },
    {
     "name": "stderr",
     "output_type": "stream",
     "text": [
      "WARNING:tensorflow:Model's `__init__()` arguments contain non-serializable objects. Please implement a `get_config()` method in the subclassed Model for proper saving and loading. Defaulting to empty config.\n"
     ]
    },
    {
     "name": "stdout",
     "output_type": "stream",
     "text": [
      "WARNING:tensorflow:Model's `__init__()` arguments contain non-serializable objects. Please implement a `get_config()` method in the subclassed Model for proper saving and loading. Defaulting to empty config.\n"
     ]
    },
    {
     "name": "stderr",
     "output_type": "stream",
     "text": [
      "WARNING:tensorflow:Model's `__init__()` arguments contain non-serializable objects. Please implement a `get_config()` method in the subclassed Model for proper saving and loading. Defaulting to empty config.\n"
     ]
    },
    {
     "name": "stdout",
     "output_type": "stream",
     "text": [
      "INFO:tensorflow:Assets written to: C:/Users/khard/OneDrive/Documents/GitHub/GEORGE/extract_superimp_model\\assets\n"
     ]
    },
    {
     "name": "stderr",
     "output_type": "stream",
     "text": [
      "INFO:tensorflow:Assets written to: C:/Users/khard/OneDrive/Documents/GitHub/GEORGE/extract_superimp_model\\assets\n"
     ]
    },
    {
     "name": "stdout",
     "output_type": "stream",
     "text": [
      "Done\n"
     ]
    }
   ],
   "source": [
    "@tf.function(input_signature=[tf.TensorSpec(shape=[None,640,640,3], dtype=tf.float32)])\n",
    "\n",
    "def detect(input_tensor): # credit: deeplearning.ai (https://github.com/https-deeplearning-ai)\n",
    "    \"\"\"Run detection on an input image.\n",
    "\n",
    "    Args:\n",
    "    input_tensor: A [1, height, width, 3] Tensor of type tf.float32.\n",
    "      Note that height and width can be anything since the image will be\n",
    "      immediately resized according to the needs of the model within this\n",
    "      function.\n",
    "\n",
    "    Returns:\n",
    "    A dict containing 3 Tensors (`detection_boxes`, `detection_classes`,\n",
    "      and `detection_scores`).\n",
    "    \"\"\"\n",
    "    preprocessed_image, shapes = detection_model.preprocess(input_tensor)\n",
    "    prediction_dict = detection_model.predict(preprocessed_image, shapes)\n",
    "    return detection_model.postprocess(prediction_dict, shapes)\n",
    "\n",
    "tf.saved_model.save(\n",
    "    detection_model , model_dest,\n",
    "    signatures={\n",
    "      'detect': detect.get_concrete_function()\n",
    "    })\n",
    "\n",
    "print(\"Done\")"
   ]
  },
  {
   "cell_type": "code",
   "execution_count": 7,
   "id": "cd672e59-7e9e-43da-a09f-739c54ae2276",
   "metadata": {},
   "outputs": [
    {
     "name": "stdout",
     "output_type": "stream",
     "text": [
      "Done\n"
     ]
    }
   ],
   "source": [
    "if tflite_save:\n",
    "    # Convert the model\n",
    "    converter = tf.lite.TFLiteConverter.from_saved_model(model_dest) # path to the SavedModel directory\n",
    "    converter.target_spec.supported_ops = [tf.lite.OpsSet.TFLITE_BUILTINS, tf.lite.OpsSet.SELECT_TF_OPS]\n",
    "    converter._experimental_lower_tensor_list_ops = False\n",
    "    tflite_model = converter.convert()\n",
    "\n",
    "    # Save the model.\n",
    "    with open('model.tflite', 'wb') as f:\n",
    "        f.write(tflite_model)\n",
    "\n",
    "print(\"Done\")"
   ]
  },
  {
   "cell_type": "code",
   "execution_count": 8,
   "id": "5706a64e-82c5-4fb4-9bf4-cfa89f5f8d23",
   "metadata": {},
   "outputs": [
    {
     "name": "stdout",
     "output_type": "stream",
     "text": [
      "Done\n"
     ]
    }
   ],
   "source": [
    "final_loss_array = pd.read_csv('loss_array.csv')\n",
    "y_loss = []\n",
    "E_loss = []\n",
    "x_loss = []\n",
    "\n",
    "for i in final_loss_array.iterrows():\n",
    "    y_loss.append(float(i[1][0].split(',')[0].replace(\"tf.Tensor(\",'')))\n",
    "    E_loss.append(int(i[1][1]))\n",
    "    x_loss.append(int(i[1][2]))\n",
    "\n",
    "loss_csv = pd.DataFrame()\n",
    "loss_csv['y_loss'] = y_loss\n",
    "loss_csv['E_loss'] = E_loss\n",
    "loss_csv['x_loss'] = x_loss\n",
    "\n",
    "filepath = Path('loss_plot.csv')\n",
    "loss_csv.to_csv(filepath)\n",
    "    \n",
    "for i in range(len(E_loss)):\n",
    "    if E_loss[i] > 1:\n",
    "        x_loss[i] = x_loss[i] + list(E_loss).count(1) * (E_loss[i] - 1)\n",
    "        \n",
    "print(\"Done\")"
   ]
  },
  {
   "cell_type": "code",
   "execution_count": 9,
   "id": "96b4ad26-2f24-4cae-a52d-74ced2576540",
   "metadata": {
    "tags": []
   },
   "outputs": [
    {
     "data": {
      "image/png": "[encoded data removed]",
      "text/plain": [
       "<Figure size 640x480 with 1 Axes>"
      ]
     },
     "metadata": {},
     "output_type": "display_data"
    }
   ],
   "source": [
    "ax1 = host_subplot(111, axes_class=AA.Axes)\n",
    "plt.title(\"GEORGE Training Loss vs. Batches\")\n",
    "ax2 = ax1.twiny()\n",
    "new_fixed_axis = ax2.get_grid_helper().new_fixed_axis\n",
    "\n",
    "# First X-axis\n",
    "ax1.plot(x_loss, y_loss, 'b')\n",
    "kalman_y_loss = kalman(y_loss, 0.0001)\n",
    "ax1.plot(x_loss, kalman_y_loss, 'orange')\n",
    "ax1.set_xticks([int(i) for i in np.linspace(0, len(x_loss), 10)])\n",
    "ax1.yaxis.set_label_text(\"Loss\")\n",
    "ax1.xaxis.set_label_text(\"Batch\")\n",
    "for i,j in zip([int(i) for i in np.linspace(0, len(x_loss), 10)], [round(kalman_y_loss[int(i - 1)], 3) if i > 1 else round(kalman_y_loss[int(i)], 3) for i in np.linspace(0, len(x_loss), 10)]):\n",
    "    ax1.annotate(str(j), xy=(i - 220, j + 0.2))\n",
    "\n",
    "# Second X-axis\n",
    "offset = 0, -35 # Position of the second axis\n",
    "ax2.axis[\"bottom\"] = new_fixed_axis(loc=\"bottom\", axes=ax2, offset=offset)\n",
    "ax2.axis[\"top\"].set_visible(False)\n",
    "\n",
    "# Need to change this to scale axis divisions dynamically with different number of epochs\n",
    "ax2.set_xticks([i * num_batches for i in range(epochs + 1)])\n",
    "ax2.xaxis.set_major_formatter(ticker.NullFormatter())\n",
    "ax2.xaxis.set_minor_locator(ticker.FixedLocator([int((num_batches / 2) + (num_batches * i)) for i in range(epochs)]))\n",
    "ax2.xaxis.set_minor_formatter(ticker.FixedFormatter([\"Epoch %s\" % str(i + 1) for i in range(epochs)]))\n",
    "\n",
    "ax1.grid(1)\n",
    "plt.subplots_adjust(bottom=0.15)\n",
    "plt.savefig('GEORGE_Loss_vs_Batch.png')\n",
    "plt.show()"
   ]
  },
  {
   "cell_type": "code",
   "execution_count": null,
   "id": "154ba052-47ae-4f2e-b62a-f420499fe0f7",
   "metadata": {},
   "outputs": [],
   "source": []
  }
 ],
 "metadata": {
  "kernelspec": {
   "display_name": "Python 3 (ipykernel)",
   "language": "python",
   "name": "python3"
  },
  "language_info": {
   "codemirror_mode": {
    "name": "ipython",
    "version": 3
   },
   "file_extension": ".py",
   "mimetype": "text/x-python",
   "name": "python",
   "nbconvert_exporter": "python",
   "pygments_lexer": "ipython3",
   "version": "3.10.14"
  }
 },
 "nbformat": 4,
 "nbformat_minor": 5
}
