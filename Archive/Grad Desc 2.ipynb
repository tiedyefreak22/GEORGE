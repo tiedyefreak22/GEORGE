{
 "cells": [
  {
   "cell_type": "code",
   "execution_count": 40,
   "id": "b2a1eec0-7352-4404-b3d8-52e0660e7315",
   "metadata": {
    "tags": []
   },
   "outputs": [
    {
     "name": "stdout",
     "output_type": "stream",
     "text": [
      "Done\n"
     ]
    }
   ],
   "source": [
    "import os\n",
    "import pathlib\n",
    "\n",
    "import matplotlib\n",
    "import matplotlib.pyplot as plt\n",
    "\n",
    "import random\n",
    "import io\n",
    "import imageio\n",
    "import glob\n",
    "import imutils\n",
    "import cv2\n",
    "import scipy.misc\n",
    "import numpy as np\n",
    "from six import BytesIO\n",
    "from PIL import Image, ImageDraw, ImageFont\n",
    "from IPython.display import display, Javascript\n",
    "from IPython.display import Image as IPyImage\n",
    "from tqdm import tqdm\n",
    "import math\n",
    "\n",
    "import tensorflow as tf\n",
    "import tensorflow_datasets as tfds\n",
    "from tensorflow.keras import layers\n",
    "\n",
    "%matplotlib inline\n",
    "\n",
    "print(\"Done\")"
   ]
  },
  {
   "cell_type": "code",
   "execution_count": 60,
   "id": "55e967f2-d219-40dc-b5dd-72277bc8c7db",
   "metadata": {
    "tags": []
   },
   "outputs": [
    {
     "name": "stdout",
     "output_type": "stream",
     "text": [
      "Done\n"
     ]
    }
   ],
   "source": [
    "def extract_sub(new_image):\n",
    "    t_lower = 110\n",
    "    t_upper = 254\n",
    "    alpha = 1.001\n",
    "    beta = -0.99\n",
    "    new_image = np.array(new_image)\n",
    "    \n",
    "    h, w = np.shape(new_image)[:2]\n",
    "    \n",
    "    new_image = cv2.convertScaleAbs(new_image, alpha=alpha, beta=beta)\n",
    "\n",
    "    # sharpen\n",
    "    sharp_image = cv2.GaussianBlur(new_image, [0, 0], 3)\n",
    "    new_image = cv2.addWeighted(new_image, 2, sharp_image, -1, 0)\n",
    "    #new_image = ((cv2.addWeighted(new_image, sharp_value, sharp_image, 1 - sharp_value, 0)) / 255).astype('uint8')\n",
    "\n",
    "    aperture_size = 3 # Aperture size (default = 3)\n",
    "    L2Gradient = False # Boolean (default = False)\n",
    "    edges = cv2.Canny(np.array(new_image), params[0], params[1], apertureSize = aperture_size, L2gradient = L2Gradient) # 150, 75 confirmed\n",
    "\n",
    "    ymin = h\n",
    "    xmin = w\n",
    "    ymax = 0\n",
    "    xmax = 0\n",
    "    coords = [ymin, xmin, ymax, xmax]\n",
    "    \n",
    "    # Find left bound/xmin\n",
    "    left_bound = np.zeros([h, w]) # 150, 75 confirmed\n",
    "    row_track = 0\n",
    "    while row_track <= h - 1:\n",
    "        column_track = 0\n",
    "        while column_track <= w - 1:\n",
    "            value = edges[row_track, column_track]\n",
    "            if (value > 0):\n",
    "                left_bound[row_track][column_track:(w - 1)] = 1\n",
    "                if (column_track < coords[1]):\n",
    "                    coords[1] = column_track\n",
    "                column_track = w\n",
    "            column_track = column_track + 1\n",
    "        row_track = row_track + 1\n",
    "    \n",
    "    # Find right bound/xmax\n",
    "    right_bound = np.zeros([h, w])\n",
    "    row_track = 0\n",
    "    while row_track <= h - 1:\n",
    "        column_track = w - 1\n",
    "        while column_track >= 0:\n",
    "            value = edges[row_track, column_track]\n",
    "            if (value > 0):\n",
    "                right_bound[row_track][0:column_track] = 1\n",
    "                if (column_track > coords[3]):\n",
    "                    coords[3] = column_track\n",
    "                column_track = 0\n",
    "            column_track = column_track - 1\n",
    "        row_track = row_track + 1\n",
    "\n",
    "    # Find top bound/ymin\n",
    "    top_bound = np.zeros([w, h]) # 75, 150 confirmed\n",
    "    column_track = 0\n",
    "    while column_track <= w - 1:\n",
    "        row_track = 0\n",
    "        while row_track <= h - 1:\n",
    "            value = edges[row_track, column_track]\n",
    "            if (value > 0):\n",
    "                top_bound[column_track][row_track:(h - 1)] = 1\n",
    "                if (row_track < coords[0]):\n",
    "                    coords[0] = row_track\n",
    "                row_track = h\n",
    "            row_track = row_track + 1\n",
    "        column_track = column_track + 1\n",
    "    top_bound = np.transpose(top_bound)\n",
    "    \n",
    "    # Find bottom bound/ymax\n",
    "    bottom_bound = np.zeros([w, h])\n",
    "    column_track = 0\n",
    "    while column_track <= w - 1:\n",
    "        row_track = h - 1\n",
    "        while row_track >= 0:\n",
    "            value = edges[row_track, column_track]\n",
    "            if (value > 0):\n",
    "                bottom_bound[column_track][0:row_track] = 1\n",
    "                if (row_track > coords[2]):\n",
    "                    coords[2] = row_track\n",
    "                row_track = 0\n",
    "            row_track = row_track - 1\n",
    "        column_track = column_track + 1\n",
    "    bottom_bound = np.transpose(bottom_bound)\n",
    "    \n",
    "    mask = (top_bound * bottom_bound * right_bound * left_bound).astype('uint8')\n",
    "\n",
    "    # smooth out the mask\n",
    "    kernel = np.ones((3,3), np.uint8)\n",
    "    mask = cv2.dilate(mask, kernel, iterations = 1)\n",
    "    mask = cv2.medianBlur(mask, 5)\n",
    "    mask = np.array([[math.ceil(abs(j) / 255) for j in i] for i in mask]).astype('uint8')\n",
    "    print(np.shape(mask))\n",
    "    mask = np.repeat(mask[:, :, np.newaxis], 3, axis=2).astype(np.uint8)\n",
    "    \n",
    "    #new_image = new_image * mask\n",
    "    print(np.array(coords))\n",
    "    #new_image = Image.fromarray(new_image.astype(np.uint8))\n",
    "    #new_image = new_image.crop((coords[1], coords[0], coords[3], coords[2]))\n",
    "\n",
    "    return mask\n",
    "\n",
    "print(\"Done\")"
   ]
  },
  {
   "cell_type": "code",
   "execution_count": 37,
   "id": "3d6c391d-2026-4055-a3f6-b49965e05409",
   "metadata": {
    "jupyter": {
     "source_hidden": true
    },
    "tags": []
   },
   "outputs": [
    {
     "name": "stdout",
     "output_type": "stream",
     "text": [
      "Done\n"
     ]
    }
   ],
   "source": [
    "def cost(ideal_mask, test_image, params):\n",
    "    return sum([sum(k) for k in [[math.ceil(abs(j) / 255) for j in i] for i in (ideal_mask - extract_sub(test_image, params))]])\n",
    "\n",
    "def grad_desc(test_image, ideal_mask, params):\n",
    "    iterations = 250\n",
    "    delta = 1e-3\n",
    "    eps = 0.001\n",
    "    gamma = 7e-6\n",
    "\n",
    "    # m_norm is a function f(margin, sharp, a, b)\n",
    "    # Params - an [N, 1] array of parameters to be optimized\n",
    "    # Gamma - weighting factor (decrease when diverging)\n",
    "    # Delta - step size\n",
    "    # eps - early cutoff convergence threshold\n",
    "\n",
    "    new_params = np.ones(len(params))\n",
    "    dfdm_norm = np.ones(len(params))\n",
    "    m_norm = cost(ideal_mask, test_image, params)\n",
    "\n",
    "    i = 0\n",
    "    best = params\n",
    "    m_norm_min = m_norm\n",
    "    print('Starting m_norm is: ' + str(m_norm_min), flush=True)\n",
    "\n",
    "    with tqdm(total=iterations, desc=\"Gradient Descent\", unit=\"iter\") as pbar:\n",
    "        #while abs(sum(dfdm_norm)) > eps and i < iterations:\n",
    "        while i < iterations:\n",
    "            m_norm = cost(ideal_mask, test_image, params)\n",
    "            if m_norm < m_norm_min:\n",
    "                m_norm_min = m_norm\n",
    "                best = params\n",
    "            for j in range(len(params)): #calculating new gradient parameter by parameter\n",
    "                new_params = params\n",
    "                new_params[j] = params[j] + delta\n",
    "                dfdm_norm[j] = (cost(ideal_mask, test_image, new_params) -  m_norm) / delta\n",
    "            params = params - gamma * dfdm_norm\n",
    "            pbar.update(1)\n",
    "            pbar.set_postfix(best_m_norm=m_norm_min, current_m_norm=m_norm)#, mar=opt_margin, shp=opt_sharp, a=opt_alpha, b=opt_beta)\n",
    "            i = i + 1\n",
    "    print('Final t_upper is: ' + str(params[0]), flush=True)\n",
    "    print('Final t_lower value is: ' + str(params[1]), flush=True)\n",
    "    print('Final alpha is: ' + str(params[2]), flush=True)\n",
    "    print('Final beta is: ' + str(params[3]), flush=True)\n",
    "    print('Final m_norm is: ' + str(m_norm_min), flush=True)\n",
    "    \n",
    "    return params, cost(ideal_mask, test_image, params)\n",
    "\n",
    "print(\"Done\")"
   ]
  },
  {
   "cell_type": "code",
   "execution_count": 61,
   "id": "9278c488-62dc-4225-9381-a3e86146a21f",
   "metadata": {
    "tags": []
   },
   "outputs": [
    {
     "name": "stdout",
     "output_type": "stream",
     "text": [
      "(150, 75)\n",
      "[  0   0 126  74]\n"
     ]
    }
   ],
   "source": [
    "test_image = Image.open(\"C:/Users/khard/Documents/GitHub/jupyter/PollenCounter/Archive/BeeDataset_20201121/images_150/0fRg4nOAzBV4GVCk26UaIVHUhQ8zwcwd.jpeg\")\n",
    "# assert test_image is not None, \"file could not be read, check with os.path.exists()\"\n",
    "# ideal_mask = ((cv2.cvtColor(np.array(Image.open(\"C:/Users/khard/Documents/GitHub/jupyter/PollenCounter/BeeMask.png\")), cv2.COLOR_BGR2GRAY))/255).astype('uint8')\n",
    "# h, w, _ = np.shape(test_image)\n",
    "\n",
    "# t_lower = 110 # Lower Threshold\n",
    "# t_upper = 254 # Upper threshold (higher yields less detail)\n",
    "# # sharp = 1.596\n",
    "# # a = 0.136\n",
    "# # b = -111\n",
    "# a = 1\n",
    "# b = -0.1\n",
    "# params = [t_upper, t_lower, a, b]\n",
    "# #best = params\n",
    "# #best, m_norm = grad_desc(test_image, ideal_mask, params)\n",
    "\n",
    "new_image = extract_sub(test_image)#, best)\n",
    "#m_norm = cost(ideal_mask, test_image, params)\n",
    "#new_mask3 = np.repeat(new_mask[:, :, np.newaxis], 3, axis=2).astype(np.uint8)\n",
    "#new_image = new_mask3 * test_image\n",
    "\n",
    "# plt.imshow(new_image)\n",
    "# plt.show"
   ]
  },
  {
   "cell_type": "code",
   "execution_count": 72,
   "id": "a3852c40-b864-4370-9b30-456b75a9137c",
   "metadata": {
    "tags": []
   },
   "outputs": [
    {
     "name": "stdout",
     "output_type": "stream",
     "text": [
      "[254.0004, 110.0004, 1.0004, -0.09960000000000001]\n"
     ]
    }
   ],
   "source": [
    "print(params)"
   ]
  },
  {
   "cell_type": "code",
   "execution_count": null,
   "id": "6be5f59d-d990-4646-86dd-00d8cf2774d6",
   "metadata": {},
   "outputs": [],
   "source": []
  }
 ],
 "metadata": {
  "kernelspec": {
   "display_name": "Python 3 (ipykernel)",
   "language": "python",
   "name": "python3"
  },
  "language_info": {
   "codemirror_mode": {
    "name": "ipython",
    "version": 3
   },
   "file_extension": ".py",
   "mimetype": "text/x-python",
   "name": "python",
   "nbconvert_exporter": "python",
   "pygments_lexer": "ipython3",
   "version": "3.9.17"
  }
 },
 "nbformat": 4,
 "nbformat_minor": 5
}
