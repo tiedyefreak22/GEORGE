{
 "cells": [
  {
   "cell_type": "code",
   "execution_count": 1,
   "id": "bd26fcc1-adae-4b05-8866-ed33a475970d",
   "metadata": {
    "tags": []
   },
   "outputs": [
    {
     "name": "stdout",
     "output_type": "stream",
     "text": [
      "Done\n"
     ]
    }
   ],
   "source": [
    "import cv2 as cv\n",
    "import numpy as np\n",
    "import PIL\n",
    "from math import pi\n",
    "import math\n",
    "from matplotlib import pyplot as plt\n",
    "import random\n",
    "from tqdm import tqdm\n",
    "from sklearn.cluster import DBSCAN\n",
    "from scipy.spatial import ConvexHull, convex_hull_plot_2d\n",
    "import skimage.io\n",
    "from scipy import ndimage as ndi\n",
    "from statistics import mean\n",
    "\n",
    "print(\"Done\")"
   ]
  },
  {
   "cell_type": "code",
   "execution_count": 2,
   "id": "0d58b4b0-4642-405a-9207-41db4bd895a2",
   "metadata": {
    "tags": []
   },
   "outputs": [
    {
     "name": "stdout",
     "output_type": "stream",
     "text": [
      "Done\n"
     ]
    }
   ],
   "source": [
    "def do_image(original, thresh_lo, thresh_hi, erode_val, gauss_val, exponent, gauss_val2, R, G, B):\n",
    "    # original = cv.cvtColor(cv.imread(\"download.png\"), cv.COLOR_BGR2RGB)\n",
    "    r_channel, g_channel, b_channel = cv.split(original)\n",
    "    color_channels = [r_channel, g_channel, b_channel]\n",
    "    alpha_channel = np.ones(b_channel.shape, dtype=b_channel.dtype) * 50 #creating a dummy alpha channel image.\n",
    "    \n",
    "    # fig, axs = plt.subplots(ncols = 3, figsize=(15, 15))\n",
    "    \n",
    "    border_int = 3\n",
    "    img = cv.copyMakeBorder(cv.cvtColor(original, cv.COLOR_BGR2GRAY), border_int, border_int, border_int, border_int, cv.BORDER_CONSTANT, value=255)\n",
    "    # axs[0].imshow(original)\n",
    "    \n",
    "    ret, thresh = cv.threshold(img, thresh_lo, thresh_hi, cv.THRESH_BINARY)\n",
    "    dist = cv.distanceTransform(thresh, cv.DIST_L2, cv.DIST_MASK_PRECISE)\n",
    "    dist = cv.GaussianBlur(dist, (gauss_val, gauss_val), 0)\n",
    "    dist = dist[border_int:img.shape[0]-border_int, border_int:img.shape[1]-border_int]\n",
    "    norm_dist = cv.normalize(dist, None, 0, 1.0, cv.NORM_MINMAX)\n",
    "    # axs[1].imshow(norm_dist)\n",
    "    alpha_channel = cv.bitwise_not((255 * norm_dist).astype(b_channel.dtype))\n",
    "    \n",
    "    kernel = np.ones((erode_val, erode_val), np.uint8)\n",
    "    alpha_channel = cv.erode(alpha_channel, kernel)\n",
    "    \n",
    "    # axs[2].imshow(img_BGRA)\n",
    "    \n",
    "    alpha_mult_temp = np.zeros_like(color_channels, dtype=float)\n",
    "    alpha_mult = np.zeros_like(alpha_channel, dtype=float)\n",
    "\n",
    "    for row in range(np.shape(color_channels)[1]):\n",
    "        for col in range(np.shape(color_channels)[2]):\n",
    "            for chan in range(np.shape(color_channels)[0]):\n",
    "                alpha_mult_temp[chan][row][col] = pow(abs(int(color_channels[chan][row][col])-default_vals[chan])/default_vals[chan], exponent) * 5\n",
    "                if chan % 3 == 2:\n",
    "                    if mean(alpha_mult_temp[..., row, col]) > 1:\n",
    "                        alpha_channel[row][col] = alpha_channel[row][col] * 1.0\n",
    "                    else:\n",
    "                        alpha_channel[row][col] = alpha_channel[row][col] * mean(alpha_mult_temp[..., row, col])\n",
    "    \n",
    "    alpha_channel = cv.GaussianBlur(alpha_channel, (gauss_val2, gauss_val2), 0)\n",
    "    img_BGRA = cv.merge((r_channel, g_channel, b_channel, alpha_channel))\n",
    "    \n",
    "    return img_BGRA, alpha_channel\n",
    "\n",
    "def weight_func(markers, markers2):\n",
    "    new_running_sum = 0\n",
    "    for i, row in enumerate(markers):\n",
    "        for j, cell in enumerate(row):\n",
    "            if markers[i][j] == markers2[i][j]:\n",
    "                new_running_sum = new_running_sum + 1\n",
    "            else:\n",
    "                new_running_sum = new_running_sum - 1\n",
    "    return new_running_sum\n",
    "\n",
    "print(\"Done\")"
   ]
  },
  {
   "cell_type": "code",
   "execution_count": 3,
   "id": "70bbd619-c700-46d0-b495-42bd7a0b6a57",
   "metadata": {
    "tags": []
   },
   "outputs": [
    {
     "ename": "error",
     "evalue": "OpenCV(4.8.0) D:\\a\\opencv-python\\opencv-python\\opencv\\modules\\imgproc\\src\\color.cpp:182: error: (-215:Assertion failed) !_src.empty() in function 'cv::cvtColor'\n",
     "output_type": "error",
     "traceback": [
      "\u001b[1;31m---------------------------------------------------------------------------\u001b[0m",
      "\u001b[1;31merror\u001b[0m                                     Traceback (most recent call last)",
      "Cell \u001b[1;32mIn[3], line 18\u001b[0m\n\u001b[0;32m     14\u001b[0m variability \u001b[38;5;241m=\u001b[39m \u001b[38;5;241m5\u001b[39m\n\u001b[0;32m     16\u001b[0m default_vals \u001b[38;5;241m=\u001b[39m [R, G, B]\n\u001b[1;32m---> 18\u001b[0m img \u001b[38;5;241m=\u001b[39m \u001b[43mcv\u001b[49m\u001b[38;5;241;43m.\u001b[39;49m\u001b[43mcvtColor\u001b[49m\u001b[43m(\u001b[49m\u001b[43mcv\u001b[49m\u001b[38;5;241;43m.\u001b[39;49m\u001b[43mimread\u001b[49m\u001b[43m(\u001b[49m\u001b[38;5;124;43m\"\u001b[39;49m\u001b[38;5;124;43mnew_download2.png\u001b[39;49m\u001b[38;5;124;43m\"\u001b[39;49m\u001b[43m)\u001b[49m\u001b[43m,\u001b[49m\u001b[43m \u001b[49m\u001b[43mcv\u001b[49m\u001b[38;5;241;43m.\u001b[39;49m\u001b[43mCOLOR_BGR2RGB\u001b[49m\u001b[43m)\u001b[49m\n\u001b[0;32m     19\u001b[0m img2 \u001b[38;5;241m=\u001b[39m cv\u001b[38;5;241m.\u001b[39mbitwise_not(cv\u001b[38;5;241m.\u001b[39mimread(\u001b[38;5;124m\"\u001b[39m\u001b[38;5;124mnew_download.png\u001b[39m\u001b[38;5;124m\"\u001b[39m))\n\u001b[0;32m     20\u001b[0m starting_params \u001b[38;5;241m=\u001b[39m [thresh_lo, thresh_hi, erode_val, gauss_val, exponent, gauss_val2, R, G, B]\n",
      "\u001b[1;31merror\u001b[0m: OpenCV(4.8.0) D:\\a\\opencv-python\\opencv-python\\opencv\\modules\\imgproc\\src\\color.cpp:182: error: (-215:Assertion failed) !_src.empty() in function 'cv::cvtColor'\n"
     ]
    }
   ],
   "source": [
    "# parameters\n",
    "thresh_lo = 157\n",
    "thresh_hi = 200\n",
    "erode_val = 10\n",
    "gauss_val = 9\n",
    "exponent = 0.18\n",
    "gauss_val2 = 3\n",
    "R = 135\n",
    "G = 226\n",
    "B = 192\n",
    "starting_R = R\n",
    "starting_G = G\n",
    "starting_B = B\n",
    "variability = 5\n",
    "\n",
    "default_vals = [R, G, B]\n",
    "\n",
    "img = cv.cvtColor(cv.imread(\"new_download2.png\"), cv.COLOR_BGR2RGB)\n",
    "img2 = cv.bitwise_not(cv.imread(\"new_download.png\"))\n",
    "starting_params = [thresh_lo, thresh_hi, erode_val, gauss_val, exponent, gauss_val2, R, G, B]\n",
    "\n",
    "_, start_markers = do_image(img, *starting_params)\n",
    "compare_img, start_markers2 = do_image(img2, *starting_params)\n",
    "plt.imshow(start_markers2)\n",
    "plt.show()\n",
    "start_running_sum = weight_func(start_markers, start_markers2)\n",
    "print(\"Starting sum: %d\" % (start_running_sum))\n",
    "best_params = starting_params\n",
    "best_sum = start_running_sum\n",
    "\n",
    "k = 0\n",
    "iters = 50000\n",
    "with tqdm(total=iters, unit=\"iteration\", desc=str(\"Monte Carlo Param Search:\")) as pbar:\n",
    "    while k < iters:\n",
    "        thresh_hi = random.randint(1,255) # default == 255\n",
    "        thresh_lo = random.randint(0, thresh_hi) # default == 0\n",
    "        erode_val = random.randint(0, 30) # default == 3\n",
    "        gauss_val = random.choice([1, 3, 5, 7, 9])\n",
    "        exponent = random.randint(10, 1000) / 100\n",
    "        gauss_val2 = random.choice([1, 3, 5, 7, 9])\n",
    "        R = random.randint(R-5, R+5)\n",
    "        G = random.randint(G-5, G+5)\n",
    "        B = random.randint(B-5, B+5)\n",
    "        _, markers = do_image(img, thresh_lo, thresh_hi, erode_val, gauss_val, exponent, gauss_val2, R, G, B)\n",
    "        \n",
    "        new_running_sum = weight_func(markers, start_markers2)\n",
    "        if new_running_sum > best_sum:\n",
    "            best_sum = new_running_sum\n",
    "            best_params = [thresh_lo, thresh_hi, erode_val, gauss_val, exponent, gauss_val2, R, G, B]\n",
    "        k = k + 1\n",
    "        pbar.set_postfix(Sum = new_running_sum, refresh=True)\n",
    "        pbar.update(1)\n",
    "\n",
    "original_img, markers = do_image(img, *best_params)\n",
    "fig, axs = plt.subplots(ncols = 4, figsize=(15, 15))\n",
    "axs[0].imshow(compare_img)\n",
    "axs[1].imshow(start_markers2)\n",
    "axs[2].imshow(original_img)\n",
    "axs[3].imshow(markers)\n",
    "\n",
    "new_running_sum = weight_func(markers, start_markers2)\n",
    "print(new_running_sum)\n",
    "print(*best_params)"
   ]
  },
  {
   "cell_type": "code",
   "execution_count": null,
   "id": "22611d0a-168c-47a0-a162-fbf443ccb6ce",
   "metadata": {},
   "outputs": [],
   "source": []
  }
 ],
 "metadata": {
  "kernelspec": {
   "display_name": "Python 3 (ipykernel)",
   "language": "python",
   "name": "python3"
  },
  "language_info": {
   "codemirror_mode": {
    "name": "ipython",
    "version": 3
   },
   "file_extension": ".py",
   "mimetype": "text/x-python",
   "name": "python",
   "nbconvert_exporter": "python",
   "pygments_lexer": "ipython3",
   "version": "3.9.17"
  }
 },
 "nbformat": 4,
 "nbformat_minor": 5
}
