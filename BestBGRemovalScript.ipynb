{
 "cells": [
  {
   "cell_type": "code",
   "execution_count": 8,
   "id": "bd26fcc1-adae-4b05-8866-ed33a475970d",
   "metadata": {
    "tags": []
   },
   "outputs": [
    {
     "name": "stdout",
     "output_type": "stream",
     "text": [
      "Done\n"
     ]
    }
   ],
   "source": [
    "from matplotlib import pyplot as plt\n",
    "import glob\n",
    "import numpy as np\n",
    "from PIL import Image\n",
    "from tqdm import tqdm\n",
    "import os\n",
    "import pathlib\n",
    "import cv2\n",
    "import numpy as np\n",
    "import PIL\n",
    "from PIL import Image\n",
    "from math import pi, ceil, floor\n",
    "import math\n",
    "from matplotlib import pyplot as plt\n",
    "import random\n",
    "from tqdm import tqdm\n",
    "from sklearn.cluster import DBSCAN\n",
    "from scipy.spatial import ConvexHull, convex_hull_plot_2d\n",
    "import skimage.io\n",
    "from scipy import ndimage as ndi\n",
    "from statistics import mean\n",
    "import glob\n",
    "import sys\n",
    "sys.path.append(\"BestBGRemove\")\n",
    "from BestBGRemove import do_image\n",
    "\n",
    "print(\"Done\")"
   ]
  },
  {
   "cell_type": "code",
   "execution_count": 9,
   "id": "22611d0a-168c-47a0-a162-fbf443ccb6ce",
   "metadata": {},
   "outputs": [
    {
     "name": "stderr",
     "output_type": "stream",
     "text": [
      "Remove BG:  72%|████████████████████████████████████████████▍                 | 7187/10016 [02:33<01:00, 46.72images/s]"
     ]
    },
    {
     "name": "stdout",
     "output_type": "stream",
     "text": [
      "Done\n"
     ]
    },
    {
     "name": "stderr",
     "output_type": "stream",
     "text": [
      "\n"
     ]
    }
   ],
   "source": [
    "tmp_fp = \"tmp/\"\n",
    "\n",
    "try:\n",
    "    for path, subdirs, files in os.walk(tmp_fp):\n",
    "        for name in files:\n",
    "            os.remove(pathlib.PurePath(path, name))\n",
    "except OSError:\n",
    "    print(\"Error\")\n",
    "\n",
    "dataset_paths = {\n",
    "                 'PD': {'none': {'path': 'Dataset/PollenDataset/None', 'label': [0, 0, 0]},\n",
    "                        'pollen': {'path': 'Dataset/PollenDataset/Pollen', 'label': [1, 0, 0]}},\n",
    "                 'BA': {'none': {'path': 'Dataset/BeeAlarmed/None', 'label': [0, 0, 0]},\n",
    "                        'pollen': {'path': 'Dataset/BeeAlarmed/Pollen', 'label': [1, 0, 0]},\n",
    "                        'varroa': {'path': 'Dataset/BeeAlarmed/Varroa', 'label': [0, 1, 0]},\n",
    "                        'wasps': {'path': 'Dataset/BeeAlarmed/Wasps', 'label': [0, 0, 1]}},\n",
    "                 'YM': {'none': {'path': 'Dataset/YangModel/None', 'label': [0, 0, 0]},\n",
    "                        'pollen': {'path': 'Dataset/YangModel/Pollen', 'label': [1, 0, 0]},\n",
    "                        'varroa': {'path': 'Dataset/YangModel/Varroa', 'label': [0, 1, 0]}},\n",
    "                }\n",
    "                 # 'USU': {'none': {'path': 'Dataset/USU/None', 'label': [0, 0, 0]},\n",
    "                 #         'pollen': {'path': 'Dataset/USU/Pollen', 'label': [1, 0, 0]},\n",
    "                 #         'varroa': {'path': 'Dataset/USU/Varroa', 'label': [0, 1, 0]}}}\n",
    "file_cnt = 0\n",
    "for dataset_path in dataset_paths:\n",
    "    for dataset in dataset_paths[dataset_path]:\n",
    "        for path, subdirs, files in os.walk(dataset_paths[dataset_path][dataset]['path']):\n",
    "            for name in files:\n",
    "                file_cnt = file_cnt + 1\n",
    "            \n",
    "with tqdm(total=file_cnt, unit=\"images\", desc=str(\"Remove BG\")) as pbar:\n",
    "    for dataset_path in dataset_paths:\n",
    "        for dataset in dataset_paths[dataset_path]:\n",
    "            for filename in glob.glob(dataset_paths[dataset_path][dataset]['path'] + '/*'):\n",
    "                image = Image.open(filename)#.convert('RGB')\\\n",
    "                if filename.split(\"/\")[1] == \"PollenDataset\":\n",
    "                    starting_params = [159, 217, 81, [], 84, 191, 1, 9, 5.706, 3]\n",
    "                    img1, alpha1 = do_image(np.array(image), *starting_params)\n",
    "                    Image.fromarray(img1).save(tmp_fp + filename.split(\"\\\\\")[0] + \"\\\\\" + filename.split(\"\\\\\")[-1].split(\".\")[0] + \".png\")\n",
    "                elif filename.split(\"/\")[1] == \"BeeAlarmed\":\n",
    "                    starting_params = [71, 203, 177, [], 134, 209, 1, 9, 3.204, 9]\n",
    "                    img1, alpha1 = do_image(np.array(image), *starting_params)\n",
    "                    Image.fromarray(img1).save(tmp_fp + filename.split(\"\\\\\")[0] + \"\\\\\" + filename.split(\"\\\\\")[-1].split(\".\")[0] + \".png\")\n",
    "                elif filename.split(\"/\")[1] == \"YangModel\":\n",
    "                    break\n",
    "                #new_image, _ = do_image(np.array(image).astype('uint8'), tmp_fp + filename, R, G, B)\n",
    "                pbar.update(1)\n",
    "\n",
    "\n",
    "print(\"Done\")"
   ]
  },
  {
   "cell_type": "code",
   "execution_count": null,
   "id": "ab23b6dd-961a-4e64-a63b-cb6a00127121",
   "metadata": {},
   "outputs": [],
   "source": []
  }
 ],
 "metadata": {
  "kernelspec": {
   "display_name": "Python 3 (ipykernel)",
   "language": "python",
   "name": "python3"
  },
  "language_info": {
   "codemirror_mode": {
    "name": "ipython",
    "version": 3
   },
   "file_extension": ".py",
   "mimetype": "text/x-python",
   "name": "python",
   "nbconvert_exporter": "python",
   "pygments_lexer": "ipython3",
   "version": "3.9.17"
  }
 },
 "nbformat": 4,
 "nbformat_minor": 5
}
