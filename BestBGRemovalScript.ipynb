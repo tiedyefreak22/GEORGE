{
 "cells": [
  {
   "cell_type": "code",
   "execution_count": 1,
   "id": "bd26fcc1-adae-4b05-8866-ed33a475970d",
   "metadata": {
    "tags": []
   },
   "outputs": [
    {
     "name": "stdout",
     "output_type": "stream",
     "text": [
      "Done\n"
     ]
    }
   ],
   "source": [
    "from matplotlib import pyplot as plt\n",
    "import glob\n",
    "import numpy as np\n",
    "from PIL import Image\n",
    "from tqdm import tqdm\n",
    "import os\n",
    "import pathlib\n",
    "\n",
    "import cv2\n",
    "import numpy as np\n",
    "import PIL\n",
    "from PIL import Image\n",
    "from math import pi, ceil, floor\n",
    "import math\n",
    "from matplotlib import pyplot as plt\n",
    "import random\n",
    "from tqdm import tqdm\n",
    "from sklearn.cluster import DBSCAN\n",
    "from scipy.spatial import ConvexHull, convex_hull_plot_2d\n",
    "import skimage.io\n",
    "from scipy import ndimage as ndi\n",
    "from statistics import mean\n",
    "import glob\n",
    "\n",
    "print(\"Done\")"
   ]
  },
  {
   "cell_type": "code",
   "execution_count": 2,
   "id": "7385a91b-f5a1-423a-af9a-546494cf0bfe",
   "metadata": {
    "tags": []
   },
   "outputs": [
    {
     "name": "stdout",
     "output_type": "stream",
     "text": [
      "Done\n"
     ]
    }
   ],
   "source": [
    "def do_image(original, filename, R, G, B):\n",
    "    thresh_lo = 157\n",
    "    thresh_hi = 200\n",
    "    erode_val = 10\n",
    "    gauss_val = 9\n",
    "    exponent = 0.18\n",
    "    gauss_val2 = 3\n",
    "    original = cv2.cvtColor(original, cv2.COLOR_BGR2RGB)\n",
    "    r_channel, g_channel, b_channel = cv2.split(original)\n",
    "    color_channels = [r_channel, g_channel, b_channel]\n",
    "    alpha_channel = np.ones(b_channel.shape, dtype=b_channel.dtype) * 50 #creating a dummy alpha channel image.\n",
    "    default_vals = [R, G, B]\n",
    "        \n",
    "    border_int = 3\n",
    "    img = cv2.copyMakeBorder(cv2.cvtColor(original, cv2.COLOR_BGR2GRAY), border_int, border_int, border_int, border_int, cv2.BORDER_CONSTANT, value=255)\n",
    "    \n",
    "    ret, thresh = cv2.threshold(img, thresh_lo, thresh_hi, cv2.THRESH_BINARY)\n",
    "    dist = cv2.distanceTransform(thresh, cv2.DIST_L2, cv2.DIST_MASK_PRECISE)\n",
    "    dist = cv2.GaussianBlur(dist, (gauss_val, gauss_val), 0)\n",
    "    dist = dist[border_int:img.shape[0]-border_int, border_int:img.shape[1]-border_int]\n",
    "    norm_dist = cv2.normalize(dist, None, 0, 1.0, cv2.NORM_MINMAX)\n",
    "    alpha_channel = cv2.bitwise_not((255 * norm_dist).astype(b_channel.dtype))\n",
    "    \n",
    "    kernel = np.ones((erode_val, erode_val), np.uint8)\n",
    "    alpha_channel = cv2.erode(alpha_channel, kernel)\n",
    "    \n",
    "    img_RGBA = Image.fromarray(cv2.cvtColor(cv2.merge((r_channel, g_channel, b_channel, alpha_channel)), cv2.COLOR_BGRA2RGBA))\n",
    "    \n",
    "    # # flattens alpha-channel image\n",
    "    # background = Image.new('RGBA', (np.shape(img_RGBA)[1], np.shape(img_RGBA)[0]), (255,255,255))\n",
    "    # img_RGB = Image.fromarray(cv2.cvtColor(np.array(Image.alpha_composite(background, img_RGBA)), cv2.COLOR_RGBA2RGB))\n",
    "    # img_RGB.save(filename, 'JPEG', quality=100, subsampling=0)\n",
    "    \n",
    "    # normal png save w/ alpha\n",
    "    new_filename = filename.split(\"\\\\\")[0] + \"\\\\\" + filename.split(\"\\\\\")[-1].split(\".\")[0] + \".png\"\n",
    "    img_RGBA.save(new_filename)\n",
    "    \n",
    "    return Image.open(new_filename), alpha_channel\n",
    "\n",
    "print(\"Done\")"
   ]
  },
  {
   "cell_type": "code",
   "execution_count": 17,
   "id": "22611d0a-168c-47a0-a162-fbf443ccb6ce",
   "metadata": {},
   "outputs": [
    {
     "name": "stdout",
     "output_type": "stream",
     "text": [
      "Error\n"
     ]
    },
    {
     "name": "stderr",
     "output_type": "stream",
     "text": [
      "Remove BG:   4%|██▌                                                             | 370/9304 [00:12<05:03, 29.41images/s]\n",
      "\n",
      "KeyboardInterrupt\n",
      "\n"
     ]
    }
   ],
   "source": [
    "tmp_fp = \"tmp/\"\n",
    "\n",
    "try:\n",
    "    for path, subdirs, files in os.walk(tmp_fp):\n",
    "        for name in files:\n",
    "            os.remove(pathlib.PurePath(path, name))\n",
    "except OSError:\n",
    "    print(\"Error\")\n",
    "\n",
    "dataset_paths = {\n",
    "                 # 'PD': {'none': {'path': 'Dataset/PollenDataset/None', 'label': [0, 0, 0]},\n",
    "                 #        'pollen': {'path': 'Dataset/PollenDataset/Pollen', 'label': [1, 0, 0]}},\n",
    "                 'BA': {'none': {'path': 'Dataset/BeeAlarmed/None', 'label': [0, 0, 0]},\n",
    "                        'pollen': {'path': 'Dataset/BeeAlarmed/Pollen', 'label': [1, 0, 0]},\n",
    "                        'varroa': {'path': 'Dataset/BeeAlarmed/Varroa', 'label': [0, 1, 0]},\n",
    "                        'wasps': {'path': 'Dataset/BeeAlarmed/Wasps', 'label': [0, 0, 1]}},\n",
    "                 'YM': {'none': {'path': 'Dataset/YangModel/None', 'label': [0, 0, 0]},\n",
    "                        'pollen': {'path': 'Dataset/YangModel/Pollen', 'label': [1, 0, 0]},\n",
    "                        'varroa': {'path': 'Dataset/YangModel/Varroa', 'label': [0, 1, 0]}},\n",
    "                }\n",
    "                 # 'USU': {'none': {'path': 'Dataset/USU/None', 'label': [0, 0, 0]},\n",
    "                 #         'pollen': {'path': 'Dataset/USU/Pollen', 'label': [1, 0, 0]},\n",
    "                 #         'varroa': {'path': 'Dataset/USU/Varroa', 'label': [0, 1, 0]}}}\n",
    "file_cnt = 0\n",
    "for dataset_path in dataset_paths:\n",
    "    for dataset in dataset_paths[dataset_path]:\n",
    "        for path, subdirs, files in os.walk(dataset_paths[dataset_path][dataset]['path']):\n",
    "            for name in files:\n",
    "                file_cnt = file_cnt + 1\n",
    "            \n",
    "with tqdm(total=file_cnt, unit=\"images\", desc=str(\"Remove BG\")) as pbar:\n",
    "    for dataset_path in dataset_paths:\n",
    "        for dataset in dataset_paths[dataset_path]:\n",
    "            for filename in glob.glob(dataset_paths[dataset_path][dataset]['path'] + '/*'):\n",
    "                image = Image.open(filename)#.convert('RGB')\\\n",
    "                if filename.split(\"/\")[1] == \"PollenDataset\":\n",
    "                    R = 80\n",
    "                    G = 146\n",
    "                    B = 180\n",
    "                    new_image, _ = do_image(np.array(image), tmp_fp + filename, R, G, B)\n",
    "                elif filename.split(\"/\")[1] == \"BeeAlarmed\":\n",
    "                    R = 135\n",
    "                    G = 226\n",
    "                    B = 192\n",
    "                    new_image, _ = do_image(np.array(image), tmp_fp + filename, R, G, B)\n",
    "                elif filename.split(\"/\")[1] == \"YangModel\":\n",
    "                    break\n",
    "                #new_image, _ = do_image(np.array(image).astype('uint8'), tmp_fp + filename, R, G, B)\n",
    "                pbar.update(1)\n",
    "\n",
    "\n",
    "print(\"Done\")"
   ]
  },
  {
   "cell_type": "code",
   "execution_count": null,
   "id": "9107b1ba-a146-4a47-9f08-a0ac8970638a",
   "metadata": {},
   "outputs": [],
   "source": []
  }
 ],
 "metadata": {
  "kernelspec": {
   "display_name": "Python 3 (ipykernel)",
   "language": "python",
   "name": "python3"
  },
  "language_info": {
   "codemirror_mode": {
    "name": "ipython",
    "version": 3
   },
   "file_extension": ".py",
   "mimetype": "text/x-python",
   "name": "python",
   "nbconvert_exporter": "python",
   "pygments_lexer": "ipython3",
   "version": "3.9.17"
  }
 },
 "nbformat": 4,
 "nbformat_minor": 5
}
