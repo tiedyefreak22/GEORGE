{
 "cells": [
  {
   "cell_type": "markdown",
   "metadata": {
    "id": "rOvvWAVTkMR7"
   },
   "source": [
    "# Gradient-Effected Object Recognition Gauge for hive Entrances (GEORGE)\n",
    "Neural-net-powered honeybee hive-mounted pollen, varroa, and wasp counter"
   ]
  },
  {
   "cell_type": "markdown",
   "metadata": {
    "id": "vPs64QA1Zdov"
   },
   "source": [
    "## Imports"
   ]
  },
  {
   "cell_type": "code",
   "execution_count": 4,
   "metadata": {
    "id": "uZcqD4NLdnf4",
    "vscode": {
     "languageId": "python"
    }
   },
   "outputs": [
    {
     "name": "stdout",
     "output_type": "stream",
     "text": [
      "Done\n"
     ]
    }
   ],
   "source": [
    "import os\n",
    "import matplotlib.pyplot as plt\n",
    "import glob\n",
    "import numpy as np\n",
    "from tqdm import tqdm\n",
    "import tensorflow as tf\n",
    "from math import ceil\n",
    "from GEORGE_Library import *\n",
    "%matplotlib inline\n",
    "\n",
    "print(\"Done\")"
   ]
  },
  {
   "cell_type": "markdown",
   "metadata": {},
   "source": [
    "## Define global variables"
   ]
  },
  {
   "cell_type": "code",
   "execution_count": 2,
   "metadata": {
    "_kg_hide-input": true,
    "_uuid": "a2082fb1e56fc6cfc91d40820b905267bc1ca468",
    "tags": []
   },
   "outputs": [
    {
     "name": "stdout",
     "output_type": "stream",
     "text": [
      "Done\n"
     ]
    }
   ],
   "source": [
    "label_id_offset = 1\n",
    "score_threshold = 0.65\n",
    "category_index = {1: {'id': 1, 'name': 'regular'}, 2: {'id': 2, 'name': 'pollen'}, 3: {'id': 3, 'name': 'varroa'}, 4: {'id': 4, 'name': 'wasps'}}\n",
    "train_augmented_fp = \"Dataset/Custom_Dataset/Train\"\n",
    "val_augmented_fp = \"Dataset/Custom_Dataset/Validation\"\n",
    "model_directory = 'C:/Users/khard/OneDrive/Documents/GitHub/GEORGE/'\n",
    "model_name = 'extract_superimp_model'\n",
    "model_dest = os.path.join(os.sep, model_directory, model_name)\n",
    "\n",
    "print(\"Done\")"
   ]
  },
  {
   "cell_type": "markdown",
   "metadata": {
    "id": "WHlXL1x_Z3tc"
   },
   "source": [
    "# Load test images and run inference with new model!"
   ]
  },
  {
   "cell_type": "code",
   "execution_count": 3,
   "metadata": {
    "tags": []
   },
   "outputs": [
    {
     "name": "stderr",
     "output_type": "stream",
     "text": [
      "  0%|                                                                                      | 0/2500 [00:00<?, ?image/s]\n"
     ]
    },
    {
     "ename": "ValueError",
     "evalue": "could not convert string to float: '0.8915.png'",
     "output_type": "error",
     "traceback": [
      "\u001b[1;31m---------------------------------------------------------------------------\u001b[0m",
      "\u001b[1;31mValueError\u001b[0m                                Traceback (most recent call last)",
      "Cell \u001b[1;32mIn[3], line 23\u001b[0m\n\u001b[0;32m     21\u001b[0m \u001b[38;5;28;01mwith\u001b[39;00m tqdm(total \u001b[38;5;241m=\u001b[39m (\u001b[38;5;28mlen\u001b[39m(val_random_file_list)), unit\u001b[38;5;241m=\u001b[39m\u001b[38;5;124m\"\u001b[39m\u001b[38;5;124mimage\u001b[39m\u001b[38;5;124m\"\u001b[39m) \u001b[38;5;28;01mas\u001b[39;00m pbar:\n\u001b[0;32m     22\u001b[0m     \u001b[38;5;28;01mwhile\u001b[39;00m i \u001b[38;5;241m<\u001b[39m num_images \u001b[38;5;129;01mand\u001b[39;00m j \u001b[38;5;241m<\u001b[39m \u001b[38;5;28mlen\u001b[39m(val_random_file_list):\n\u001b[1;32m---> 23\u001b[0m         image, label, gt_box \u001b[38;5;241m=\u001b[39m \u001b[43mGEORGE\u001b[49m\u001b[38;5;241;43m.\u001b[39;49m\u001b[43mget_file_and_info\u001b[49m\u001b[43m(\u001b[49m\u001b[43mval_random_file_list\u001b[49m\u001b[43m[\u001b[49m\u001b[43mj\u001b[49m\u001b[43m]\u001b[49m\u001b[43m)\u001b[49m\n\u001b[0;32m     24\u001b[0m         ax \u001b[38;5;241m=\u001b[39m plt\u001b[38;5;241m.\u001b[39msubplot(\u001b[38;5;28mint\u001b[39m(ceil(num_images)\u001b[38;5;241m/\u001b[39m\u001b[38;5;241m3\u001b[39m), \u001b[38;5;241m3\u001b[39m, i \u001b[38;5;241m+\u001b[39m \u001b[38;5;241m1\u001b[39m)\n\u001b[0;32m     27\u001b[0m         input_tensor \u001b[38;5;241m=\u001b[39m tf\u001b[38;5;241m.\u001b[39mconvert_to_tensor(image, dtype\u001b[38;5;241m=\u001b[39mtf\u001b[38;5;241m.\u001b[39mfloat32)\n",
      "File \u001b[1;32m~\\OneDrive\\Documents\\GitHub\\GEORGE\\GEORGE_Library.py:260\u001b[0m, in \u001b[0;36mget_file_and_info\u001b[1;34m(filename)\u001b[0m\n\u001b[0;32m    258\u001b[0m label \u001b[38;5;241m=\u001b[39m get_label(temp_label[\u001b[38;5;241m1\u001b[39m:\u001b[38;5;28mlen\u001b[39m(temp_label)])\n\u001b[0;32m    259\u001b[0m temp_gt_box \u001b[38;5;241m=\u001b[39m (filename\u001b[38;5;241m.\u001b[39msplit(\u001b[38;5;124m'\u001b[39m\u001b[38;5;130;01m\\\\\u001b[39;00m\u001b[38;5;124m'\u001b[39m)[\u001b[38;5;241m1\u001b[39m])\u001b[38;5;241m.\u001b[39msplit(\u001b[38;5;124m'\u001b[39m\u001b[38;5;124m_\u001b[39m\u001b[38;5;124m'\u001b[39m)\n\u001b[1;32m--> 260\u001b[0m gt_box \u001b[38;5;241m=\u001b[39m np\u001b[38;5;241m.\u001b[39marray([[\u001b[38;5;28;43mfloat\u001b[39;49m\u001b[43m(\u001b[49m\u001b[38;5;124;43m'\u001b[39;49m\u001b[38;5;124;43m0.\u001b[39;49m\u001b[38;5;124;43m'\u001b[39;49m\u001b[43m \u001b[49m\u001b[38;5;241;43m+\u001b[39;49m\u001b[43m \u001b[49m\u001b[43mtemp_gt_box\u001b[49m\u001b[43m[\u001b[49m\u001b[38;5;241;43m0\u001b[39;49m\u001b[43m]\u001b[49m\u001b[43m[\u001b[49m\u001b[38;5;241;43m1\u001b[39;49m\u001b[43m:\u001b[49m\u001b[38;5;28;43mlen\u001b[39;49m\u001b[43m(\u001b[49m\u001b[43mtemp_gt_box\u001b[49m\u001b[43m[\u001b[49m\u001b[38;5;241;43m0\u001b[39;49m\u001b[43m]\u001b[49m\u001b[43m)\u001b[49m\u001b[43m]\u001b[49m\u001b[43m)\u001b[49m,\n\u001b[0;32m    261\u001b[0m                     \u001b[38;5;28mfloat\u001b[39m(\u001b[38;5;124m'\u001b[39m\u001b[38;5;124m0.\u001b[39m\u001b[38;5;124m'\u001b[39m \u001b[38;5;241m+\u001b[39m temp_gt_box[\u001b[38;5;241m1\u001b[39m]),\n\u001b[0;32m    262\u001b[0m                     \u001b[38;5;28mfloat\u001b[39m(\u001b[38;5;124m'\u001b[39m\u001b[38;5;124m0.\u001b[39m\u001b[38;5;124m'\u001b[39m \u001b[38;5;241m+\u001b[39m temp_gt_box[\u001b[38;5;241m2\u001b[39m]),\n\u001b[0;32m    263\u001b[0m                     \u001b[38;5;28mfloat\u001b[39m(\u001b[38;5;124m'\u001b[39m\u001b[38;5;124m0.\u001b[39m\u001b[38;5;124m'\u001b[39m \u001b[38;5;241m+\u001b[39m temp_gt_box[\u001b[38;5;241m3\u001b[39m]\u001b[38;5;241m.\u001b[39msplit(\u001b[38;5;124m'\u001b[39m\u001b[38;5;124m.\u001b[39m\u001b[38;5;124m'\u001b[39m)[\u001b[38;5;241m0\u001b[39m])]])\u001b[38;5;241m.\u001b[39mastype(\u001b[38;5;124m'\u001b[39m\u001b[38;5;124mfloat32\u001b[39m\u001b[38;5;124m'\u001b[39m)\n\u001b[0;32m    264\u001b[0m image \u001b[38;5;241m=\u001b[39m np\u001b[38;5;241m.\u001b[39marray(Image\u001b[38;5;241m.\u001b[39mopen(filename)\u001b[38;5;241m.\u001b[39mconvert(\u001b[38;5;124m'\u001b[39m\u001b[38;5;124mRGB\u001b[39m\u001b[38;5;124m'\u001b[39m))\u001b[38;5;241m.\u001b[39mastype(\u001b[38;5;124m'\u001b[39m\u001b[38;5;124muint8\u001b[39m\u001b[38;5;124m'\u001b[39m)\n\u001b[0;32m    265\u001b[0m \u001b[38;5;28;01mreturn\u001b[39;00m image, label, gt_box\n",
      "\u001b[1;31mValueError\u001b[0m: could not convert string to float: '0.8915.png'"
     ]
    }
   ],
   "source": [
    "new_model = tf.saved_model.load(model_dest)\n",
    "file_list = glob.glob(val_augmented_fp + '/*')\n",
    "p = np.random.permutation(len(file_list))\n",
    "val_random_file_list = [file_list[i] for i in p]\n",
    "\n",
    "plt.rcParams['axes.grid'] = False\n",
    "plt.rcParams['xtick.labelsize'] = False\n",
    "plt.rcParams['ytick.labelsize'] = False\n",
    "plt.rcParams['xtick.top'] = False\n",
    "plt.rcParams['xtick.bottom'] = False\n",
    "plt.rcParams['ytick.left'] = False\n",
    "plt.rcParams['ytick.right'] = False\n",
    "plt.rcParams['figure.figsize'] = [15, 15]\n",
    "\n",
    "num_images = 9\n",
    "save_plot = True\n",
    "\n",
    "i = 0\n",
    "j = 0\n",
    "\n",
    "with tqdm(total = (len(val_random_file_list)), unit=\"image\") as pbar:\n",
    "    while i < num_images and j < len(val_random_file_list):\n",
    "        image, label, gt_box = get_file_and_info(val_random_file_list[j])\n",
    "        ax = plt.subplot(int(ceil(num_images)/3), 3, i + 1)\n",
    "        \n",
    "        input_tensor = tf.convert_to_tensor(image, dtype=tf.float32)\n",
    "        input_tensor = tf.expand_dims(input_tensor, 0)\n",
    "        detections = new_model.signatures['detect'](input_tensor)\n",
    "\n",
    "        if (detections['detection_scores'][0][0].numpy()) > score_threshold:\n",
    "            GEORGE.plot_detections(\n",
    "            image,\n",
    "            np.array([detections['detection_boxes'][0][0]]),\n",
    "            [(detections['detection_classes'][0][0].numpy().astype(np.uint32) + label_id_offset)],\n",
    "            [(detections['detection_scores'][0][0].numpy())],\n",
    "            category_index)#, figsize=(30, 15))\n",
    " \n",
    "            det_class = \"\"\n",
    "            if int(detections['detection_classes'][0][0]) == 0:\n",
    "                det_class = \"regular\"\n",
    "            if int(detections['detection_classes'][0][0]) == 1:\n",
    "                det_class = \"pollen\"\n",
    "            if int(detections['detection_classes'][0][0]) == 2:\n",
    "                det_class = \"varroa\"\n",
    "            if int(detections['detection_classes'][0][0]) == 3:\n",
    "                det_class = \"wasps\"\n",
    "            \n",
    "            if det_class != str(label[0]['name']):\n",
    "                color = 'red'\n",
    "                ax.set_title(label[0]['name'], fontsize=12, color=color)\n",
    "                plt.setp(ax.spines.values(), color=color)\n",
    "                plt.setp([ax.get_xticklines(), ax.get_yticklines()], color=color)\n",
    "            else:\n",
    "                ax.set_title(label[0]['name'], fontsize=12)\n",
    "            i = i + 1\n",
    "            j = j + 1\n",
    "        else:\n",
    "            j = j + 1\n",
    "        pbar.set_postfix(Subplot=(\"%i\" % i + \"/%i\" % num_images))\n",
    "        pbar.update(1)\n",
    "                  \n",
    "plt.suptitle('GEORGE Validation (Score Thresh: %s; %s/%s, %s%%)' % (score_threshold, num_images, j + 1, round((num_images/(j+1))*100,2)), fontsize=20)\n",
    "if save_plot:\n",
    "    plt.savefig('GEORGE_Validation_Plot.png')\n",
    "plt.show()"
   ]
  },
  {
   "cell_type": "code",
   "execution_count": null,
   "metadata": {},
   "outputs": [],
   "source": []
  }
 ],
 "metadata": {
  "accelerator": "GPU",
  "colab": {
   "name": "interactive_eager_few_shot_od_training_colab.ipynb",
   "provenance": []
  },
  "kernelspec": {
   "display_name": "Python 3 (ipykernel)",
   "language": "python",
   "name": "python3"
  },
  "language_info": {
   "codemirror_mode": {
    "name": "ipython",
    "version": 3
   },
   "file_extension": ".py",
   "mimetype": "text/x-python",
   "name": "python",
   "nbconvert_exporter": "python",
   "pygments_lexer": "ipython3",
   "version": "3.10.14"
  }
 },
 "nbformat": 4,
 "nbformat_minor": 4
}
