{
 "cells": [
  {
   "cell_type": "markdown",
   "id": "2c73e41d-514c-4d08-8e54-95fdc852bf91",
   "metadata": {},
   "source": [
    "## Dataset Parameters"
   ]
  },
  {
   "cell_type": "code",
   "execution_count": 67,
   "id": "a796c8d8-7f9b-4f19-97ce-2325383b1235",
   "metadata": {},
   "outputs": [
    {
     "name": "stdout",
     "output_type": "stream",
     "text": [
      "Done\n"
     ]
    }
   ],
   "source": [
    "num_images = 1 # Number of images to create for the dataset\n",
    "num_bees = 4 # Maximum number of bees to include per image\n",
    "\n",
    "print(\"Done\")"
   ]
  },
  {
   "cell_type": "markdown",
   "id": "b9084855-f6e4-42a8-9b53-7be3d57cec49",
   "metadata": {},
   "source": [
    "## Library Imports"
   ]
  },
  {
   "cell_type": "code",
   "execution_count": 33,
   "id": "df31cb0e-44f6-4a1d-8f17-1f826a6b1078",
   "metadata": {},
   "outputs": [
    {
     "name": "stdout",
     "output_type": "stream",
     "text": [
      "Done\n"
     ]
    }
   ],
   "source": [
    "from datetime import datetime\n",
    "import tensorflow_datasets as tfds\n",
    "import json\n",
    "import os\n",
    "import glob\n",
    "import random\n",
    "from pathlib import Path\n",
    "\n",
    "print(\"Done\")"
   ]
  },
  {
   "cell_type": "markdown",
   "id": "b3e171a2-0c00-4ced-87b5-edfaa37d02a0",
   "metadata": {},
   "source": [
    "## YOLO Dataset Definition"
   ]
  },
  {
   "cell_type": "code",
   "execution_count": 57,
   "id": "41dbc62d-e3c9-46fa-9859-03d6bb3a8442",
   "metadata": {},
   "outputs": [
    {
     "name": "stdout",
     "output_type": "stream",
     "text": [
      "Done\n"
     ]
    }
   ],
   "source": [
    "'''\n",
    "{\n",
    "\"info\": info, \"images\": [image], \"annotations\": [annotation], \"licenses\": [license],\n",
    "}\n",
    " \n",
    "info{\n",
    "\"year\": int, \"version\": str, \"description\": str, \"contributor\": str, \"url\": str, \"date_created\": datetime,\n",
    "}\n",
    " \n",
    "image{\n",
    "\"id\": int, \"width\": int, \"height\": int, \"file_name\": str, \"license\": int, \"flickr_url\": str, \"coco_url\": str, \"date_captured\": datetime,\n",
    "}\n",
    " \n",
    "license{\n",
    "\"id\": int, \"name\": str, \"url\": str,\n",
    "}\n",
    " \n",
    "annotation{\n",
    "\"id\": int, \"image_id\": int, \"category_id\": int, \"segmentation\": RLE or [polygon], \"area\": float, \"bbox\": [x,y,width,height], \"iscrowd\": 0 or 1,\n",
    "}\n",
    " \n",
    "categories[{\n",
    "\"id\": int, \"name\": str, \"supercategory\": str,\n",
    "}]\n",
    "'''\n",
    "\n",
    "class image:\n",
    "    def __init__(self, img_id: int, width: int, height: int, file_name: str, license: int, flickr_url: str, coco_url: str, date_captured: datetime):\n",
    "        self.img_id = img_id\n",
    "        self.width = width\n",
    "        self.height = height\n",
    "        self.file_name = file_name\n",
    "        self.license = license\n",
    "        self.flickr_url = flickr_url\n",
    "        self.coco_url = coco_url\n",
    "        self.date_captured = date_captured\n",
    " \n",
    "class license:\n",
    "    def __init__(self, lic_id: int, name: str, url: str):\n",
    "        self.lic_id = lic_id\n",
    "        self.name = name\n",
    "        self.url = url\n",
    " \n",
    "class bbox:\n",
    "    def __init__(self, x: int, y: int, width: int, height: int):\n",
    "        self.x = x\n",
    "        self.y = y\n",
    "        self.width = width\n",
    "        self.height = height\n",
    " \n",
    "class annotation:\n",
    "    def __init__(self, ann_id: int, image_id: int, category_id: int, segmentation, area: float, bbox: bbox, iscrowd: bool):\n",
    "        self.ann_id = ann_id\n",
    "        self.image_id = image_id\n",
    "        self.category_id: category_id\n",
    "        self.segmentation = segmentation\n",
    "        self.area = area\n",
    "        self.bbox = list(vars(bbox).values())\n",
    "        self.iscrowd = iscrowd\n",
    " \n",
    "class category:\n",
    "    def __init__(self, cat_id: int, name: str, supercategory: str):\n",
    "        self.cat_id = cat_id\n",
    "        self.name = name\n",
    "        self.supercategory = supercategory\n",
    " \n",
    "info = {\n",
    "        \"year\": int,\n",
    "        \"version\": str,\n",
    "        \"description\": str,\n",
    "        \"contributor\": str,\n",
    "        \"url\": str,\n",
    "        \"date_created\": datetime,\n",
    "        }\n",
    "\n",
    "# ds = tfds.load('bee_dataset', split='train')\n",
    "# ds = ds.take(1)  # Only take a single example\n",
    "\n",
    "# for example in ds:  # example is `{'image': tf.Tensor, 'label': tf.Tensor}`\n",
    "#     print(list(example.keys()))\n",
    "#     image = example[\"input\"]\n",
    "#     label = example[\"output\"]\n",
    "#     print(image.shape, label)\n",
    "\n",
    "# Id =\n",
    "# Width =\n",
    "# Height =\n",
    "# File_name =\n",
    "# License =\n",
    "# Flickr_url = None\n",
    "# Coco_url = None\n",
    "# Date_captured = datetime.now()\n",
    " \n",
    "# images.append(image(Id, Width, Height, File_name, License, Flickr_url, Coco_url, Date_captured))\n",
    " \n",
    "# Annotation_Id =\n",
    "# Image_id =\n",
    "# Category_id =\n",
    "# Segmentation = None\n",
    "# X =\n",
    "# Y =\n",
    "# Width =\n",
    "# Height =\n",
    "# Area = Width * Height\n",
    "# Bbox = bbox(X, Y, Width, Height)\n",
    "# Iscrowd =\n",
    " \n",
    "# annotations.append(annotation(Annotation_Id, Image_id, Category_id, Segmentation, Area, Bbox, Iscrowd))\n",
    " \n",
    "# License_Id =\n",
    "# Name =\n",
    "# Url =\n",
    " \n",
    "# licenses.append(license(License_Id, Name, Url))\n",
    " \n",
    "# Bbox = bbox(3, 2, 6, 5)\n",
    "# print(vars(Bbox))\n",
    "# print(list(vars(Bbox).values()))\n",
    " \n",
    "# Annotation = annotation(0, 0, 0, None, 100, Bbox, True)\n",
    "# print(vars(Annotation))\n",
    "\n",
    "print(\"Done\")"
   ]
  },
  {
   "cell_type": "markdown",
   "id": "82719d02-b734-484a-9e2e-c2f7e57d1ff8",
   "metadata": {},
   "source": [
    "## Feeder Image Array Creation"
   ]
  },
  {
   "cell_type": "code",
   "execution_count": 19,
   "id": "20fa0722-512e-4db9-96e9-cd12854854e2",
   "metadata": {},
   "outputs": [
    {
     "name": "stdout",
     "output_type": "stream",
     "text": [
      "Done\n"
     ]
    }
   ],
   "source": [
    "train_augmented_fp = \"Dataset/TrainAugmented\"\n",
    "val_augmented_fp = \"Dataset/ValAugmented\"\n",
    "\n",
    "try:\n",
    "    files = os.listdir(train_augmented_fp)\n",
    "    for file in files:\n",
    "        file_path = os.path.join(train_augmented_fp, file)\n",
    "        if os.path.isfile(file_path):\n",
    "            os.remove(file_path)\n",
    "    files = os.listdir(val_augmented_fp)\n",
    "    for file in files:\n",
    "        file_path = os.path.join(val_augmented_fp, file)\n",
    "        if os.path.isfile(file_path):\n",
    "            os.remove(file_path)\n",
    "except OSError:\n",
    "    print(\"Error\")\n",
    "\n",
    "dataset_paths = {\n",
    "                 'PD': {'none': {'path': 'Dataset/PollenDataset/None', 'label': [0, 0, 0]},\n",
    "                        'pollen': {'path': 'Dataset/PollenDataset/Pollen', 'label': [1, 0, 0]}},\n",
    "                 'BA': {'none': {'path': 'Dataset/BeeAlarmed/None', 'label': [0, 0, 0]},\n",
    "                        'pollen': {'path': 'Dataset/BeeAlarmed/Pollen', 'label': [1, 0, 0]},\n",
    "                        'varroa': {'path': 'Dataset/BeeAlarmed/Varroa', 'label': [0, 1, 0]},\n",
    "                        'wasps': {'path': 'Dataset/BeeAlarmed/Wasps', 'label': [0, 0, 1]}},\n",
    "                 'YM': {'none': {'path': 'Dataset/YangModel/None', 'label': [0, 0, 0]},\n",
    "                        'pollen': {'path': 'Dataset/YangModel/Pollen', 'label': [1, 0, 0]},\n",
    "                        'varroa': {'path': 'Dataset/YangModel/Varroa', 'label': [0, 1, 0]}},\n",
    "                }\n",
    "                 # 'USU': {'none': {'path': 'Dataset/USU/None', 'label': [0, 0, 0]},\n",
    "                 #         'pollen': {'path': 'Dataset/USU/Pollen', 'label': [1, 0, 0]},\n",
    "                 #         'varroa': {'path': 'Dataset/USU/Varroa', 'label': [0, 1, 0]}}}\n",
    "\n",
    "file_list = []\n",
    "for dataset_path in dataset_paths:\n",
    "    for dataset in dataset_paths[dataset_path]:\n",
    "        [file_list.append(i) for i in glob.glob(dataset_paths[dataset_path][dataset]['path'] + '/*')]\n",
    "\n",
    "print(\"Done\")"
   ]
  },
  {
   "cell_type": "markdown",
   "id": "b5104a9f-27a4-4090-9adb-1b23e2fa897f",
   "metadata": {},
   "source": [
    "## Dataset Creation Loop"
   ]
  },
  {
   "cell_type": "code",
   "execution_count": 106,
   "id": "364d14c6-f6a6-45bb-b498-8ab13b23c14b",
   "metadata": {},
   "outputs": [
    {
     "name": "stdout",
     "output_type": "stream",
     "text": [
      "4\n",
      "None 1\n",
      "Varroa 3\n",
      "None 1\n",
      "None 1\n"
     ]
    }
   ],
   "source": [
    "# NOTE: COCO Dataset IDs start with 1\n",
    "\n",
    "images = []\n",
    "annotations = []\n",
    "licenses = []\n",
    "\n",
    "categories = [category(1, \"None\", None), category(2, \"Pollen\", None), category(3, \"Varroa\", None), category(4, \"Wasps\", None)]\n",
    "\n",
    "# License creation \"loop\"\n",
    "License_Id = 1\n",
    "Name = 'Attribution-NonCommercial-ShareAlike 4.0 International'\n",
    "Url = 'https://creativecommons.org/licenses/by-nc-sa/4.0/'\n",
    "licenses.append(license(License_Id, Name, Url))\n",
    "\n",
    "Width = 640\n",
    "Height = 640\n",
    "License = 1\n",
    "Flickr_url = None\n",
    "Coco_url = None\n",
    "\n",
    "for image_id in range(num_images):\n",
    "    Id = image_id + 1\n",
    "    # File_name =\n",
    "    Date_captured = datetime.now()\n",
    "\n",
    "    # Feeder image usage sub-loop (annotation sub-loop)\n",
    "    for bee in range(random.randint(1, num_bees)): # number of bees to include in image\n",
    "        Annotation_Id = bee\n",
    "        Image_id = Id\n",
    "\n",
    "        current_bee = os.path.normpath(random.choice(file_list)) # Grab a random bee from feeder images\n",
    "        category_name = os.path.dirname(current_bee).split('\\\\')[-1] # Get category of feeder image from containing directory\n",
    "    \n",
    "        Category_id = [i.cat_id for i in categories if i.name == category_name][0]\n",
    "        # Segmentation = None\n",
    "        # X =\n",
    "        # Y =\n",
    "        # Width =\n",
    "        # Height =\n",
    "        # Area = Width * Height\n",
    "        # Bbox = bbox(X, Y, Width, Height)\n",
    "        # Iscrowd =\n",
    "\n",
    "        #annotations.append(annotation(Annotation_Id, Image_id, Category_id, Segmentation, Area, Bbox, Iscrowd))\n",
    "    #images.append(image(Id, Width, Height, File_name, License, Flickr_url, Coco_url, Date_captured))\n",
    "\n",
    "# with open(\"custom_bee_dataset.json\", \"w\") as outfile:\n",
    "#     json.dump({\"info\": info, \"images\": images, \"annotations\": annotations, \"licenses\": licenses}, outfile, indent = 4)"
   ]
  },
  {
   "cell_type": "code",
   "execution_count": null,
   "id": "20ce2259-2523-41bc-b19a-cad4fb4c87e2",
   "metadata": {},
   "outputs": [],
   "source": []
  }
 ],
 "metadata": {
  "kernelspec": {
   "display_name": "Python 3 (ipykernel)",
   "language": "python",
   "name": "python3"
  },
  "language_info": {
   "codemirror_mode": {
    "name": "ipython",
    "version": 3
   },
   "file_extension": ".py",
   "mimetype": "text/x-python",
   "name": "python",
   "nbconvert_exporter": "python",
   "pygments_lexer": "ipython3",
   "version": "3.12.3"
  }
 },
 "nbformat": 4,
 "nbformat_minor": 5
}
